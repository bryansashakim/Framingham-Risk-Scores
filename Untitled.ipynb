{
 "cells": [
  {
   "cell_type": "code",
   "execution_count": 42,
   "metadata": {},
   "outputs": [
    {
     "ename": "ModuleNotFoundError",
     "evalue": "No module named 'tabula'",
     "output_type": "error",
     "traceback": [
      "\u001b[0;31m---------------------------------------------------------------------------\u001b[0m",
      "\u001b[0;31mModuleNotFoundError\u001b[0m                       Traceback (most recent call last)",
      "\u001b[0;32m<ipython-input-42-eb8e177dc065>\u001b[0m in \u001b[0;36m<module>\u001b[0;34m\u001b[0m\n\u001b[1;32m      4\u001b[0m \u001b[0;32mfrom\u001b[0m \u001b[0mbs4\u001b[0m \u001b[0;32mimport\u001b[0m \u001b[0mBeautifulSoup\u001b[0m\u001b[0;34m\u001b[0m\u001b[0;34m\u001b[0m\u001b[0m\n\u001b[1;32m      5\u001b[0m \u001b[0;32mimport\u001b[0m \u001b[0mrequests\u001b[0m\u001b[0;34m\u001b[0m\u001b[0;34m\u001b[0m\u001b[0m\n\u001b[0;32m----> 6\u001b[0;31m \u001b[0;32mimport\u001b[0m \u001b[0mtabula\u001b[0m\u001b[0;34m\u001b[0m\u001b[0;34m\u001b[0m\u001b[0m\n\u001b[0m",
      "\u001b[0;31mModuleNotFoundError\u001b[0m: No module named 'tabula'"
     ]
    }
   ],
   "source": [
    "import requests\n",
    "import lxml.html as lh\n",
    "import pandas as pd\n",
    "from bs4 import BeautifulSoup\n",
    "import requests\n"
   ]
  },
  {
   "cell_type": "code",
   "execution_count": 71,
   "metadata": {},
   "outputs": [
    {
     "ename": "ModuleNotFoundError",
     "evalue": "No module named 'tabula'",
     "output_type": "error",
     "traceback": [
      "\u001b[0;31m---------------------------------------------------------------------------\u001b[0m",
      "\u001b[0;31mModuleNotFoundError\u001b[0m                       Traceback (most recent call last)",
      "\u001b[0;32m<ipython-input-71-21d3fd5ede8c>\u001b[0m in \u001b[0;36m<module>\u001b[0;34m\u001b[0m\n\u001b[0;32m----> 1\u001b[0;31m \u001b[0;32mimport\u001b[0m \u001b[0mtabula\u001b[0m\u001b[0;34m\u001b[0m\u001b[0;34m\u001b[0m\u001b[0m\n\u001b[0m",
      "\u001b[0;31mModuleNotFoundError\u001b[0m: No module named 'tabula'"
     ]
    }
   ],
   "source": [
    "import tabula"
   ]
  },
  {
   "cell_type": "code",
   "execution_count": 37,
   "metadata": {
    "collapsed": true
   },
   "outputs": [],
   "source": [
    "url=\"https://www.ahajournals.org/doi/epub/10.1161/CIRCULATIONAHA.107.699579\" #Create a handle, page, to handle the contents of the website\n",
    "page = requests.get(url)#Store the contents of the website under doc\n",
    "doc = lh.fromstring(page.content)#Parse data that are stored between <tr>..</tr> of HTML\n",
    "tr_elements = doc.xpath('//td')"
   ]
  },
  {
   "cell_type": "code",
   "execution_count": 38,
   "metadata": {},
   "outputs": [
    {
     "data": {
      "text/plain": [
       "[]"
      ]
     },
     "execution_count": 38,
     "metadata": {},
     "output_type": "execute_result"
    }
   ],
   "source": [
    "#Check the length of the first 12 rows\n",
    "[len(T) for T in tr_elements[:12]]"
   ]
  },
  {
   "cell_type": "code",
   "execution_count": null,
   "metadata": {
    "collapsed": true
   },
   "outputs": [],
   "source": []
  },
  {
   "cell_type": "code",
   "execution_count": 16,
   "metadata": {
    "scrolled": false
   },
   "outputs": [
    {
     "name": "stdout",
     "output_type": "stream",
     "text": [
      "<!DOCTYPE html>\n",
      "<html id=\"simpleViewer\" xmlns:m=\"http://www.w3.org/1998/Math/MathML\">\n",
      " <head>\n",
      "  <title>\n",
      "   General Cardiovascular Risk Profile for Use in Primary Care\n",
      "  </title>\n",
      "  <meta content=\"IE=EDGE\" http-equiv=\"X-UA-Compatible\"/>\n",
      "  <meta charset=\"utf-8\"/>\n",
      "  <meta content=\"width=device-width, initial-scale=1.0\" name=\"viewport\"/>\n",
      "  <link href=\"/cloud-reader/dist/css/readium-all.css\" rel=\"stylesheet\" type=\"text/css\"/>\n",
      "  <link href=\"/cloud-reader/resources/gen/custom/css/app.css\" rel=\"stylesheet\" type=\"text/css\"/>\n",
      "  <link href=\"https://fonts.googleapis.com/css?family=Open+Sans:300,400,600,700&amp;display=swap\" media=\"print\" onload=\"this.media='all'\" rel=\"stylesheet\"/>\n",
      "  <script type=\"text/javascript\">\n",
      "   window.LIT = window.LIT || {};\n",
      "    LIT.Reader = LIT.Reader || {};\n",
      "    LIT.Reader.LogEnabled = false;\n",
      "    window.READER_OFFLINE = navigator && navigator.onLine === false;\n",
      "    \n",
      "    var verifyOfflineMode = function () {\n",
      "        \n",
      "        var xhr = new XMLHttpRequest();\n",
      "        xhr.onreadystatechange = function () {\n",
      "            window.READER_OFFLINE = xhr.readyState === 4 && xhr.status !== 200;\n",
      "            if (window.READER_OFFLINE && true) {\n",
      "                \n",
      "                fetch('/cloud-reader/dist/scripts/mathjax/MathJax.min.js').then(function (res) {\n",
      "                    res.text().then(function (txt) {\n",
      "                        LIT.Reader.MathJaxUrl = window.URL.createObjectURL(new Blob([txt], {'type': 'text/javascript'}));\n",
      "                    })\n",
      "                })\n",
      "            }\n",
      "        };\n",
      "        xhr.open(\"HEAD\", \"/templates/jsp/images/singlePixel.gif?t=\" + new Date().getTime());\n",
      "        \n",
      "        xhr.setRequestHeader(\"Cache-Control\", \"no-cache,must-revalidate,max-age=0\");\n",
      "        xhr.setRequestHeader(\"Pragma\", \"no-cache\");\n",
      "        xhr.send();\n",
      "    };\n",
      "    \n",
      "    verifyOfflineMode();\n",
      "\n",
      "    var path = (window.location && window.location.pathname) ? window.location.pathname : '';\n",
      "\n",
      "    \n",
      "    path = path.replace(/(.*)\\/.*\\.[x]?html$/, \"$1\");\n",
      "\n",
      "    \n",
      "    path = path.charAt(path.length - 1) === '/'\n",
      "        ? path.substr(0, path.length - 1)\n",
      "        : path;\n",
      "\n",
      "    \n",
      "    var readerResourcesPath = \"/cloud-reader/dist\";\n",
      "\n",
      "    var HTTPServerRootFolder =\n",
      "        window.location ? (\n",
      "            window.location.protocol\n",
      "            + \"//\"\n",
      "            + window.location.hostname\n",
      "            + (window.location.port ? (':' + window.location.port) : '')\n",
      "            + readerResourcesPath\n",
      "        ) : ''\n",
      "    ;\n",
      "  </script>\n",
      " </head>\n",
      " <body>\n",
      "  <noscript>\n",
      "   <div class=\"popup_container full noScript\" id=\"alert_box\">\n",
      "    <div class=\"popup_content\">\n",
      "     <div class=\"flex-container\">\n",
      "      <div class=\"text\">\n",
      "       <span class=\"popupIcon icon material-icons\" data-type=\"\">\n",
      "        error_outline\n",
      "       </span>\n",
      "       <div>\n",
      "        <h1 class=\"popupTitle\">\n",
      "         JavaScript disabled\n",
      "        </h1>\n",
      "        <p class=\"popupDescription\">\n",
      "         You have to enable JavaScript in your browser's settings in order to use the eReader.\n",
      "        </p>\n",
      "        <p class=\"popupDescription\">\n",
      "         Or try downloading the content offline\n",
      "        </p>\n",
      "        <a class=\"btn--bordered__light\" href=\"/doi/epub/10.1161/CIRCULATIONAHA.107.699579?download=true\" target=\"_blank\">\n",
      "         DOWNLOAD\n",
      "        </a>\n",
      "       </div>\n",
      "      </div>\n",
      "     </div>\n",
      "    </div>\n",
      "   </div>\n",
      "  </noscript>\n",
      "  <nav aria-label=\"{{Strings.i18n_toolbar}}\" class=\"navbar\" id=\"app-navbar\" role=\"banner\">\n",
      "  </nav>\n",
      "  <div id=\"app-container\">\n",
      "  </div>\n",
      "  <script type=\"text/javascript\">\n",
      "   var readerConfig = {\"user\":{\"isLoggedIn\":false,\"loginLink\":\"/action/ssostart?idp\\u003dhttps://ahasso.heart.org\\u0026redirectUri\\u003d%2Fdoi%2Fepub%2F10.1161%2FCIRCULATIONAHA.107.699579\",\"registerLink\":\"https://www.ahajournals.org/action/registration?redirectUri\\u003d%2Fdoi%2Fepub%2F10.1161%2FCIRCULATIONAHA.107.699579\"},\"readingProgress\":{\"syncProgress\":false,\"syncUrl\":\"/reader/saveProgress\",\"retrieveUrl\":\"/reader/retrieveProgress\"},\"doi\":\"10.1161/CIRCULATIONAHA.107.699579\",\"title\":\"General Cardiovascular Risk Profile for Use in Primary Care\",\"epubConfig\":{\"overrideEpubUrlParam\":true,\"epubUrl\":\"/reader/content/10.1161/CIRCULATIONAHA.107.699579/format/epub\"},\"epubActions\":{\"offline\":{\"available\":true,\"fileSize\":\"541.6 KB\",\"simultaneousRetrievalsLimit\":1},\"download\":{\"files\":{\"pdf\":{\"shortCode\":\"pdf\",\"name\":\"PDF\",\"available\":true,\"size\":\"140.2 KB\",\"url\":\"/doi/pdf/10.1161/CIRCULATIONAHA.107.699579?download\\u003dtrue\"},\"epub\":{\"shortCode\":\"epub\",\"name\":\"EPUB\",\"available\":true,\"size\":\"541.6 KB\",\"url\":\"/doi/epub/10.1161/CIRCULATIONAHA.107.699579?download\\u003dtrue\"}}},\"print\":true,\"shareAccess\":false,\"preview\":false,\"rental\":false,\"print_pdf_pages\":10},\"displayOptions\":{\"displayFormat\":\"auto\",\"displayMode\":\"scroll-continuous\"},\"annotationsConfig\":{\"enabled\":true,\"providers\":[{\"name\":\"remarq\",\"title\":\"Remarq\",\"order\":1,\"src\":\"https://ataprod.remarqable.com/groveMain.bundle.js\",\"apiBase\":\"https://ataprod.remarqable.com/api\",\"version\":\"liter\"}]},\"materialTabs\":{\"figuresSuppressed\":false,\"mediaSuppressed\":false,\"tablesSuppressed\":false,\"supplementsSuppressed\":false,\"linkOutUrl\":\"/doi/suppl/10.1161/CIRCULATIONAHA.107.699579\",\"supplementsLinkOut\":false,\"openDownloadLinkInNewTab\":false},\"analyticsConfig\":{\"enabled\":true,\"providers\":[{\"enabled\":false,\"name\":\"atm\",\"siteId\":\"\",\"version\":\"\",\"url\":\"?doi\\u003d10.1161/CIRCULATIONAHA.107.699579\\u0026format\\u003depub\"}]},\"waterMarkConfig\":{\"enabled\":true,\"defaultMessage\":\"Printed by [American Heart Association Journals- 024.218.219.180- https://www.ahajournals.org/doi/epub/10.1161/CIRCULATIONAHA.107.699579]\",\"optionalMessage\":\"\",\"location\":\"right\"},\"metadataUrl\":\"/doi/reader/metadata/10.1161/CIRCULATIONAHA.107.699579\",\"referencesUrl\":\"/doi/reader/references/10.1161/CIRCULATIONAHA.107.699579\",\"citedByUrl\":\"/doi/reader/citedBy/10.1161/CIRCULATIONAHA.107.699579\",\"figuresUrl\":\"/doi/reader/figures/10.1161/CIRCULATIONAHA.107.699579\",\"tablesUrl\":\"/doi/reader/tables/10.1161/CIRCULATIONAHA.107.699579\",\"mediaUrl\":\"/doi/reader/media/10.1161/CIRCULATIONAHA.107.699579\",\"recommendationsUrl\":\"/doi/reader/recommended/10.1161/CIRCULATIONAHA.107.699579\",\"siteUrl\":\"/doi/10.1161/CIRCULATIONAHA.107.699579\",\"searchUrl\":\"/reader/search\",\"currentUrl\":\"https://www.ahajournals.org/doi/epub/10.1161/CIRCULATIONAHA.107.699579\",\"permissionsUrl\":\"/action/availableUsageRights\",\"consumePermissionsUrl\":\"/action/consumeUsage\",\"format\":\"epub\",\"publicationType\":\"article\",\"citationsExportUrl\":\"/action/showCitFormats?doi\\u003d10.1161%2FCIRCULATIONAHA.107.699579\\u0026mobileUi\\u003d0\",\"dbStoreName\":\"readerOfflineStore\",\"shareAccessUrl\":\"/action/generateShareUrl\",\"recommendedEnabled\":false,\"permissionsEnabled\":false,\"isDragAndDropEnabled\":false,\"isOfflineSupportedForBrowser\":true,\"isOfflineDisabled\":false,\"isDownloadDisabled\":false,\"isShareDisabled\":false,\"isPrintDisabled\":false,\"nodeNavigationDisabled\":false,\"usageRightsEnabled\":true,\"print_pdf_pages\":0,\"authorizeSharing\":\"/action/authorizeSharing\",\"shareMode\":false,\"sharedAccessConfig\":{\"alwaysDisplaySharingTermsPopup\":false,\"hasButton\":false,\"shareSponsorMessage\":\"This is a sponsor message (to be overridden)\",\"shareMediaMessage\":\"This is a media sharing message (to be overridden)\",\"isShared\":false,\"isPermissionEnabled\":false,\"isShareBannerEnabled\":false,\"isGetAccessButtonVisible\":false},\"inDocAdsEnabled\":true,\"suspendAdsInSinglePagePdfs\":true,\"adsImpressionDuration\":0,\"campaignUrl\":\"/action/showReaderCampaign?doi\\u003d10.1161%2FCIRCULATIONAHA.107.699579\",\"eventsConfig\":{\"readerEventsAnalyticsUrl\":\"/action/readerEventsAnalytics?doi\\u003d10.1161%2FCIRCULATIONAHA.107.699579\\u0026format\\u003depub\",\"adImpressionDuration\":5000,\"episodeRemainingTime\":300000,\"enabled\":false},\"content_buffer_size\":2000,\"isPrintSupportedForBrowser\":true,\"isMaterialDownloadable\":true,\"isEpubLazyLoadingEnabled\":true,\"isPdfLazyLoadingEnabled\":true,\"loadedPagesLimit\":5,\"maxPdfKeepSize\":20,\"switchFormats\":{\"enabled\":true,\"current\":\"epub\",\"available\":{\"pdf\":{\"name\":\"pdf\",\"url\":\"https://www.ahajournals.org/doi/pdf/10.1161/CIRCULATIONAHA.107.699579\"},\"epub\":{\"name\":\"epub\",\"url\":\"https://www.ahajournals.org/doi/epub/10.1161/CIRCULATIONAHA.107.699579\"}}},\"supplementsUrl\":\"/action/showReaderSupplements?doi\\u003d10.1161%2FCIRCULATIONAHA.107.699579\",\"tabsSuppressionConfig\":{\"materialsSuppressed\":false,\"notesSuppressed\":false,\"linksSuppressed\":false},\"fetchFiguresFromEpub\":false,\"mediaPlayersConfig\":{\"enabled\":false,\"player\":{\"enabled\":false,\"name\":\"flowplayer\",\"css\":\"//releases.flowplayer.org/6.0.5/commercial/skin/functional.css\",\"key\":\"$794688194011754\",\"playerScript\":\"//releases.flowplayer.org/6.0.5/flowplayer.min.js\"}},\"adsInclusionEnabled\":false,\"helpEnabled\":false,\"profileConfig\":{\"activeProfile\":\"DEFAULT\",\"printSuppressed\":false,\"offlineSuppressed\":false,\"downloadSuppressed\":false,\"switchFormatsSuppressed\":false,\"materialsSuppressed\":false,\"notesSuppressed\":false,\"linksSuppressed\":false,\"infoSuppressed\":false,\"siteLinkOutSuppressed\":false,\"accessSharingSuppressed\":false},\"termsAndConditionsUrl\":\"https://journals.lww.com/_layouts/15/oaks.journals/terms.aspx\"};\n",
      "            readerConfig.libraryPath='/reader/library';\n",
      "  </script>\n",
      "  <script type=\"text/javascript\">\n",
      "   LIT.Reader.config = {\n",
      "        /* http://requirejs.org/docs/api.html#config-waitSeconds */\n",
      "        waitSeconds: 0,\n",
      "        config: {\n",
      "            'readium_js_viewer/ModuleConfig': {\n",
      "                'mathJaxUrl': HTTPServerRootFolder + '/scripts/mathjax/MathJax.min.js',\n",
      "                'annotationCSSUrl': HTTPServerRootFolder + '/css/annotations.css',\n",
      "                'jsLibRoot': HTTPServerRootFolder + '/scripts/zip/',\n",
      "                'useSimpleLoader': false,\n",
      "                'epubLibraryPath': undefined,\n",
      "                'imagePathPrefix': '/cloud-reader/src/',\n",
      "                'canHandleUrl': false,\n",
      "                'canHandleDirectory': false,\n",
      "                'workerUrl': undefined,\n",
      "                'epubReadingSystemUrl': undefined,\n",
      "                \"customConfig\": readerConfig\n",
      "            }\n",
      "        }\n",
      "    };\n",
      "  </script>\n",
      "  <script async=\"\" src=\"/templates/jsp/cloudReader/js/cache-update.js\" type=\"text/javascript\">\n",
      "  </script>\n",
      "  <script src=\"/cloud-reader/dist/scripts/readium-js-viewer_all_LITE.js\" type=\"text/javascript\">\n",
      "  </script>\n",
      "  <script type=\"text/javascript\">\n",
      "   require.config(LIT.Reader.config);\n",
      "  </script>\n",
      "  <script async=\"\" src=\"/cloud-reader/dist/scripts/readium-additional-libs.js\" type=\"text/javascript\">\n",
      "  </script>\n",
      "  <script type=\"module\">\n",
      "   if ('serviceWorker' in navigator && !window.READER_OFFLINE) {\n",
      "                            window.addEventListener(\"load\", function (evt) {\n",
      "                                \n",
      "                                var CACHE_BUSTER_MARKER = 3;\n",
      "\n",
      "                                var assetsCacheName = 'readerAssetsCache-901726-' + CACHE_BUSTER_MARKER;\n",
      "                                var readerContentUrl = window.location.pathname;\n",
      "                                import ('/templates/jsp/cloudReader/js/readerServiceWorkerHelper.js').then(function (swHelper) {\n",
      "                                    swHelper.registerServiceWorkers(false, readerContentUrl, readerContentPage, assetsCacheName, readerConfig.format);\n",
      "                                });\n",
      "                            });\n",
      "                            \n",
      "                            var readerContentPage = \"<!DOCTYPE html>\"+$('html')[0].outerHTML;\n",
      "                        }\n",
      "  </script>\n",
      " </body>\n",
      "</html>\n",
      "\n"
     ]
    }
   ],
   "source": [
    "url=\"https://www.ahajournals.org/doi/epub/10.1161/CIRCULATIONAHA.107.699579\"\n",
    "\n",
    "# Make a GET request to fetch the raw HTML content\n",
    "html_content = requests.get(url).text\n",
    "\n",
    "# Parse the html content\n",
    "soup = BeautifulSoup(html_content, \"lxml\")\n",
    "print(soup.prettify()) # print the parsed data of html"
   ]
  },
  {
   "cell_type": "code",
   "execution_count": 17,
   "metadata": {},
   "outputs": [
    {
     "name": "stdout",
     "output_type": "stream",
     "text": [
      "<title>General Cardiovascular Risk Profile for Use in Primary Care</title>\n"
     ]
    }
   ],
   "source": [
    "print(soup.title)"
   ]
  },
  {
   "cell_type": "code",
   "execution_count": 23,
   "metadata": {},
   "outputs": [
    {
     "ename": "HTTPError",
     "evalue": "HTTP Error 403: Forbidden",
     "output_type": "error",
     "traceback": [
      "\u001b[0;31m---------------------------------------------------------------------------\u001b[0m",
      "\u001b[0;31mHTTPError\u001b[0m                                 Traceback (most recent call last)",
      "\u001b[0;32m<ipython-input-23-8c6272d508cc>\u001b[0m in \u001b[0;36m<module>\u001b[0;34m\u001b[0m\n\u001b[1;32m      1\u001b[0m \u001b[0mURL\u001b[0m \u001b[0;34m=\u001b[0m \u001b[0;34m\"https://www.ahajournals.org/doi/epub/10.1161/CIRCULATIONAHA.107.699579\"\u001b[0m\u001b[0;34m\u001b[0m\u001b[0;34m\u001b[0m\u001b[0m\n\u001b[0;32m----> 2\u001b[0;31m \u001b[0mtables\u001b[0m \u001b[0;34m=\u001b[0m \u001b[0mpd\u001b[0m\u001b[0;34m.\u001b[0m\u001b[0mread_html\u001b[0m\u001b[0;34m(\u001b[0m\u001b[0mURL\u001b[0m\u001b[0;34m)\u001b[0m\u001b[0;34m\u001b[0m\u001b[0;34m\u001b[0m\u001b[0m\n\u001b[0m",
      "\u001b[0;32m~/opt/miniconda3/envs/p36workshop/lib/python3.6/site-packages/pandas/io/html.py\u001b[0m in \u001b[0;36mread_html\u001b[0;34m(io, match, flavor, header, index_col, skiprows, attrs, parse_dates, thousands, encoding, decimal, converters, na_values, keep_default_na, displayed_only)\u001b[0m\n\u001b[1;32m   1098\u001b[0m         \u001b[0mna_values\u001b[0m\u001b[0;34m=\u001b[0m\u001b[0mna_values\u001b[0m\u001b[0;34m,\u001b[0m\u001b[0;34m\u001b[0m\u001b[0;34m\u001b[0m\u001b[0m\n\u001b[1;32m   1099\u001b[0m         \u001b[0mkeep_default_na\u001b[0m\u001b[0;34m=\u001b[0m\u001b[0mkeep_default_na\u001b[0m\u001b[0;34m,\u001b[0m\u001b[0;34m\u001b[0m\u001b[0;34m\u001b[0m\u001b[0m\n\u001b[0;32m-> 1100\u001b[0;31m         \u001b[0mdisplayed_only\u001b[0m\u001b[0;34m=\u001b[0m\u001b[0mdisplayed_only\u001b[0m\u001b[0;34m,\u001b[0m\u001b[0;34m\u001b[0m\u001b[0;34m\u001b[0m\u001b[0m\n\u001b[0m\u001b[1;32m   1101\u001b[0m     )\n",
      "\u001b[0;32m~/opt/miniconda3/envs/p36workshop/lib/python3.6/site-packages/pandas/io/html.py\u001b[0m in \u001b[0;36m_parse\u001b[0;34m(flavor, io, match, attrs, encoding, displayed_only, **kwargs)\u001b[0m\n\u001b[1;32m    893\u001b[0m \u001b[0;34m\u001b[0m\u001b[0m\n\u001b[1;32m    894\u001b[0m         \u001b[0;32mtry\u001b[0m\u001b[0;34m:\u001b[0m\u001b[0;34m\u001b[0m\u001b[0;34m\u001b[0m\u001b[0m\n\u001b[0;32m--> 895\u001b[0;31m             \u001b[0mtables\u001b[0m \u001b[0;34m=\u001b[0m \u001b[0mp\u001b[0m\u001b[0;34m.\u001b[0m\u001b[0mparse_tables\u001b[0m\u001b[0;34m(\u001b[0m\u001b[0;34m)\u001b[0m\u001b[0;34m\u001b[0m\u001b[0;34m\u001b[0m\u001b[0m\n\u001b[0m\u001b[1;32m    896\u001b[0m         \u001b[0;32mexcept\u001b[0m \u001b[0mValueError\u001b[0m \u001b[0;32mas\u001b[0m \u001b[0mcaught\u001b[0m\u001b[0;34m:\u001b[0m\u001b[0;34m\u001b[0m\u001b[0;34m\u001b[0m\u001b[0m\n\u001b[1;32m    897\u001b[0m             \u001b[0;31m# if `io` is an io-like object, check if it's seekable\u001b[0m\u001b[0;34m\u001b[0m\u001b[0;34m\u001b[0m\u001b[0;34m\u001b[0m\u001b[0m\n",
      "\u001b[0;32m~/opt/miniconda3/envs/p36workshop/lib/python3.6/site-packages/pandas/io/html.py\u001b[0m in \u001b[0;36mparse_tables\u001b[0;34m(self)\u001b[0m\n\u001b[1;32m    211\u001b[0m         \u001b[0mlist\u001b[0m \u001b[0mof\u001b[0m \u001b[0mparsed\u001b[0m \u001b[0;34m(\u001b[0m\u001b[0mheader\u001b[0m\u001b[0;34m,\u001b[0m \u001b[0mbody\u001b[0m\u001b[0;34m,\u001b[0m \u001b[0mfooter\u001b[0m\u001b[0;34m)\u001b[0m \u001b[0mtuples\u001b[0m \u001b[0;32mfrom\u001b[0m \u001b[0mtables\u001b[0m\u001b[0;34m.\u001b[0m\u001b[0;34m\u001b[0m\u001b[0;34m\u001b[0m\u001b[0m\n\u001b[1;32m    212\u001b[0m         \"\"\"\n\u001b[0;32m--> 213\u001b[0;31m         \u001b[0mtables\u001b[0m \u001b[0;34m=\u001b[0m \u001b[0mself\u001b[0m\u001b[0;34m.\u001b[0m\u001b[0m_parse_tables\u001b[0m\u001b[0;34m(\u001b[0m\u001b[0mself\u001b[0m\u001b[0;34m.\u001b[0m\u001b[0m_build_doc\u001b[0m\u001b[0;34m(\u001b[0m\u001b[0;34m)\u001b[0m\u001b[0;34m,\u001b[0m \u001b[0mself\u001b[0m\u001b[0;34m.\u001b[0m\u001b[0mmatch\u001b[0m\u001b[0;34m,\u001b[0m \u001b[0mself\u001b[0m\u001b[0;34m.\u001b[0m\u001b[0mattrs\u001b[0m\u001b[0;34m)\u001b[0m\u001b[0;34m\u001b[0m\u001b[0;34m\u001b[0m\u001b[0m\n\u001b[0m\u001b[1;32m    214\u001b[0m         \u001b[0;32mreturn\u001b[0m \u001b[0;34m(\u001b[0m\u001b[0mself\u001b[0m\u001b[0;34m.\u001b[0m\u001b[0m_parse_thead_tbody_tfoot\u001b[0m\u001b[0;34m(\u001b[0m\u001b[0mtable\u001b[0m\u001b[0;34m)\u001b[0m \u001b[0;32mfor\u001b[0m \u001b[0mtable\u001b[0m \u001b[0;32min\u001b[0m \u001b[0mtables\u001b[0m\u001b[0;34m)\u001b[0m\u001b[0;34m\u001b[0m\u001b[0;34m\u001b[0m\u001b[0m\n\u001b[1;32m    215\u001b[0m \u001b[0;34m\u001b[0m\u001b[0m\n",
      "\u001b[0;32m~/opt/miniconda3/envs/p36workshop/lib/python3.6/site-packages/pandas/io/html.py\u001b[0m in \u001b[0;36m_build_doc\u001b[0;34m(self)\u001b[0m\n\u001b[1;32m    731\u001b[0m                     \u001b[0;32mpass\u001b[0m\u001b[0;34m\u001b[0m\u001b[0;34m\u001b[0m\u001b[0m\n\u001b[1;32m    732\u001b[0m             \u001b[0;32melse\u001b[0m\u001b[0;34m:\u001b[0m\u001b[0;34m\u001b[0m\u001b[0;34m\u001b[0m\u001b[0m\n\u001b[0;32m--> 733\u001b[0;31m                 \u001b[0;32mraise\u001b[0m \u001b[0me\u001b[0m\u001b[0;34m\u001b[0m\u001b[0;34m\u001b[0m\u001b[0m\n\u001b[0m\u001b[1;32m    734\u001b[0m         \u001b[0;32melse\u001b[0m\u001b[0;34m:\u001b[0m\u001b[0;34m\u001b[0m\u001b[0;34m\u001b[0m\u001b[0m\n\u001b[1;32m    735\u001b[0m             \u001b[0;32mif\u001b[0m \u001b[0;32mnot\u001b[0m \u001b[0mhasattr\u001b[0m\u001b[0;34m(\u001b[0m\u001b[0mr\u001b[0m\u001b[0;34m,\u001b[0m \u001b[0;34m\"text_content\"\u001b[0m\u001b[0;34m)\u001b[0m\u001b[0;34m:\u001b[0m\u001b[0;34m\u001b[0m\u001b[0;34m\u001b[0m\u001b[0m\n",
      "\u001b[0;32m~/opt/miniconda3/envs/p36workshop/lib/python3.6/site-packages/pandas/io/html.py\u001b[0m in \u001b[0;36m_build_doc\u001b[0;34m(self)\u001b[0m\n\u001b[1;32m    712\u001b[0m         \u001b[0;32mtry\u001b[0m\u001b[0;34m:\u001b[0m\u001b[0;34m\u001b[0m\u001b[0;34m\u001b[0m\u001b[0m\n\u001b[1;32m    713\u001b[0m             \u001b[0;32mif\u001b[0m \u001b[0mis_url\u001b[0m\u001b[0;34m(\u001b[0m\u001b[0mself\u001b[0m\u001b[0;34m.\u001b[0m\u001b[0mio\u001b[0m\u001b[0;34m)\u001b[0m\u001b[0;34m:\u001b[0m\u001b[0;34m\u001b[0m\u001b[0;34m\u001b[0m\u001b[0m\n\u001b[0;32m--> 714\u001b[0;31m                 \u001b[0;32mwith\u001b[0m \u001b[0murlopen\u001b[0m\u001b[0;34m(\u001b[0m\u001b[0mself\u001b[0m\u001b[0;34m.\u001b[0m\u001b[0mio\u001b[0m\u001b[0;34m)\u001b[0m \u001b[0;32mas\u001b[0m \u001b[0mf\u001b[0m\u001b[0;34m:\u001b[0m\u001b[0;34m\u001b[0m\u001b[0;34m\u001b[0m\u001b[0m\n\u001b[0m\u001b[1;32m    715\u001b[0m                     \u001b[0mr\u001b[0m \u001b[0;34m=\u001b[0m \u001b[0mparse\u001b[0m\u001b[0;34m(\u001b[0m\u001b[0mf\u001b[0m\u001b[0;34m,\u001b[0m \u001b[0mparser\u001b[0m\u001b[0;34m=\u001b[0m\u001b[0mparser\u001b[0m\u001b[0;34m)\u001b[0m\u001b[0;34m\u001b[0m\u001b[0;34m\u001b[0m\u001b[0m\n\u001b[1;32m    716\u001b[0m             \u001b[0;32melse\u001b[0m\u001b[0;34m:\u001b[0m\u001b[0;34m\u001b[0m\u001b[0;34m\u001b[0m\u001b[0m\n",
      "\u001b[0;32m~/opt/miniconda3/envs/p36workshop/lib/python3.6/site-packages/pandas/io/common.py\u001b[0m in \u001b[0;36murlopen\u001b[0;34m(*args, **kwargs)\u001b[0m\n\u001b[1;32m    139\u001b[0m     \u001b[0;32mimport\u001b[0m \u001b[0murllib\u001b[0m\u001b[0;34m.\u001b[0m\u001b[0mrequest\u001b[0m\u001b[0;34m\u001b[0m\u001b[0;34m\u001b[0m\u001b[0m\n\u001b[1;32m    140\u001b[0m \u001b[0;34m\u001b[0m\u001b[0m\n\u001b[0;32m--> 141\u001b[0;31m     \u001b[0;32mreturn\u001b[0m \u001b[0murllib\u001b[0m\u001b[0;34m.\u001b[0m\u001b[0mrequest\u001b[0m\u001b[0;34m.\u001b[0m\u001b[0murlopen\u001b[0m\u001b[0;34m(\u001b[0m\u001b[0;34m*\u001b[0m\u001b[0margs\u001b[0m\u001b[0;34m,\u001b[0m \u001b[0;34m**\u001b[0m\u001b[0mkwargs\u001b[0m\u001b[0;34m)\u001b[0m\u001b[0;34m\u001b[0m\u001b[0;34m\u001b[0m\u001b[0m\n\u001b[0m\u001b[1;32m    142\u001b[0m \u001b[0;34m\u001b[0m\u001b[0m\n\u001b[1;32m    143\u001b[0m \u001b[0;34m\u001b[0m\u001b[0m\n",
      "\u001b[0;32m~/opt/miniconda3/envs/p36workshop/lib/python3.6/urllib/request.py\u001b[0m in \u001b[0;36murlopen\u001b[0;34m(url, data, timeout, cafile, capath, cadefault, context)\u001b[0m\n\u001b[1;32m    221\u001b[0m     \u001b[0;32melse\u001b[0m\u001b[0;34m:\u001b[0m\u001b[0;34m\u001b[0m\u001b[0;34m\u001b[0m\u001b[0m\n\u001b[1;32m    222\u001b[0m         \u001b[0mopener\u001b[0m \u001b[0;34m=\u001b[0m \u001b[0m_opener\u001b[0m\u001b[0;34m\u001b[0m\u001b[0;34m\u001b[0m\u001b[0m\n\u001b[0;32m--> 223\u001b[0;31m     \u001b[0;32mreturn\u001b[0m \u001b[0mopener\u001b[0m\u001b[0;34m.\u001b[0m\u001b[0mopen\u001b[0m\u001b[0;34m(\u001b[0m\u001b[0murl\u001b[0m\u001b[0;34m,\u001b[0m \u001b[0mdata\u001b[0m\u001b[0;34m,\u001b[0m \u001b[0mtimeout\u001b[0m\u001b[0;34m)\u001b[0m\u001b[0;34m\u001b[0m\u001b[0;34m\u001b[0m\u001b[0m\n\u001b[0m\u001b[1;32m    224\u001b[0m \u001b[0;34m\u001b[0m\u001b[0m\n\u001b[1;32m    225\u001b[0m \u001b[0;32mdef\u001b[0m \u001b[0minstall_opener\u001b[0m\u001b[0;34m(\u001b[0m\u001b[0mopener\u001b[0m\u001b[0;34m)\u001b[0m\u001b[0;34m:\u001b[0m\u001b[0;34m\u001b[0m\u001b[0;34m\u001b[0m\u001b[0m\n",
      "\u001b[0;32m~/opt/miniconda3/envs/p36workshop/lib/python3.6/urllib/request.py\u001b[0m in \u001b[0;36mopen\u001b[0;34m(self, fullurl, data, timeout)\u001b[0m\n\u001b[1;32m    530\u001b[0m         \u001b[0;32mfor\u001b[0m \u001b[0mprocessor\u001b[0m \u001b[0;32min\u001b[0m \u001b[0mself\u001b[0m\u001b[0;34m.\u001b[0m\u001b[0mprocess_response\u001b[0m\u001b[0;34m.\u001b[0m\u001b[0mget\u001b[0m\u001b[0;34m(\u001b[0m\u001b[0mprotocol\u001b[0m\u001b[0;34m,\u001b[0m \u001b[0;34m[\u001b[0m\u001b[0;34m]\u001b[0m\u001b[0;34m)\u001b[0m\u001b[0;34m:\u001b[0m\u001b[0;34m\u001b[0m\u001b[0;34m\u001b[0m\u001b[0m\n\u001b[1;32m    531\u001b[0m             \u001b[0mmeth\u001b[0m \u001b[0;34m=\u001b[0m \u001b[0mgetattr\u001b[0m\u001b[0;34m(\u001b[0m\u001b[0mprocessor\u001b[0m\u001b[0;34m,\u001b[0m \u001b[0mmeth_name\u001b[0m\u001b[0;34m)\u001b[0m\u001b[0;34m\u001b[0m\u001b[0;34m\u001b[0m\u001b[0m\n\u001b[0;32m--> 532\u001b[0;31m             \u001b[0mresponse\u001b[0m \u001b[0;34m=\u001b[0m \u001b[0mmeth\u001b[0m\u001b[0;34m(\u001b[0m\u001b[0mreq\u001b[0m\u001b[0;34m,\u001b[0m \u001b[0mresponse\u001b[0m\u001b[0;34m)\u001b[0m\u001b[0;34m\u001b[0m\u001b[0;34m\u001b[0m\u001b[0m\n\u001b[0m\u001b[1;32m    533\u001b[0m \u001b[0;34m\u001b[0m\u001b[0m\n\u001b[1;32m    534\u001b[0m         \u001b[0;32mreturn\u001b[0m \u001b[0mresponse\u001b[0m\u001b[0;34m\u001b[0m\u001b[0;34m\u001b[0m\u001b[0m\n",
      "\u001b[0;32m~/opt/miniconda3/envs/p36workshop/lib/python3.6/urllib/request.py\u001b[0m in \u001b[0;36mhttp_response\u001b[0;34m(self, request, response)\u001b[0m\n\u001b[1;32m    640\u001b[0m         \u001b[0;32mif\u001b[0m \u001b[0;32mnot\u001b[0m \u001b[0;34m(\u001b[0m\u001b[0;36m200\u001b[0m \u001b[0;34m<=\u001b[0m \u001b[0mcode\u001b[0m \u001b[0;34m<\u001b[0m \u001b[0;36m300\u001b[0m\u001b[0;34m)\u001b[0m\u001b[0;34m:\u001b[0m\u001b[0;34m\u001b[0m\u001b[0;34m\u001b[0m\u001b[0m\n\u001b[1;32m    641\u001b[0m             response = self.parent.error(\n\u001b[0;32m--> 642\u001b[0;31m                 'http', request, response, code, msg, hdrs)\n\u001b[0m\u001b[1;32m    643\u001b[0m \u001b[0;34m\u001b[0m\u001b[0m\n\u001b[1;32m    644\u001b[0m         \u001b[0;32mreturn\u001b[0m \u001b[0mresponse\u001b[0m\u001b[0;34m\u001b[0m\u001b[0;34m\u001b[0m\u001b[0m\n",
      "\u001b[0;32m~/opt/miniconda3/envs/p36workshop/lib/python3.6/urllib/request.py\u001b[0m in \u001b[0;36merror\u001b[0;34m(self, proto, *args)\u001b[0m\n\u001b[1;32m    568\u001b[0m         \u001b[0;32mif\u001b[0m \u001b[0mhttp_err\u001b[0m\u001b[0;34m:\u001b[0m\u001b[0;34m\u001b[0m\u001b[0;34m\u001b[0m\u001b[0m\n\u001b[1;32m    569\u001b[0m             \u001b[0margs\u001b[0m \u001b[0;34m=\u001b[0m \u001b[0;34m(\u001b[0m\u001b[0mdict\u001b[0m\u001b[0;34m,\u001b[0m \u001b[0;34m'default'\u001b[0m\u001b[0;34m,\u001b[0m \u001b[0;34m'http_error_default'\u001b[0m\u001b[0;34m)\u001b[0m \u001b[0;34m+\u001b[0m \u001b[0morig_args\u001b[0m\u001b[0;34m\u001b[0m\u001b[0;34m\u001b[0m\u001b[0m\n\u001b[0;32m--> 570\u001b[0;31m             \u001b[0;32mreturn\u001b[0m \u001b[0mself\u001b[0m\u001b[0;34m.\u001b[0m\u001b[0m_call_chain\u001b[0m\u001b[0;34m(\u001b[0m\u001b[0;34m*\u001b[0m\u001b[0margs\u001b[0m\u001b[0;34m)\u001b[0m\u001b[0;34m\u001b[0m\u001b[0;34m\u001b[0m\u001b[0m\n\u001b[0m\u001b[1;32m    571\u001b[0m \u001b[0;34m\u001b[0m\u001b[0m\n\u001b[1;32m    572\u001b[0m \u001b[0;31m# XXX probably also want an abstract factory that knows when it makes\u001b[0m\u001b[0;34m\u001b[0m\u001b[0;34m\u001b[0m\u001b[0;34m\u001b[0m\u001b[0m\n",
      "\u001b[0;32m~/opt/miniconda3/envs/p36workshop/lib/python3.6/urllib/request.py\u001b[0m in \u001b[0;36m_call_chain\u001b[0;34m(self, chain, kind, meth_name, *args)\u001b[0m\n\u001b[1;32m    502\u001b[0m         \u001b[0;32mfor\u001b[0m \u001b[0mhandler\u001b[0m \u001b[0;32min\u001b[0m \u001b[0mhandlers\u001b[0m\u001b[0;34m:\u001b[0m\u001b[0;34m\u001b[0m\u001b[0;34m\u001b[0m\u001b[0m\n\u001b[1;32m    503\u001b[0m             \u001b[0mfunc\u001b[0m \u001b[0;34m=\u001b[0m \u001b[0mgetattr\u001b[0m\u001b[0;34m(\u001b[0m\u001b[0mhandler\u001b[0m\u001b[0;34m,\u001b[0m \u001b[0mmeth_name\u001b[0m\u001b[0;34m)\u001b[0m\u001b[0;34m\u001b[0m\u001b[0;34m\u001b[0m\u001b[0m\n\u001b[0;32m--> 504\u001b[0;31m             \u001b[0mresult\u001b[0m \u001b[0;34m=\u001b[0m \u001b[0mfunc\u001b[0m\u001b[0;34m(\u001b[0m\u001b[0;34m*\u001b[0m\u001b[0margs\u001b[0m\u001b[0;34m)\u001b[0m\u001b[0;34m\u001b[0m\u001b[0;34m\u001b[0m\u001b[0m\n\u001b[0m\u001b[1;32m    505\u001b[0m             \u001b[0;32mif\u001b[0m \u001b[0mresult\u001b[0m \u001b[0;32mis\u001b[0m \u001b[0;32mnot\u001b[0m \u001b[0;32mNone\u001b[0m\u001b[0;34m:\u001b[0m\u001b[0;34m\u001b[0m\u001b[0;34m\u001b[0m\u001b[0m\n\u001b[1;32m    506\u001b[0m                 \u001b[0;32mreturn\u001b[0m \u001b[0mresult\u001b[0m\u001b[0;34m\u001b[0m\u001b[0;34m\u001b[0m\u001b[0m\n",
      "\u001b[0;32m~/opt/miniconda3/envs/p36workshop/lib/python3.6/urllib/request.py\u001b[0m in \u001b[0;36mhttp_error_default\u001b[0;34m(self, req, fp, code, msg, hdrs)\u001b[0m\n\u001b[1;32m    648\u001b[0m \u001b[0;32mclass\u001b[0m \u001b[0mHTTPDefaultErrorHandler\u001b[0m\u001b[0;34m(\u001b[0m\u001b[0mBaseHandler\u001b[0m\u001b[0;34m)\u001b[0m\u001b[0;34m:\u001b[0m\u001b[0;34m\u001b[0m\u001b[0;34m\u001b[0m\u001b[0m\n\u001b[1;32m    649\u001b[0m     \u001b[0;32mdef\u001b[0m \u001b[0mhttp_error_default\u001b[0m\u001b[0;34m(\u001b[0m\u001b[0mself\u001b[0m\u001b[0;34m,\u001b[0m \u001b[0mreq\u001b[0m\u001b[0;34m,\u001b[0m \u001b[0mfp\u001b[0m\u001b[0;34m,\u001b[0m \u001b[0mcode\u001b[0m\u001b[0;34m,\u001b[0m \u001b[0mmsg\u001b[0m\u001b[0;34m,\u001b[0m \u001b[0mhdrs\u001b[0m\u001b[0;34m)\u001b[0m\u001b[0;34m:\u001b[0m\u001b[0;34m\u001b[0m\u001b[0;34m\u001b[0m\u001b[0m\n\u001b[0;32m--> 650\u001b[0;31m         \u001b[0;32mraise\u001b[0m \u001b[0mHTTPError\u001b[0m\u001b[0;34m(\u001b[0m\u001b[0mreq\u001b[0m\u001b[0;34m.\u001b[0m\u001b[0mfull_url\u001b[0m\u001b[0;34m,\u001b[0m \u001b[0mcode\u001b[0m\u001b[0;34m,\u001b[0m \u001b[0mmsg\u001b[0m\u001b[0;34m,\u001b[0m \u001b[0mhdrs\u001b[0m\u001b[0;34m,\u001b[0m \u001b[0mfp\u001b[0m\u001b[0;34m)\u001b[0m\u001b[0;34m\u001b[0m\u001b[0;34m\u001b[0m\u001b[0m\n\u001b[0m\u001b[1;32m    651\u001b[0m \u001b[0;34m\u001b[0m\u001b[0m\n\u001b[1;32m    652\u001b[0m \u001b[0;32mclass\u001b[0m \u001b[0mHTTPRedirectHandler\u001b[0m\u001b[0;34m(\u001b[0m\u001b[0mBaseHandler\u001b[0m\u001b[0;34m)\u001b[0m\u001b[0;34m:\u001b[0m\u001b[0;34m\u001b[0m\u001b[0;34m\u001b[0m\u001b[0m\n",
      "\u001b[0;31mHTTPError\u001b[0m: HTTP Error 403: Forbidden"
     ]
    }
   ],
   "source": [
    "URL = \"https://www.ahajournals.org/doi/epub/10.1161/CIRCULATIONAHA.107.699579\"\n",
    "tables = pd.read_html(URL)"
   ]
  },
  {
   "cell_type": "code",
   "execution_count": null,
   "metadata": {
    "collapsed": true
   },
   "outputs": [],
   "source": []
  }
 ],
 "metadata": {
  "kernelspec": {
   "display_name": "p36workshop",
   "language": "python",
   "name": "p36workshop"
  },
  "language_info": {
   "codemirror_mode": {
    "name": "ipython",
    "version": 3
   },
   "file_extension": ".py",
   "mimetype": "text/x-python",
   "name": "python",
   "nbconvert_exporter": "python",
   "pygments_lexer": "ipython3",
   "version": "3.6.10"
  }
 },
 "nbformat": 4,
 "nbformat_minor": 2
}
