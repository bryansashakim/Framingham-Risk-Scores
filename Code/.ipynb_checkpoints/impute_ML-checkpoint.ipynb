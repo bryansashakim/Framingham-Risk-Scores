{
 "cells": [
  {
   "cell_type": "code",
   "execution_count": 166,
   "metadata": {},
   "outputs": [],
   "source": [
    "import numpy as np\n",
    "import pandas as pd\n",
    "from sklearn.impute import KNNImputer\n",
    "from sklearn.ensemble import RandomForestClassifier\n",
    "from sklearn.impute import KNNImputer\n",
    "from sklearn.model_selection import cross_val_score\n",
    "from sklearn.model_selection import RepeatedStratifiedKFold\n",
    "from sklearn.pipeline import Pipeline\n",
    "#!pip install fancyimpute\n",
    "from fancyimpute import IterativeImputer"
   ]
  },
  {
   "cell_type": "code",
   "execution_count": 175,
   "metadata": {
    "scrolled": true
   },
   "outputs": [
    {
     "data": {
      "text/html": [
       "<div>\n",
       "<style scoped>\n",
       "    .dataframe tbody tr th:only-of-type {\n",
       "        vertical-align: middle;\n",
       "    }\n",
       "\n",
       "    .dataframe tbody tr th {\n",
       "        vertical-align: top;\n",
       "    }\n",
       "\n",
       "    .dataframe thead th {\n",
       "        text-align: right;\n",
       "    }\n",
       "</style>\n",
       "<table border=\"1\" class=\"dataframe\">\n",
       "  <thead>\n",
       "    <tr style=\"text-align: right;\">\n",
       "      <th></th>\n",
       "      <th>lbxgh</th>\n",
       "      <th>fpg</th>\n",
       "    </tr>\n",
       "  </thead>\n",
       "  <tbody>\n",
       "    <tr>\n",
       "      <th>0</th>\n",
       "      <td>4.7</td>\n",
       "      <td>83.7</td>\n",
       "    </tr>\n",
       "    <tr>\n",
       "      <th>1</th>\n",
       "      <td>5.5</td>\n",
       "      <td>99.9</td>\n",
       "    </tr>\n",
       "    <tr>\n",
       "      <th>2</th>\n",
       "      <td>5.8</td>\n",
       "      <td>85.6</td>\n",
       "    </tr>\n",
       "    <tr>\n",
       "      <th>3</th>\n",
       "      <td>7.6</td>\n",
       "      <td>NaN</td>\n",
       "    </tr>\n",
       "    <tr>\n",
       "      <th>4</th>\n",
       "      <td>5.8</td>\n",
       "      <td>NaN</td>\n",
       "    </tr>\n",
       "  </tbody>\n",
       "</table>\n",
       "</div>"
      ],
      "text/plain": [
       "   lbxgh   fpg\n",
       "0    4.7  83.7\n",
       "1    5.5  99.9\n",
       "2    5.8  85.6\n",
       "3    7.6   NaN\n",
       "4    5.8   NaN"
      ]
     },
     "execution_count": 175,
     "metadata": {},
     "output_type": "execute_result"
    }
   ],
   "source": [
    "df = pd.read_stata(\"/Users/bryankim/Documents/NBER/Framingham /Data/nhanes_1999_2000_frs.dta\")\n",
    "# df = df[[\"seqn\",\"riagendr\",\"ridageyr\",\"lbdhdl\",\"lbxtc\",\"asbp\",\"smoke_sts\",\"lbxgh\",\"fpg\",\"wtint2yr\"]]\n",
    "df = df[[\"lbxgh\",\"fpg\"]]\n",
    "# df =df[~df.isin([np.nan, np.inf, -np.inf]).any(1)]\n",
    "df = df[df['lbxgh'].notna()]\n",
    "df.head()"
   ]
  },
  {
   "cell_type": "code",
   "execution_count": 171,
   "metadata": {},
   "outputs": [
    {
     "data": {
      "text/plain": [
       "lbxgh    False\n",
       "fpg       True\n",
       "dtype: bool"
      ]
     },
     "execution_count": 171,
     "metadata": {},
     "output_type": "execute_result"
    }
   ],
   "source": [
    "df.isna().any()"
   ]
  },
  {
   "cell_type": "code",
   "execution_count": 172,
   "metadata": {},
   "outputs": [],
   "source": [
    "df = pd.DataFrame(imputer.fit_transform(df),columns = df.columns)"
   ]
  },
  {
   "cell_type": "code",
   "execution_count": 174,
   "metadata": {
    "scrolled": true
   },
   "outputs": [
    {
     "data": {
      "text/html": [
       "<div>\n",
       "<style scoped>\n",
       "    .dataframe tbody tr th:only-of-type {\n",
       "        vertical-align: middle;\n",
       "    }\n",
       "\n",
       "    .dataframe tbody tr th {\n",
       "        vertical-align: top;\n",
       "    }\n",
       "\n",
       "    .dataframe thead th {\n",
       "        text-align: right;\n",
       "    }\n",
       "</style>\n",
       "<table border=\"1\" class=\"dataframe\">\n",
       "  <thead>\n",
       "    <tr style=\"text-align: right;\">\n",
       "      <th></th>\n",
       "      <th>lbxgh</th>\n",
       "      <th>fpg</th>\n",
       "    </tr>\n",
       "  </thead>\n",
       "  <tbody>\n",
       "    <tr>\n",
       "      <th>0</th>\n",
       "      <td>4.7</td>\n",
       "      <td>83.70</td>\n",
       "    </tr>\n",
       "    <tr>\n",
       "      <th>1</th>\n",
       "      <td>5.5</td>\n",
       "      <td>99.90</td>\n",
       "    </tr>\n",
       "    <tr>\n",
       "      <th>2</th>\n",
       "      <td>5.8</td>\n",
       "      <td>85.60</td>\n",
       "    </tr>\n",
       "    <tr>\n",
       "      <th>3</th>\n",
       "      <td>7.6</td>\n",
       "      <td>169.52</td>\n",
       "    </tr>\n",
       "    <tr>\n",
       "      <th>4</th>\n",
       "      <td>5.8</td>\n",
       "      <td>95.68</td>\n",
       "    </tr>\n",
       "  </tbody>\n",
       "</table>\n",
       "</div>"
      ],
      "text/plain": [
       "   lbxgh     fpg\n",
       "0    4.7   83.70\n",
       "1    5.5   99.90\n",
       "2    5.8   85.60\n",
       "3    7.6  169.52\n",
       "4    5.8   95.68"
      ]
     },
     "execution_count": 174,
     "metadata": {},
     "output_type": "execute_result"
    }
   ],
   "source": [
    "df.isna().any()\n",
    "df.head()"
   ]
  },
  {
   "cell_type": "code",
   "execution_count": 105,
   "metadata": {},
   "outputs": [
    {
     "name": "stdout",
     "output_type": "stream",
     "text": [
      "2\n",
      "0\n",
      "1\n"
     ]
    }
   ],
   "source": [
    "print(df.shape[1])\n",
    "# print(df.columns.get_loc(\"riagendr\"))\n",
    "# print(df.columns.get_loc(\"ridageyr\"))\n",
    "# print(df.columns.get_lxdf = pd.DataFrame(imputer.fit_transform(df),columns = df.columns)oc(\"lbdhdl\"))\n",
    "# print(df.columns.get_loc(\"lbxtc\"))\n",
    "# print(df.columns.get_loc(\"asbp\"))\n",
    "# print(df.columns.get_loc(\"smoke_sts\"))\n",
    "print(df.columns.get_loc(\"lbxgh\"))\n",
    "print(df.columns.get_loc(\"fpg\"))"
   ]
  },
  {
   "cell_type": "markdown",
   "metadata": {},
   "source": [
    "SEE NUMBER OF NaNs"
   ]
  },
  {
   "cell_type": "code",
   "execution_count": 148,
   "metadata": {
    "scrolled": true
   },
   "outputs": [
    {
     "name": "stdout",
     "output_type": "stream",
     "text": [
      "Missing: 2152\n",
      "Missing: 0\n"
     ]
    }
   ],
   "source": [
    "# split into input and output elements\n",
    "data = df.values\n",
    "ix = [i for i in range(data.shape[1]) if i != 1]\n",
    "X, y = data[:, ix], data[:, 1]\n",
    "# print total missing\n",
    "print('Missing: %d' % sum(np.isnan(X).flatten()))\n",
    "# define imputer\n",
    "imputer = KNNImputer()\n",
    "# fit on the dataset\n",
    "imputer.fit(X)\n",
    "# transform the dataset\n",
    "Xtrans = imputer.transform(X)\n",
    "# print total missing\n",
    "print('Missing: %d' % sum(np.isnan(Xtrans).flatten()))"
   ]
  },
  {
   "cell_type": "code",
   "execution_count": 155,
   "metadata": {},
   "outputs": [],
   "source": [
    "# define modeling pipeline\n",
    "model = RandomForestClassifier()\n",
    "imputer = KNNImputer(n_neighbors=5)\n",
    "pipeline = Pipeline(steps=[('i', imputer), ('m', model)])\n",
    "# define model evaluation\n",
    "cv = RepeatedStratifiedKFold(n_splits=10, n_repeats=3, random_state=1)\n",
    "# evaluate model\n",
    "# scores = cross_val_score(pipeline, X, y, scoring='accuracy', cv=cv, n_jobs=-1, error_score='raise')\n",
    "# print('Mean Accuracy: %.3f (%.3f)' % (np.mean(scores), np.std(scores)))"
   ]
  },
  {
   "cell_type": "code",
   "execution_count": 157,
   "metadata": {},
   "outputs": [],
   "source": [
    "df = pd.DataFrame(imputer.fit_transform(df),columns = df.columns)"
   ]
  },
  {
   "cell_type": "code",
   "execution_count": 39,
   "metadata": {},
   "outputs": [],
   "source": [
    "imputer = sk.impute.KNNImputer(n_neighbors=5, weights='uniform', metric='nan_euclidean')"
   ]
  },
  {
   "cell_type": "code",
   "execution_count": 63,
   "metadata": {
    "scrolled": true
   },
   "outputs": [
    {
     "name": "stdout",
     "output_type": "stream",
     "text": [
      "Imputing row 1/4377 with 0 missing, elapsed time: 2.553\n",
      "Imputing row 101/4377 with 0 missing, elapsed time: 2.556\n",
      "Imputing row 201/4377 with 0 missing, elapsed time: 2.559\n",
      "Imputing row 301/4377 with 0 missing, elapsed time: 2.561\n",
      "Imputing row 401/4377 with 1 missing, elapsed time: 2.564\n",
      "Imputing row 501/4377 with 1 missing, elapsed time: 2.567\n",
      "Imputing row 601/4377 with 1 missing, elapsed time: 2.571\n",
      "Imputing row 701/4377 with 1 missing, elapsed time: 2.574\n",
      "Imputing row 801/4377 with 1 missing, elapsed time: 2.576\n",
      "Imputing row 901/4377 with 0 missing, elapsed time: 2.579\n",
      "Imputing row 1001/4377 with 1 missing, elapsed time: 2.582\n",
      "Imputing row 1101/4377 with 1 missing, elapsed time: 2.584\n",
      "Imputing row 1201/4377 with 0 missing, elapsed time: 2.587\n",
      "Imputing row 1301/4377 with 1 missing, elapsed time: 2.590\n",
      "Imputing row 1401/4377 with 0 missing, elapsed time: 2.592\n",
      "Imputing row 1501/4377 with 0 missing, elapsed time: 2.595\n",
      "Imputing row 1601/4377 with 0 missing, elapsed time: 2.597\n",
      "Imputing row 1701/4377 with 0 missing, elapsed time: 2.599\n",
      "Imputing row 1801/4377 with 1 missing, elapsed time: 2.603\n",
      "Imputing row 1901/4377 with 0 missing, elapsed time: 2.605\n",
      "Imputing row 2001/4377 with 0 missing, elapsed time: 2.608\n",
      "Imputing row 2101/4377 with 1 missing, elapsed time: 2.611\n",
      "Imputing row 2201/4377 with 1 missing, elapsed time: 2.614\n",
      "Imputing row 2301/4377 with 8 missing, elapsed time: 2.639\n",
      "Imputing row 2401/4377 with 8 missing, elapsed time: 2.673\n",
      "Imputing row 2501/4377 with 8 missing, elapsed time: 2.709\n",
      "Imputing row 2601/4377 with 8 missing, elapsed time: 2.744\n",
      "Imputing row 2701/4377 with 8 missing, elapsed time: 2.783\n",
      "Imputing row 2801/4377 with 9 missing, elapsed time: 2.819\n",
      "Imputing row 2901/4377 with 8 missing, elapsed time: 2.854\n",
      "Imputing row 3001/4377 with 8 missing, elapsed time: 2.889\n",
      "Imputing row 3101/4377 with 8 missing, elapsed time: 2.924\n",
      "Imputing row 3201/4377 with 8 missing, elapsed time: 2.957\n",
      "Imputing row 3301/4377 with 8 missing, elapsed time: 2.994\n",
      "Imputing row 3401/4377 with 8 missing, elapsed time: 3.030\n",
      "Imputing row 3501/4377 with 8 missing, elapsed time: 3.064\n",
      "Imputing row 3601/4377 with 8 missing, elapsed time: 3.098\n",
      "Imputing row 3701/4377 with 8 missing, elapsed time: 3.133\n",
      "Imputing row 3801/4377 with 8 missing, elapsed time: 3.167\n",
      "Imputing row 3901/4377 with 8 missing, elapsed time: 3.201\n",
      "Imputing row 4001/4377 with 8 missing, elapsed time: 3.237\n",
      "Imputing row 4101/4377 with 8 missing, elapsed time: 3.271\n",
      "Imputing row 4201/4377 with 8 missing, elapsed time: 3.304\n",
      "Imputing row 4301/4377 with 8 missing, elapsed time: 3.335\n"
     ]
    }
   ],
   "source": [
    "from fancyimpute import KNN\n",
    "knn_imputer = KNN()\n",
    "df_knn = df.copy(deep=True)\n",
    "df_knn.iloc[:, :] = knn_imputer.fit_transform(df_knn)"
   ]
  },
  {
   "cell_type": "code",
   "execution_count": 64,
   "metadata": {},
   "outputs": [],
   "source": [
    "from fancyimpute import IterativeImputer\n",
    "MICE_imputer = IterativeImputer()\n",
    "df_MICE = df.copy(deep=True)\n",
    "df_MICE.iloc[:, :] = MICE_imputer.fit_transform(df_MICE)"
   ]
  },
  {
   "cell_type": "code",
   "execution_count": 73,
   "metadata": {},
   "outputs": [
    {
     "name": "stdout",
     "output_type": "stream",
     "text": [
      "Imputing row 1/4377 with 0 missing, elapsed time: 2.366\n",
      "Imputing row 101/4377 with 0 missing, elapsed time: 2.369\n",
      "Imputing row 201/4377 with 0 missing, elapsed time: 2.372\n",
      "Imputing row 301/4377 with 0 missing, elapsed time: 2.374\n",
      "Imputing row 401/4377 with 1 missing, elapsed time: 2.377\n",
      "Imputing row 501/4377 with 1 missing, elapsed time: 2.380\n",
      "Imputing row 601/4377 with 1 missing, elapsed time: 2.384\n",
      "Imputing row 701/4377 with 1 missing, elapsed time: 2.386\n",
      "Imputing row 801/4377 with 1 missing, elapsed time: 2.389\n",
      "Imputing row 901/4377 with 0 missing, elapsed time: 2.391\n",
      "Imputing row 1001/4377 with 1 missing, elapsed time: 2.394\n",
      "Imputing row 1101/4377 with 1 missing, elapsed time: 2.396\n",
      "Imputing row 1201/4377 with 0 missing, elapsed time: 2.399\n",
      "Imputing row 1301/4377 with 1 missing, elapsed time: 2.401\n",
      "Imputing row 1401/4377 with 0 missing, elapsed time: 2.404\n",
      "Imputing row 1501/4377 with 0 missing, elapsed time: 2.406\n",
      "Imputing row 1601/4377 with 0 missing, elapsed time: 2.409\n",
      "Imputing row 1701/4377 with 0 missing, elapsed time: 2.411\n",
      "Imputing row 1801/4377 with 1 missing, elapsed time: 2.414\n",
      "Imputing row 1901/4377 with 0 missing, elapsed time: 2.417\n",
      "Imputing row 2001/4377 with 0 missing, elapsed time: 2.419\n",
      "Imputing row 2101/4377 with 1 missing, elapsed time: 2.421\n",
      "Imputing row 2201/4377 with 1 missing, elapsed time: 2.425\n",
      "Imputing row 2301/4377 with 8 missing, elapsed time: 2.450\n",
      "Imputing row 2401/4377 with 8 missing, elapsed time: 2.483\n",
      "Imputing row 2501/4377 with 8 missing, elapsed time: 2.515\n",
      "Imputing row 2601/4377 with 8 missing, elapsed time: 2.548\n",
      "Imputing row 2701/4377 with 8 missing, elapsed time: 2.582\n",
      "Imputing row 2801/4377 with 9 missing, elapsed time: 2.614\n",
      "Imputing row 2901/4377 with 8 missing, elapsed time: 2.647\n",
      "Imputing row 3001/4377 with 8 missing, elapsed time: 2.681\n",
      "Imputing row 3101/4377 with 8 missing, elapsed time: 2.715\n",
      "Imputing row 3201/4377 with 8 missing, elapsed time: 2.752\n",
      "Imputing row 3301/4377 with 8 missing, elapsed time: 2.787\n",
      "Imputing row 3401/4377 with 8 missing, elapsed time: 2.821\n",
      "Imputing row 3501/4377 with 8 missing, elapsed time: 2.853\n",
      "Imputing row 3601/4377 with 8 missing, elapsed time: 2.885\n",
      "Imputing row 3701/4377 with 8 missing, elapsed time: 2.917\n",
      "Imputing row 3801/4377 with 8 missing, elapsed time: 2.949\n",
      "Imputing row 3901/4377 with 8 missing, elapsed time: 2.981\n",
      "Imputing row 4001/4377 with 8 missing, elapsed time: 3.019\n",
      "Imputing row 4101/4377 with 8 missing, elapsed time: 3.058\n",
      "Imputing row 4201/4377 with 8 missing, elapsed time: 3.091\n",
      "Imputing row 4301/4377 with 8 missing, elapsed time: 3.124\n"
     ]
    },
    {
     "ename": "NameError",
     "evalue": "name 'users_KNN_imputed' is not defined",
     "output_type": "error",
     "traceback": [
      "\u001b[0;31m---------------------------------------------------------------------------\u001b[0m",
      "\u001b[0;31mNameError\u001b[0m                                 Traceback (most recent call last)",
      "\u001b[0;32m<ipython-input-73-d8904e4b0f0d>\u001b[0m in \u001b[0;36m<module>\u001b[0;34m\u001b[0m\n\u001b[1;32m      2\u001b[0m \u001b[0;31m# Create MICE imputer\u001b[0m\u001b[0;34m\u001b[0m\u001b[0;34m\u001b[0m\u001b[0;34m\u001b[0m\u001b[0m\n\u001b[1;32m      3\u001b[0m \u001b[0mKNN_imputer\u001b[0m \u001b[0;34m=\u001b[0m \u001b[0mKNN\u001b[0m\u001b[0;34m(\u001b[0m\u001b[0;34m)\u001b[0m\u001b[0;34m\u001b[0m\u001b[0;34m\u001b[0m\u001b[0m\n\u001b[0;32m----> 4\u001b[0;31m \u001b[0musers_KNN_imputed\u001b[0m\u001b[0;34m.\u001b[0m\u001b[0miloc\u001b[0m\u001b[0;34m[\u001b[0m\u001b[0;34m:\u001b[0m\u001b[0;34m,\u001b[0m \u001b[0;34m:\u001b[0m\u001b[0;34m]\u001b[0m \u001b[0;34m=\u001b[0m \u001b[0mnp\u001b[0m\u001b[0;34m.\u001b[0m\u001b[0mround\u001b[0m\u001b[0;34m(\u001b[0m\u001b[0mKNN_imputer\u001b[0m\u001b[0;34m.\u001b[0m\u001b[0mfit_transform\u001b[0m\u001b[0;34m(\u001b[0m\u001b[0mdf_KNN_imputed\u001b[0m\u001b[0;34m)\u001b[0m\u001b[0;34m)\u001b[0m\u001b[0;34m\u001b[0m\u001b[0;34m\u001b[0m\u001b[0m\n\u001b[0m\u001b[1;32m      5\u001b[0m \u001b[0;32mfor\u001b[0m \u001b[0mcol\u001b[0m \u001b[0;32min\u001b[0m \u001b[0mdf_KNN_imputed\u001b[0m\u001b[0;34m:\u001b[0m\u001b[0;34m\u001b[0m\u001b[0;34m\u001b[0m\u001b[0m\n\u001b[1;32m      6\u001b[0m     \u001b[0mreshaped_col\u001b[0m \u001b[0;34m=\u001b[0m \u001b[0mdf_KNN_imputed\u001b[0m\u001b[0;34m[\u001b[0m\u001b[0mcol\u001b[0m\u001b[0;34m]\u001b[0m\u001b[0;34m.\u001b[0m\u001b[0mvalues\u001b[0m\u001b[0;34m.\u001b[0m\u001b[0mreshape\u001b[0m\u001b[0;34m(\u001b[0m\u001b[0;34m-\u001b[0m\u001b[0;36m1\u001b[0m\u001b[0;34m,\u001b[0m \u001b[0;36m1\u001b[0m\u001b[0;34m)\u001b[0m\u001b[0;34m\u001b[0m\u001b[0;34m\u001b[0m\u001b[0m\n",
      "\u001b[0;31mNameError\u001b[0m: name 'users_KNN_imputed' is not defined"
     ]
    }
   ],
   "source": [
    "df_KNN_imputed = df.copy(deep=True)\n",
    "# Create MICE imputer\n",
    "KNN_imputer = KNN()\n",
    "users_KNN_imputed.iloc[:, :] = np.round(KNN_imputer.fit_transform(df_KNN_imputed))\n",
    "for col in df_KNN_imputed:\n",
    "    reshaped_col = df_KNN_imputed[col].values.reshape(-1, 1)\n",
    "    users_KNN_imputed[col] = ordinal_enc[col].inverse_transform(reshaped_col)"
   ]
  },
  {
   "cell_type": "code",
   "execution_count": 74,
   "metadata": {},
   "outputs": [
    {
     "data": {
      "text/html": [
       "<div>\n",
       "<style scoped>\n",
       "    .dataframe tbody tr th:only-of-type {\n",
       "        vertical-align: middle;\n",
       "    }\n",
       "\n",
       "    .dataframe tbody tr th {\n",
       "        vertical-align: top;\n",
       "    }\n",
       "\n",
       "    .dataframe thead th {\n",
       "        text-align: right;\n",
       "    }\n",
       "</style>\n",
       "<table border=\"1\" class=\"dataframe\">\n",
       "  <thead>\n",
       "    <tr style=\"text-align: right;\">\n",
       "      <th></th>\n",
       "      <th>seqn</th>\n",
       "      <th>riagendr</th>\n",
       "      <th>ridageyr</th>\n",
       "      <th>lbdhdl</th>\n",
       "      <th>lbxtc</th>\n",
       "      <th>asbp</th>\n",
       "      <th>smoke_sts</th>\n",
       "      <th>lbxgh</th>\n",
       "      <th>fpg</th>\n",
       "      <th>wtint2yr</th>\n",
       "    </tr>\n",
       "  </thead>\n",
       "  <tbody>\n",
       "    <tr>\n",
       "      <th>0</th>\n",
       "      <td>2.0</td>\n",
       "      <td>1.0</td>\n",
       "      <td>77.0</td>\n",
       "      <td>54.0</td>\n",
       "      <td>215.0</td>\n",
       "      <td>98.0</td>\n",
       "      <td>2.0</td>\n",
       "      <td>4.7</td>\n",
       "      <td>83.7</td>\n",
       "      <td>26678.636376</td>\n",
       "    </tr>\n",
       "    <tr>\n",
       "      <th>1</th>\n",
       "      <td>5.0</td>\n",
       "      <td>1.0</td>\n",
       "      <td>49.0</td>\n",
       "      <td>42.0</td>\n",
       "      <td>279.0</td>\n",
       "      <td>122.0</td>\n",
       "      <td>2.0</td>\n",
       "      <td>5.5</td>\n",
       "      <td>99.9</td>\n",
       "      <td>91050.846620</td>\n",
       "    </tr>\n",
       "    <tr>\n",
       "      <th>2</th>\n",
       "      <td>7.0</td>\n",
       "      <td>2.0</td>\n",
       "      <td>59.0</td>\n",
       "      <td>105.0</td>\n",
       "      <td>245.0</td>\n",
       "      <td>123.0</td>\n",
       "      <td>2.0</td>\n",
       "      <td>5.8</td>\n",
       "      <td>85.6</td>\n",
       "      <td>22352.088620</td>\n",
       "    </tr>\n",
       "    <tr>\n",
       "      <th>3</th>\n",
       "      <td>13.0</td>\n",
       "      <td>1.0</td>\n",
       "      <td>70.0</td>\n",
       "      <td>49.0</td>\n",
       "      <td>314.0</td>\n",
       "      <td>130.0</td>\n",
       "      <td>2.0</td>\n",
       "      <td>7.6</td>\n",
       "      <td>NaN</td>\n",
       "      <td>1647.446107</td>\n",
       "    </tr>\n",
       "    <tr>\n",
       "      <th>4</th>\n",
       "      <td>14.0</td>\n",
       "      <td>1.0</td>\n",
       "      <td>81.0</td>\n",
       "      <td>40.0</td>\n",
       "      <td>174.0</td>\n",
       "      <td>142.0</td>\n",
       "      <td>1.0</td>\n",
       "      <td>5.8</td>\n",
       "      <td>NaN</td>\n",
       "      <td>15131.714618</td>\n",
       "    </tr>\n",
       "    <tr>\n",
       "      <th>...</th>\n",
       "      <td>...</td>\n",
       "      <td>...</td>\n",
       "      <td>...</td>\n",
       "      <td>...</td>\n",
       "      <td>...</td>\n",
       "      <td>...</td>\n",
       "      <td>...</td>\n",
       "      <td>...</td>\n",
       "      <td>...</td>\n",
       "      <td>...</td>\n",
       "    </tr>\n",
       "    <tr>\n",
       "      <th>4372</th>\n",
       "      <td>9942.0</td>\n",
       "      <td>NaN</td>\n",
       "      <td>NaN</td>\n",
       "      <td>NaN</td>\n",
       "      <td>NaN</td>\n",
       "      <td>NaN</td>\n",
       "      <td>NaN</td>\n",
       "      <td>NaN</td>\n",
       "      <td>83.5</td>\n",
       "      <td>NaN</td>\n",
       "    </tr>\n",
       "    <tr>\n",
       "      <th>4373</th>\n",
       "      <td>9950.0</td>\n",
       "      <td>NaN</td>\n",
       "      <td>NaN</td>\n",
       "      <td>NaN</td>\n",
       "      <td>NaN</td>\n",
       "      <td>NaN</td>\n",
       "      <td>NaN</td>\n",
       "      <td>NaN</td>\n",
       "      <td>92.9</td>\n",
       "      <td>NaN</td>\n",
       "    </tr>\n",
       "    <tr>\n",
       "      <th>4374</th>\n",
       "      <td>9951.0</td>\n",
       "      <td>NaN</td>\n",
       "      <td>NaN</td>\n",
       "      <td>NaN</td>\n",
       "      <td>NaN</td>\n",
       "      <td>NaN</td>\n",
       "      <td>NaN</td>\n",
       "      <td>NaN</td>\n",
       "      <td>93.3</td>\n",
       "      <td>NaN</td>\n",
       "    </tr>\n",
       "    <tr>\n",
       "      <th>4375</th>\n",
       "      <td>9952.0</td>\n",
       "      <td>NaN</td>\n",
       "      <td>NaN</td>\n",
       "      <td>NaN</td>\n",
       "      <td>NaN</td>\n",
       "      <td>NaN</td>\n",
       "      <td>NaN</td>\n",
       "      <td>NaN</td>\n",
       "      <td>83.1</td>\n",
       "      <td>NaN</td>\n",
       "    </tr>\n",
       "    <tr>\n",
       "      <th>4376</th>\n",
       "      <td>9961.0</td>\n",
       "      <td>NaN</td>\n",
       "      <td>NaN</td>\n",
       "      <td>NaN</td>\n",
       "      <td>NaN</td>\n",
       "      <td>NaN</td>\n",
       "      <td>NaN</td>\n",
       "      <td>NaN</td>\n",
       "      <td>87.7</td>\n",
       "      <td>NaN</td>\n",
       "    </tr>\n",
       "  </tbody>\n",
       "</table>\n",
       "<p>4377 rows × 10 columns</p>\n",
       "</div>"
      ],
      "text/plain": [
       "        seqn  riagendr  ridageyr  lbdhdl  lbxtc   asbp  smoke_sts  lbxgh  \\\n",
       "0        2.0       1.0      77.0    54.0  215.0   98.0        2.0    4.7   \n",
       "1        5.0       1.0      49.0    42.0  279.0  122.0        2.0    5.5   \n",
       "2        7.0       2.0      59.0   105.0  245.0  123.0        2.0    5.8   \n",
       "3       13.0       1.0      70.0    49.0  314.0  130.0        2.0    7.6   \n",
       "4       14.0       1.0      81.0    40.0  174.0  142.0        1.0    5.8   \n",
       "...      ...       ...       ...     ...    ...    ...        ...    ...   \n",
       "4372  9942.0       NaN       NaN     NaN    NaN    NaN        NaN    NaN   \n",
       "4373  9950.0       NaN       NaN     NaN    NaN    NaN        NaN    NaN   \n",
       "4374  9951.0       NaN       NaN     NaN    NaN    NaN        NaN    NaN   \n",
       "4375  9952.0       NaN       NaN     NaN    NaN    NaN        NaN    NaN   \n",
       "4376  9961.0       NaN       NaN     NaN    NaN    NaN        NaN    NaN   \n",
       "\n",
       "       fpg      wtint2yr  \n",
       "0     83.7  26678.636376  \n",
       "1     99.9  91050.846620  \n",
       "2     85.6  22352.088620  \n",
       "3      NaN   1647.446107  \n",
       "4      NaN  15131.714618  \n",
       "...    ...           ...  \n",
       "4372  83.5           NaN  \n",
       "4373  92.9           NaN  \n",
       "4374  93.3           NaN  \n",
       "4375  83.1           NaN  \n",
       "4376  87.7           NaN  \n",
       "\n",
       "[4377 rows x 10 columns]"
      ]
     },
     "execution_count": 74,
     "metadata": {},
     "output_type": "execute_result"
    }
   ],
   "source": [
    "df_KNN_imputed"
   ]
  },
  {
   "cell_type": "code",
   "execution_count": null,
   "metadata": {},
   "outputs": [],
   "source": []
  }
 ],
 "metadata": {
  "kernelspec": {
   "display_name": "Python 3",
   "language": "python",
   "name": "python3"
  },
  "language_info": {
   "codemirror_mode": {
    "name": "ipython",
    "version": 3
   },
   "file_extension": ".py",
   "mimetype": "text/x-python",
   "name": "python",
   "nbconvert_exporter": "python",
   "pygments_lexer": "ipython3",
   "version": "3.8.4"
  }
 },
 "nbformat": 4,
 "nbformat_minor": 4
}
