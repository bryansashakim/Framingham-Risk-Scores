{
 "cells": [
  {
   "cell_type": "code",
   "execution_count": 127,
   "metadata": {},
   "outputs": [],
   "source": [
    "import pandas as pd"
   ]
  },
  {
   "cell_type": "markdown",
   "metadata": {},
   "source": [
    "Load Data"
   ]
  },
  {
   "cell_type": "code",
   "execution_count": 73,
   "metadata": {
    "scrolled": false
   },
   "outputs": [],
   "source": [
    "nhanesII = pd.read_stata(\"/Users/bryankim/Documents - Local/NBER/Case Deaton/Data/FRS/NHANESII/nhanesII_frs.dta\")\n",
    "nhanesII.head()\n",
    "test=nhanesII.head()"
   ]
  },
  {
   "cell_type": "markdown",
   "metadata": {},
   "source": [
    "See Ranges"
   ]
  },
  {
   "cell_type": "code",
   "execution_count": 134,
   "metadata": {},
   "outputs": [
    {
     "name": "stdout",
     "output_type": "stream",
     "text": [
      "AGEYR_AT_INT    45.0\n",
      "SEX              1.0\n",
      "lbdhdd          15.0\n",
      "lbxtc           80.0\n",
      "treated          0.0\n",
      "asbp            70.0\n",
      "curr_smq         0.0\n",
      "dtype: float64\n",
      "AGEYR_AT_INT     74.0\n",
      "SEX               2.0\n",
      "lbdhdd          187.0\n",
      "lbxtc           644.0\n",
      "treated           1.0\n",
      "asbp            300.0\n",
      "curr_smq          1.0\n",
      "dtype: float64\n"
     ]
    },
    {
     "data": {
      "text/plain": [
       "False"
      ]
     },
     "execution_count": 134,
     "metadata": {},
     "output_type": "execute_result"
    }
   ],
   "source": [
    "print(nhanesII[[\"AGEYR_AT_INT\",\"SEX\",\"lbdhdd\",\"lbxtc\",\"treated\",\"asbp\",\"curr_smq\"]].min())\n",
    "print(nhanesII[[\"AGEYR_AT_INT\",\"SEX\",\"lbdhdd\",\"lbxtc\",\"treated\",\"asbp\",\"curr_smq\"]].max())\n",
    "nhanesII.curr_smq.value_counts()\n",
    "nhanesII[\"curr_smq\"][1]==1"
   ]
  },
  {
   "cell_type": "markdown",
   "metadata": {},
   "source": [
    "Create `treated` variable"
   ]
  },
  {
   "cell_type": "markdown",
   "metadata": {},
   "source": [
    "Define `check` functions for females"
   ]
  },
  {
   "cell_type": "code",
   "execution_count": 136,
   "metadata": {},
   "outputs": [],
   "source": [
    "def ftchol_pts(totchol,age):\n",
    "    if totchol < 160:\n",
    "        return(0)\n",
    "    if totchol in range(160,199+1):\n",
    "        if age in range(20,39+1): return(4)\n",
    "        if age in range(40,49+1): return(3) \n",
    "        if age in range(50,59+1): return(2) \n",
    "        if age in range(60,69+1): return(1) \n",
    "        if age >= 70: return(1) \n",
    "    if totchol in range(200,239+1):\n",
    "        if age in range(20,39+1): return(8) \n",
    "        if age in range(40,49+1): return(6) \n",
    "        if age in range(50,59+1): return(4) \n",
    "        if age in range(60,69+1): return(2) \n",
    "        if age >= 70: return(1) \n",
    "    if totchol in range(240,279+1):\n",
    "        if age in range(20,39+1): return(11) \n",
    "        if age in range(40,49+1): return(8) \n",
    "        if age in range(50,59+1): return(5) \n",
    "        if age in range(60,69+1): return(3) \n",
    "        if age >= 70: return(2) \n",
    "    if totchol >= 280:\n",
    "        if age in range(20,39+1): return(13) \n",
    "        if age in range(40,49+1): return(10)\n",
    "        if age in range(50,59+1): return(7)\n",
    "        if age in range(60,69+1): return(4) \n",
    "        if age >= 70: return(2) \n",
    "    \n",
    "def fsmoke_pts(curr_smq,age):\n",
    "    if curr_smq == 0:\n",
    "        return(0)\n",
    "    if curr_smq == 1:\n",
    "        if age in range(20,39+1): return(9) \n",
    "        if age in range(40,49+1): return(7) \n",
    "        if age in range(50,59+1): return(4) \n",
    "        if age in range(60,69+1): return(2)\n",
    "        if age >= 70: return(1) \n",
    "\n",
    "    \n",
    "def fsbp_pts(sbp,treated):\n",
    "    if sbp < 120:\n",
    "        return(0)\n",
    "    if sbp in range(120,129+1):\n",
    "        return(3) if treated == 1 else 1\n",
    "    if sbp in range(130,139+1):\n",
    "        return(4) if treated == 1 else 2\n",
    "    if sbp in range(140,159+1):\n",
    "        return(5) if treated == 1 else 3\n",
    "    if sbp >= 160:\n",
    "        return(6) if treated == 1 else 4\n",
    "    \n",
    "def fage_pts(age):\n",
    "    if age in range(45,49+1):\n",
    "        return(3)\n",
    "    if age in range(50,54+1):\n",
    "        return(6)\n",
    "    if age in range(55,59+1):\n",
    "        return(8)\n",
    "    if age in range(60,64+1):\n",
    "        return(10)\n",
    "    if age in range(65,69+1):\n",
    "        return(12)\n",
    "    if age in range(70,74+1):\n",
    "        return(14)\n",
    "    if age >= 75:\n",
    "        return(16)\n",
    "\n",
    "def fhdl_pts(hdl):\n",
    "    if hdl >= 60:\n",
    "        return(-1)\n",
    "    if hdl in range(50,59+1):\n",
    "        return(0)\n",
    "    if hdl in range(40,49+1):\n",
    "        return(1)\n",
    "    if hdl < 40:\n",
    "        return(2)"
   ]
  },
  {
   "cell_type": "markdown",
   "metadata": {},
   "source": [
    "Define `check` functions for males"
   ]
  },
  {
   "cell_type": "code",
   "execution_count": 147,
   "metadata": {},
   "outputs": [],
   "source": [
    "def mtchol_pts(totchol,age):\n",
    "    if totchol < 160:\n",
    "        return(0)\n",
    "    if totchol in range(160,199+1):\n",
    "        if age in range(20,39+1): return(4)\n",
    "        if age in range(40,49+1): return(3) \n",
    "        if age in range(50,59+1): return(2) \n",
    "        if age in range(60,69+1): return(1) \n",
    "        if age >= 70: return(0) \n",
    "    if totchol in range(200,239+1):\n",
    "        if age in range(20,39+1): return(7) \n",
    "        if age in range(40,49+1): return(5) \n",
    "        if age in range(50,59+1): return(3) \n",
    "        if age in range(60,69+1): return(1) \n",
    "        if age >= 70: return(0) \n",
    "    if totchol in range(240,279+1):\n",
    "        if age in range(20,39+1): return(9) \n",
    "        if age in range(40,49+1): return(6) \n",
    "        if age in range(50,59+1): return(4) \n",
    "        if age in range(60,69+1): return(2) \n",
    "        if age >= 70: return(1) \n",
    "    if totchol >= 280:\n",
    "        if age in range(20,39+1): return(11) \n",
    "        if age in range(40,49+1): return(8)\n",
    "        if age in range(50,59+1): return(5)\n",
    "        if age in range(60,69+1): return(3) \n",
    "        if age >= 70:return(1) \n",
    "\n",
    "\n",
    "#\n",
    " \n",
    "def msmoke_pts(curr_smq,age):\n",
    "    if curr_smq == 0:\n",
    "        return(0)\n",
    "    if curr_smq == 1:\n",
    "        if age in range(20,39+1): return(8) \n",
    "        if age in range(40,49+1): return(5) \n",
    "        if age in range(50,59+1): return(3) \n",
    "        if age in range(60,69+1): return(1)\n",
    "        if age >= 70: return(1)\n",
    "    \n",
    "def msbp_pts(sbp,treated):\n",
    "    if sbp < 120:\n",
    "        return(0)\n",
    "    if sbp in range(120,129+1):\n",
    "        return(1) if treated == 1 else 0\n",
    "    if sbp in range(130,159+1):\n",
    "        return(2) if treated == 1 else 1\n",
    "    if sbp >= 160:\n",
    "        return(3) if treated == 1 else 2\n",
    "    \n",
    "def mage_pts(age):\n",
    "    if age in range(45,49+1):\n",
    "        return(3)\n",
    "    if age in range(50,54+1):\n",
    "        return(6)\n",
    "    if age in range(55,59+1):\n",
    "        return(8)\n",
    "    if age in range(60,64+1):\n",
    "        return(10)\n",
    "    if age in range(65,69+1):\n",
    "        return(11)\n",
    "    if age in range(70,74+1):\n",
    "        return(12)\n",
    "    if age >= 75:\n",
    "        return(13)\n",
    "\n",
    "def mhdl_pts(hdl):\n",
    "    if hdl >= 60:\n",
    "        return(-1)\n",
    "    if hdl in range(50,59+1):\n",
    "        return(0)\n",
    "    if hdl in range(40,49+1):\n",
    "        return(1)\n",
    "    if hdl < 40:\n",
    "        return(2)"
   ]
  },
  {
   "cell_type": "code",
   "execution_count": 148,
   "metadata": {},
   "outputs": [],
   "source": [
    "def get_frs_atp3(sex,age,hdl,totchol,sbp,curr_smq,treated):\n",
    "    risk_score = 0\n",
    "    if sex == 1:\n",
    "        risk_score += mage_pts(age)\n",
    "        risk_score += mhdl_pts(hdl)\n",
    "        risk_score += mtchol_pts(totchol,age)\n",
    "        risk_score += msbp_pts(sbp,treated)\n",
    "        risk_score += msmoke_pts(curr_smq,age)\n",
    "    if sex == 2:\n",
    "        risk_score += fage_pts(age)\n",
    "        risk_score += fhdl_pts(hdl)\n",
    "        risk_score += ftchol_pts(totchol,age)\n",
    "        risk_score += fsbp_pts(sbp,treated)\n",
    "        risk_score += fsmoke_pts(curr_smq,age)\n",
    "    return(risk_score)\n",
    "\n",
    "def get_frs_atp3(x):\n",
    "    risk_score = 0\n",
    "    if x[\"SEX\"] == 1:\n",
    "        risk_score += mage_pts(x[\"AGEYR_AT_INT\"])\n",
    "        risk_score += mhdl_pts(x[\"lbdhdd\"])\n",
    "        risk_score += mtchol_pts(x[\"lbxtc\"],x[\"AGEYR_AT_INT\"])\n",
    "        risk_score += msbp_pts(x[\"asbp\"],x[\"treated\"])\n",
    "        risk_score += msmoke_pts(x[\"curr_smq\"],x[\"AGEYR_AT_INT\"])\n",
    "    if x[\"SEX\"] == 2:\n",
    "        risk_score += fage_pts(x[\"AGEYR_AT_INT\"])\n",
    "        risk_score += fhdl_pts(x[\"lbdhdd\"])\n",
    "        risk_score += ftchol_pts(x[\"lbxtc\"],x[\"AGEYR_AT_INT\"])\n",
    "        risk_score += fsbp_pts(x[\"asbp\"],x[\"treated\"])\n",
    "        risk_score += fsmoke_pts(x[\"curr_smq\"],x[\"AGEYR_AT_INT\"])\n",
    "    return(risk_score)\n",
    "        \n",
    "def f(x):    \n",
    "    return x[\"treated\"] + x[\"SEX\"]"
   ]
  },
  {
   "cell_type": "markdown",
   "metadata": {},
   "source": [
    "    Need to complete cases of all variable (fields) before running `get_frs` function"
   ]
  },
  {
   "cell_type": "code",
   "execution_count": 149,
   "metadata": {},
   "outputs": [
    {
     "data": {
      "text/plain": [
       "5218"
      ]
     },
     "execution_count": 149,
     "metadata": {},
     "output_type": "execute_result"
    }
   ],
   "source": [
    "nhanesII=nhanesII.dropna(subset=[\"SEX\",\"AGEYR_AT_INT\",\"lbdhdd\",\"lbxtc\",\"asbp\",\"curr_smq\",\"treated\"])\n",
    "# count number of rows\n",
    "nhanesII.SEX.count()"
   ]
  },
  {
   "cell_type": "code",
   "execution_count": 150,
   "metadata": {
    "scrolled": false
   },
   "outputs": [
    {
     "data": {
      "text/plain": [
       "0       15\n",
       "1       18\n",
       "2       15\n",
       "3       19\n",
       "4       17\n",
       "        ..\n",
       "5220    11\n",
       "5221    10\n",
       "5222    13\n",
       "5223    18\n",
       "5224    16\n",
       "Length: 5218, dtype: int64"
      ]
     },
     "execution_count": 150,
     "metadata": {},
     "output_type": "execute_result"
    }
   ],
   "source": [
    "nhanesII.apply(get_frs_atp3, axis=1)"
   ]
  },
  {
   "cell_type": "code",
   "execution_count": 44,
   "metadata": {
    "scrolled": true
   },
   "outputs": [
    {
     "ename": "ValueError",
     "evalue": "The truth value of a Series is ambiguous. Use a.empty, a.bool(), a.item(), a.any() or a.all().",
     "output_type": "error",
     "traceback": [
      "\u001b[0;31m---------------------------------------------------------------------------\u001b[0m",
      "\u001b[0;31mValueError\u001b[0m                                Traceback (most recent call last)",
      "\u001b[0;32m<ipython-input-44-d0e255efe3cb>\u001b[0m in \u001b[0;36m<module>\u001b[0;34m\u001b[0m\n\u001b[0;32m----> 1\u001b[0;31m \u001b[0mnhanesII\u001b[0m\u001b[0;34m[\u001b[0m\u001b[0;34m\"frs\"\u001b[0m\u001b[0;34m]\u001b[0m \u001b[0;34m=\u001b[0m \u001b[0mnhanesII\u001b[0m\u001b[0;34m.\u001b[0m\u001b[0mapply\u001b[0m\u001b[0;34m(\u001b[0m\u001b[0mget_frs_atp3\u001b[0m\u001b[0;34m(\u001b[0m\u001b[0mnhanesII\u001b[0m\u001b[0;34m[\u001b[0m\u001b[0;34m\"SEX\"\u001b[0m\u001b[0;34m]\u001b[0m\u001b[0;34m,\u001b[0m\u001b[0mnhanesII\u001b[0m\u001b[0;34m[\u001b[0m\u001b[0;34m\"AGEYR_AT_INT\"\u001b[0m\u001b[0;34m]\u001b[0m\u001b[0;34m,\u001b[0m\u001b[0mnhanesII\u001b[0m\u001b[0;34m[\u001b[0m\u001b[0;34m\"lbdhdd\"\u001b[0m\u001b[0;34m]\u001b[0m\u001b[0;34m,\u001b[0m\u001b[0mnhanesII\u001b[0m\u001b[0;34m[\u001b[0m\u001b[0;34m\"lbxtc\"\u001b[0m\u001b[0;34m]\u001b[0m\u001b[0;34m,\u001b[0m\u001b[0mnhanesII\u001b[0m\u001b[0;34m[\u001b[0m\u001b[0;34m\"asbp\"\u001b[0m\u001b[0;34m]\u001b[0m\u001b[0;34m,\u001b[0m\u001b[0mnhanesII\u001b[0m\u001b[0;34m[\u001b[0m\u001b[0;34m\"curr_smq\"\u001b[0m\u001b[0;34m]\u001b[0m\u001b[0;34m,\u001b[0m\u001b[0mnhanesII\u001b[0m\u001b[0;34m[\u001b[0m\u001b[0;34m\"treated\"\u001b[0m\u001b[0;34m]\u001b[0m\u001b[0;34m)\u001b[0m\u001b[0;34m,\u001b[0m \u001b[0maxis\u001b[0m\u001b[0;34m=\u001b[0m\u001b[0;36m1\u001b[0m\u001b[0;34m)\u001b[0m\u001b[0;34m\u001b[0m\u001b[0;34m\u001b[0m\u001b[0m\n\u001b[0m",
      "\u001b[0;32m<ipython-input-42-c03421987bf1>\u001b[0m in \u001b[0;36mget_frs_atp3\u001b[0;34m(sex, age, hdl, totchol, sbp, curr_smq, treated)\u001b[0m\n\u001b[1;32m      1\u001b[0m \u001b[0;32mdef\u001b[0m \u001b[0mget_frs_atp3\u001b[0m\u001b[0;34m(\u001b[0m\u001b[0msex\u001b[0m\u001b[0;34m,\u001b[0m\u001b[0mage\u001b[0m\u001b[0;34m,\u001b[0m\u001b[0mhdl\u001b[0m\u001b[0;34m,\u001b[0m\u001b[0mtotchol\u001b[0m\u001b[0;34m,\u001b[0m\u001b[0msbp\u001b[0m\u001b[0;34m,\u001b[0m\u001b[0mcurr_smq\u001b[0m\u001b[0;34m,\u001b[0m\u001b[0mtreated\u001b[0m\u001b[0;34m)\u001b[0m\u001b[0;34m:\u001b[0m\u001b[0;34m\u001b[0m\u001b[0;34m\u001b[0m\u001b[0m\n\u001b[1;32m      2\u001b[0m     \u001b[0mrisk_score\u001b[0m \u001b[0;34m=\u001b[0m \u001b[0;36m0\u001b[0m\u001b[0;34m\u001b[0m\u001b[0;34m\u001b[0m\u001b[0m\n\u001b[0;32m----> 3\u001b[0;31m     \u001b[0;32mif\u001b[0m \u001b[0msex\u001b[0m \u001b[0;34m==\u001b[0m \u001b[0;36m1\u001b[0m\u001b[0;34m:\u001b[0m\u001b[0;34m\u001b[0m\u001b[0;34m\u001b[0m\u001b[0m\n\u001b[0m\u001b[1;32m      4\u001b[0m         \u001b[0mrisk_score\u001b[0m \u001b[0;34m+=\u001b[0m \u001b[0mmage_pts\u001b[0m\u001b[0;34m(\u001b[0m\u001b[0mage\u001b[0m\u001b[0;34m)\u001b[0m\u001b[0;34m\u001b[0m\u001b[0;34m\u001b[0m\u001b[0m\n\u001b[1;32m      5\u001b[0m         \u001b[0mrisk_score\u001b[0m \u001b[0;34m+=\u001b[0m \u001b[0mmhdl_pts\u001b[0m\u001b[0;34m(\u001b[0m\u001b[0mhdl\u001b[0m\u001b[0;34m)\u001b[0m\u001b[0;34m\u001b[0m\u001b[0;34m\u001b[0m\u001b[0m\n",
      "\u001b[0;32m/Library/Frameworks/Python.framework/Versions/3.8/lib/python3.8/site-packages/pandas/core/generic.py\u001b[0m in \u001b[0;36m__nonzero__\u001b[0;34m(self)\u001b[0m\n\u001b[1;32m   1476\u001b[0m \u001b[0;34m\u001b[0m\u001b[0m\n\u001b[1;32m   1477\u001b[0m     \u001b[0;32mdef\u001b[0m \u001b[0m__nonzero__\u001b[0m\u001b[0;34m(\u001b[0m\u001b[0mself\u001b[0m\u001b[0;34m)\u001b[0m\u001b[0;34m:\u001b[0m\u001b[0;34m\u001b[0m\u001b[0;34m\u001b[0m\u001b[0m\n\u001b[0;32m-> 1478\u001b[0;31m         raise ValueError(\n\u001b[0m\u001b[1;32m   1479\u001b[0m             \u001b[0;34mf\"The truth value of a {type(self).__name__} is ambiguous. \"\u001b[0m\u001b[0;34m\u001b[0m\u001b[0;34m\u001b[0m\u001b[0m\n\u001b[1;32m   1480\u001b[0m             \u001b[0;34m\"Use a.empty, a.bool(), a.item(), a.any() or a.all().\"\u001b[0m\u001b[0;34m\u001b[0m\u001b[0;34m\u001b[0m\u001b[0m\n",
      "\u001b[0;31mValueError\u001b[0m: The truth value of a Series is ambiguous. Use a.empty, a.bool(), a.item(), a.any() or a.all()."
     ]
    }
   ],
   "source": [
    "nhanesII[\"frs\"] = nhanesII.apply(get_frs_atp3(nhanesII[\"SEX\"],nhanesII[\"AGEYR_AT_INT\"],nhanesII[\"lbdhdd\"],nhanesII[\"lbxtc\"],nhanesII[\"asbp\"],nhanesII[\"curr_smq\"],nhanesII[\"treated\"]), axis=1)"
   ]
  },
  {
   "cell_type": "code",
   "execution_count": null,
   "metadata": {},
   "outputs": [],
   "source": []
  }
 ],
 "metadata": {
  "kernelspec": {
   "display_name": "Python 3",
   "language": "python",
   "name": "python3"
  },
  "language_info": {
   "codemirror_mode": {
    "name": "ipython",
    "version": 3
   },
   "file_extension": ".py",
   "mimetype": "text/x-python",
   "name": "python",
   "nbconvert_exporter": "python",
   "pygments_lexer": "ipython3",
   "version": "3.8.4"
  }
 },
 "nbformat": 4,
 "nbformat_minor": 4
}
