{
 "cells": [
  {
   "cell_type": "code",
   "execution_count": 2,
   "metadata": {},
   "outputs": [],
   "source": [
    "import pandas as pd\n",
    "import numpy as np"
   ]
  },
  {
   "cell_type": "markdown",
   "metadata": {},
   "source": [
    "Load Data"
   ]
  },
  {
   "cell_type": "markdown",
   "metadata": {},
   "source": [
    "# NHANES II"
   ]
  },
  {
   "cell_type": "code",
   "execution_count": 84,
   "metadata": {
    "scrolled": true
   },
   "outputs": [],
   "source": [
    "nhanesII = pd.read_stata(\"/Users/bryankim/Documents/NBER/Case Deaton/Data/FRS/Old Framingham/NHANESII/all_nhanesnhanesII_for_frs.dta\")\n",
    "nhanesII[\"sex\"].replace(\"Male\", 1,inplace=True)\n",
    "nhanesII[\"sex\"].replace(\"Female\", 2,inplace=True)"
   ]
  },
  {
   "cell_type": "code",
   "execution_count": 86,
   "metadata": {},
   "outputs": [],
   "source": [
    "nhanesII[[\"sex\",\"treated\",\"wgt\"]].head().dtypes\n",
    "nhanesII[\"sex\"].head()\n",
    "nhanesII[\"sex\"].astype('float32').dtypes\n",
    "nhanesII['sex'] = pd.factorize(nhanesII['sex'])[0] + 1"
   ]
  },
  {
   "cell_type": "markdown",
   "metadata": {},
   "source": [
    "See Ranges"
   ]
  },
  {
   "cell_type": "code",
   "execution_count": 39,
   "metadata": {},
   "outputs": [
    {
     "name": "stdout",
     "output_type": "stream",
     "text": [
      "AGEYR_AT_INT    45.0\n",
      "SEX              1.0\n",
      "lbdhdd          15.0\n",
      "lbxtc           80.0\n",
      "treated          0.0\n",
      "asbp            70.0\n",
      "curr_smq         0.0\n",
      "dtype: float64\n",
      "AGEYR_AT_INT     74.0\n",
      "SEX               2.0\n",
      "lbdhdd          187.0\n",
      "lbxtc           644.0\n",
      "treated           1.0\n",
      "asbp            300.0\n",
      "curr_smq          1.0\n",
      "dtype: float64\n"
     ]
    },
    {
     "data": {
      "text/plain": [
       "False"
      ]
     },
     "execution_count": 39,
     "metadata": {},
     "output_type": "execute_result"
    }
   ],
   "source": [
    "print(nhanesII[[\"age\",\"sex\",\"hdl\",\"lbxtc\",\"treated\",\"asbp\",\"smq020\",\"lbxgh\"]].min())\n",
    "print(nhanesII[[\"AGEYR_AT_INT\",\"SEX\",\"lbdhdd\",\"lbxtc\",\"treated\",\"asbp\",\"curr_smq\"]].max())\n",
    "nhanesII.curr_smq.value_counts()\n",
    "nhanesII[\"curr_smq\"][1]==1"
   ]
  },
  {
   "cell_type": "markdown",
   "metadata": {},
   "source": [
    "Create `treated` variable"
   ]
  },
  {
   "cell_type": "markdown",
   "metadata": {},
   "source": [
    "Define `check` functions for females"
   ]
  },
  {
   "cell_type": "code",
   "execution_count": 5,
   "metadata": {},
   "outputs": [],
   "source": [
    "def ftchol_pts(totchol,age):\n",
    "    if totchol < 160:\n",
    "        return(0)\n",
    "    if totchol in range(160,199+1):\n",
    "        if age in range(20,39+1): return(4)\n",
    "        if age in range(40,49+1): return(3) \n",
    "        if age in range(50,59+1): return(2) \n",
    "        if age in range(60,69+1): return(1) \n",
    "        if age >= 70: return(1) \n",
    "    if totchol in range(200,239+1):\n",
    "        if age in range(20,39+1): return(8) \n",
    "        if age in range(40,49+1): return(6) \n",
    "        if age in range(50,59+1): return(4) \n",
    "        if age in range(60,69+1): return(2) \n",
    "        if age >= 70: return(1) \n",
    "    if totchol in range(240,279+1):\n",
    "        if age in range(20,39+1): return(11) \n",
    "        if age in range(40,49+1): return(8) \n",
    "        if age in range(50,59+1): return(5) \n",
    "        if age in range(60,69+1): return(3) \n",
    "        if age >= 70: return(2) \n",
    "    if totchol >= 280:\n",
    "        if age in range(20,39+1): return(13) \n",
    "        if age in range(40,49+1): return(10)\n",
    "        if age in range(50,59+1): return(7)\n",
    "        if age in range(60,69+1): return(4) \n",
    "        if age >= 70: return(2) \n",
    "    \n",
    "def fsmoke_pts(curr_smq,age):\n",
    "    if curr_smq == 0:\n",
    "        return(0)\n",
    "    if curr_smq == 1:\n",
    "        if age in range(20,39+1): return(9) \n",
    "        if age in range(40,49+1): return(7) \n",
    "        if age in range(50,59+1): return(4) \n",
    "        if age in range(60,69+1): return(2)\n",
    "        if age >= 70: return(1) \n",
    "\n",
    "    \n",
    "def fsbp_pts(sbp,treated):\n",
    "    if sbp < 120:\n",
    "        return(0)\n",
    "    if sbp in range(120,129+1):\n",
    "        return(3) if treated == 1 else 1\n",
    "    if sbp in range(130,139+1):\n",
    "        return(4) if treated == 1 else 2\n",
    "    if sbp in range(140,159+1):\n",
    "        return(5) if treated == 1 else 3\n",
    "    if sbp >= 160:\n",
    "        return(6) if treated == 1 else 4\n",
    "    \n",
    "def fage_pts(age):\n",
    "    if age in range(45,49+1):\n",
    "        return(3)\n",
    "    if age in range(50,54+1):\n",
    "        return(6)\n",
    "    if age in range(55,59+1):\n",
    "        return(8)\n",
    "    if age in range(60,64+1):\n",
    "        return(10)\n",
    "    if age in range(65,69+1):\n",
    "        return(12)\n",
    "    if age in range(70,74+1):\n",
    "        return(14)\n",
    "    if age >= 75:\n",
    "        return(16)\n",
    "\n",
    "def fhdl_pts(hdl):\n",
    "    if hdl >= 60:\n",
    "        return(-1)\n",
    "    if hdl in range(50,59+1):\n",
    "        return(0)\n",
    "    if hdl in range(40,49+1):\n",
    "        return(1)\n",
    "    if hdl < 40:\n",
    "        return(2)"
   ]
  },
  {
   "cell_type": "markdown",
   "metadata": {},
   "source": [
    "Define `check` functions for males"
   ]
  },
  {
   "cell_type": "code",
   "execution_count": 6,
   "metadata": {},
   "outputs": [],
   "source": [
    "def mtchol_pts(totchol,age):\n",
    "    if totchol < 160:\n",
    "        return(0)\n",
    "    if totchol in range(160,199+1):\n",
    "        if age in range(20,39+1): return(4)\n",
    "        if age in range(40,49+1): return(3) \n",
    "        if age in range(50,59+1): return(2) \n",
    "        if age in range(60,69+1): return(1) \n",
    "        if age >= 70: return(0) \n",
    "    if totchol in range(200,239+1):\n",
    "        if age in range(20,39+1): return(7) \n",
    "        if age in range(40,49+1): return(5) \n",
    "        if age in range(50,59+1): return(3) \n",
    "        if age in range(60,69+1): return(1) \n",
    "        if age >= 70: return(0) \n",
    "    if totchol in range(240,279+1):\n",
    "        if age in range(20,39+1): return(9) \n",
    "        if age in range(40,49+1): return(6) \n",
    "        if age in range(50,59+1): return(4) \n",
    "        if age in range(60,69+1): return(2) \n",
    "        if age >= 70: return(1) \n",
    "    if totchol >= 280:\n",
    "        if age in range(20,39+1): return(11) \n",
    "        if age in range(40,49+1): return(8)\n",
    "        if age in range(50,59+1): return(5)\n",
    "        if age in range(60,69+1): return(3) \n",
    "        if age >= 70:return(1) \n",
    "\n",
    "\n",
    "#\n",
    " \n",
    "def msmoke_pts(curr_smq,age):\n",
    "    if curr_smq == 0:\n",
    "        return(0)\n",
    "    if curr_smq == 1:\n",
    "        if age in range(20,39+1): return(8) \n",
    "        if age in range(40,49+1): return(5) \n",
    "        if age in range(50,59+1): return(3) \n",
    "        if age in range(60,69+1): return(1)\n",
    "        if age >= 70: return(1)\n",
    "    \n",
    "def msbp_pts(sbp,treated):\n",
    "    if sbp < 120:\n",
    "        return(0)\n",
    "    if sbp in range(120,129+1):\n",
    "        return(1) if treated == 1 else 0\n",
    "    if sbp in range(130,159+1):\n",
    "        return(2) if treated == 1 else 1\n",
    "    if sbp >= 160:\n",
    "        return(3) if treated == 1 else 2\n",
    "    \n",
    "def mage_pts(age):\n",
    "    if age in range(45,49+1):\n",
    "        return(3)\n",
    "    if age in range(50,54+1):\n",
    "        return(6)\n",
    "    if age in range(55,59+1):\n",
    "        return(8)\n",
    "    if age in range(60,64+1):\n",
    "        return(10)\n",
    "    if age in range(65,69+1):\n",
    "        return(11)\n",
    "    if age in range(70,74+1):\n",
    "        return(12)\n",
    "    if age >= 75:\n",
    "        return(13)\n",
    "\n",
    "def mhdl_pts(hdl):\n",
    "    if hdl >= 60:\n",
    "        return(-1)\n",
    "    if hdl in range(50,59+1):\n",
    "        return(0)\n",
    "    if hdl in range(40,49+1):\n",
    "        return(1)\n",
    "    if hdl < 40:\n",
    "        return(2)"
   ]
  },
  {
   "cell_type": "code",
   "execution_count": 31,
   "metadata": {},
   "outputs": [],
   "source": [
    "def get_frs_atp3(sex,age,hdl,totchol,sbp,curr_smq,treated):\n",
    "    risk_score = 0\n",
    "    if sex == 1:\n",
    "        risk_score += mage_pts(age)\n",
    "        risk_score += mhdl_pts(hdl)\n",
    "        risk_score += mtchol_pts(totchol,age)\n",
    "        risk_score += msbp_pts(sbp,treated)\n",
    "        risk_score += msmoke_pts(curr_smq,age)\n",
    "    if sex == 2:\n",
    "        risk_score += fage_pts(age)\n",
    "        risk_score += fhdl_pts(hdl)\n",
    "        risk_score += ftchol_pts(totchol,age)\n",
    "        risk_score += fsbp_pts(sbp,treated)\n",
    "        risk_score += fsmoke_pts(curr_smq,age)\n",
    "    return(risk_score)\n",
    "\n",
    "def get_frs_atp3_nhanesII(x):\n",
    "    risk_score = 0\n",
    "    if x[\"sex\"] == 1:\n",
    "        risk_score += mage_pts(x[\"age\"])\n",
    "        risk_score += mhdl_pts(x[\"hdl\"])\n",
    "        risk_score += mtchol_pts(x[\"lbxtc\"],x[\"age\"])\n",
    "        risk_score += msbp_pts(x[\"asbp\"],x[\"treated\"])\n",
    "        risk_score += msmoke_pts(x[\"curr_smq\"],x[\"age\"])\n",
    "    if x[\"sex\"] == 2:\n",
    "        risk_score += fage_pts(x[\"AGEYR_AT_INT\"])\n",
    "        risk_score += fhdl_pts(x[\"hdl\"])\n",
    "        risk_score += ftchol_pts(x[\"lbxtc\"],x[\"age\"])\n",
    "        risk_score += fsbp_pts(x[\"asbp\"],x[\"treated\"])\n",
    "        risk_score += fsmoke_pts(x[\"curr_smq\"],x[\"age\"])\n",
    "    return(risk_score)\n"
   ]
  },
  {
   "cell_type": "markdown",
   "metadata": {},
   "source": [
    "    Need to complete cases of all variable (fields) before running `get_frs` function"
   ]
  },
  {
   "cell_type": "code",
   "execution_count": 35,
   "metadata": {},
   "outputs": [
    {
     "data": {
      "text/html": [
       "<div>\n",
       "<style scoped>\n",
       "    .dataframe tbody tr th:only-of-type {\n",
       "        vertical-align: middle;\n",
       "    }\n",
       "\n",
       "    .dataframe tbody tr th {\n",
       "        vertical-align: top;\n",
       "    }\n",
       "\n",
       "    .dataframe thead th {\n",
       "        text-align: right;\n",
       "    }\n",
       "</style>\n",
       "<table border=\"1\" class=\"dataframe\">\n",
       "  <thead>\n",
       "    <tr style=\"text-align: right;\">\n",
       "      <th></th>\n",
       "      <th>sepal length (cm)</th>\n",
       "      <th>sepal width (cm)</th>\n",
       "      <th>petal length (cm)</th>\n",
       "      <th>petal width (cm)</th>\n",
       "    </tr>\n",
       "  </thead>\n",
       "  <tbody>\n",
       "    <tr>\n",
       "      <th>0</th>\n",
       "      <td>5.1</td>\n",
       "      <td>3.5</td>\n",
       "      <td>1.4</td>\n",
       "      <td>0.2</td>\n",
       "    </tr>\n",
       "    <tr>\n",
       "      <th>1</th>\n",
       "      <td>4.9</td>\n",
       "      <td>3.0</td>\n",
       "      <td>1.4</td>\n",
       "      <td>0.2</td>\n",
       "    </tr>\n",
       "    <tr>\n",
       "      <th>2</th>\n",
       "      <td>4.7</td>\n",
       "      <td>3.2</td>\n",
       "      <td>1.3</td>\n",
       "      <td>0.2</td>\n",
       "    </tr>\n",
       "    <tr>\n",
       "      <th>3</th>\n",
       "      <td>4.6</td>\n",
       "      <td>3.1</td>\n",
       "      <td>1.5</td>\n",
       "      <td>0.2</td>\n",
       "    </tr>\n",
       "    <tr>\n",
       "      <th>4</th>\n",
       "      <td>5.0</td>\n",
       "      <td>3.6</td>\n",
       "      <td>1.4</td>\n",
       "      <td>0.2</td>\n",
       "    </tr>\n",
       "  </tbody>\n",
       "</table>\n",
       "</div>"
      ],
      "text/plain": [
       "   sepal length (cm)  sepal width (cm)  petal length (cm)  petal width (cm)\n",
       "0                5.1               3.5                1.4               0.2\n",
       "1                4.9               3.0                1.4               0.2\n",
       "2                4.7               3.2                1.3               0.2\n",
       "3                4.6               3.1                1.5               0.2\n",
       "4                5.0               3.6                1.4               0.2"
      ]
     },
     "execution_count": 35,
     "metadata": {},
     "output_type": "execute_result"
    }
   ],
   "source": [
    "from sklearn.datasets import load_iris\n",
    "data = load_iris()\n",
    "features = pd.DataFrame(data = data['data'], columns= data ['feature_names'])\n",
    "features.head()"
   ]
  },
  {
   "cell_type": "code",
   "execution_count": 131,
   "metadata": {},
   "outputs": [
    {
     "data": {
      "text/plain": [
       "5328"
      ]
     },
     "execution_count": 131,
     "metadata": {},
     "output_type": "execute_result"
    }
   ],
   "source": [
    "nhanesII=nhanesII.dropna(subset=[\"age\",\"sex\",\"hdl\",\"lbxtc\",\"asbp\",\"smq020\",\"treated\"])\n",
    "# count number of rows\n",
    "nhanesII.sex.count()"
   ]
  },
  {
   "cell_type": "code",
   "execution_count": 64,
   "metadata": {},
   "outputs": [
    {
     "data": {
      "text/plain": [
       "age        float32\n",
       "sex          int64\n",
       "hdl        float32\n",
       "lbxtc      float64\n",
       "treated    float32\n",
       "asbp       float32\n",
       "smq020     float64\n",
       "treated    float32\n",
       "dtype: object"
      ]
     },
     "execution_count": 64,
     "metadata": {},
     "output_type": "execute_result"
    }
   ],
   "source": [
    "nhanesII[[\"age\",\"sex\",\"hdl\",\"lbxtc\",\"treated\",\"asbp\",\"smq020\",\"treated\"]].dtypes"
   ]
  },
  {
   "cell_type": "code",
   "execution_count": 69,
   "metadata": {
    "scrolled": false
   },
   "outputs": [
    {
     "data": {
      "text/plain": [
       "287    15\n",
       "288    18\n",
       "289    15\n",
       "290    19\n",
       "291    17\n",
       "Name: frs_atp3, dtype: int64"
      ]
     },
     "execution_count": 69,
     "metadata": {},
     "output_type": "execute_result"
    }
   ],
   "source": [
    "nhanesII[\"frs_atp3\"]=list(map(get_frs_atp3,nhanesII[\"sex\"],nhanesII[\"age\"],nhanesII[\"hdl\"],nhanesII[\"lbxtc\"],nhanesII[\"asbp\"],nhanesII[\"curr_smq\"],nhanesII[\"treated\"])) \n",
    "nhanesII[\"frs_atp3\"].head()"
   ]
  },
  {
   "cell_type": "code",
   "execution_count": 71,
   "metadata": {},
   "outputs": [],
   "source": [
    "nhanesII.to_stata(\"/Users/bryankim/Documents/NBER/Case Deaton/Data/FRS/ATP3/nhanesII_frs_atp3.dta\")"
   ]
  },
  {
   "cell_type": "markdown",
   "metadata": {},
   "source": [
    "\n",
    "# NHANES III "
   ]
  },
  {
   "cell_type": "code",
   "execution_count": 114,
   "metadata": {},
   "outputs": [],
   "source": [
    "def get_frs_atp3_nhanesIII(x):\n",
    "    risk_score = 0\n",
    "    if x[\"sex\"] == 1:\n",
    "        risk_score += mage_pts(x[\"age\"])\n",
    "        risk_score += mhdl_pts(x[\"hdl\"])\n",
    "        risk_score += mtchol_pts(x[\"lbxtc\"],x[\"age\"])\n",
    "        risk_score += msbp_pts(x[\"asbp\"],x[\"treated_hpt\"])\n",
    "        risk_score += msmoke_pts(x[\"curr_smq\"],x[\"age\"])\n",
    "    if x[\"sex\"] == 2:\n",
    "        risk_score += fage_pts(x[\"age\"])\n",
    "        risk_score += fhdl_pts(x[\"hdl\"])\n",
    "        risk_score += ftchol_pts(x[\"lbxtc\"],x[\"HSAGEIR\"])\n",
    "        risk_score += fsbp_pts(x[\"asbp\"],x[\"treated_hpt\"])\n",
    "        risk_score += fsmoke_pts(x[\"curr_smq\"],x[\"age\"])\n",
    "    return(risk_score)"
   ]
  },
  {
   "cell_type": "markdown",
   "metadata": {},
   "source": [
    "## Phase 1"
   ]
  },
  {
   "cell_type": "code",
   "execution_count": 159,
   "metadata": {
    "scrolled": true
   },
   "outputs": [
    {
     "data": {
      "text/html": [
       "<div>\n",
       "<style scoped>\n",
       "    .dataframe tbody tr th:only-of-type {\n",
       "        vertical-align: middle;\n",
       "    }\n",
       "\n",
       "    .dataframe tbody tr th {\n",
       "        vertical-align: top;\n",
       "    }\n",
       "\n",
       "    .dataframe thead th {\n",
       "        text-align: right;\n",
       "    }\n",
       "</style>\n",
       "<table border=\"1\" class=\"dataframe\">\n",
       "  <thead>\n",
       "    <tr style=\"text-align: right;\">\n",
       "      <th></th>\n",
       "      <th>age</th>\n",
       "      <th>sex</th>\n",
       "      <th>hdl</th>\n",
       "      <th>lbxtc</th>\n",
       "      <th>asbp</th>\n",
       "      <th>HAR1</th>\n",
       "      <th>treated_hpt</th>\n",
       "    </tr>\n",
       "  </thead>\n",
       "  <tbody>\n",
       "    <tr>\n",
       "      <th>0</th>\n",
       "      <td>48.0</td>\n",
       "      <td>Female</td>\n",
       "      <td>66.0</td>\n",
       "      <td>236.0</td>\n",
       "      <td>131.0</td>\n",
       "      <td>1</td>\n",
       "      <td>0.0</td>\n",
       "    </tr>\n",
       "    <tr>\n",
       "      <th>1</th>\n",
       "      <td>48.0</td>\n",
       "      <td>Male</td>\n",
       "      <td>51.0</td>\n",
       "      <td>260.0</td>\n",
       "      <td>120.0</td>\n",
       "      <td>1</td>\n",
       "      <td>0.0</td>\n",
       "    </tr>\n",
       "    <tr>\n",
       "      <th>2</th>\n",
       "      <td>67.0</td>\n",
       "      <td>Female</td>\n",
       "      <td>NaN</td>\n",
       "      <td>NaN</td>\n",
       "      <td>NaN</td>\n",
       "      <td>2</td>\n",
       "      <td>0.0</td>\n",
       "    </tr>\n",
       "    <tr>\n",
       "      <th>3</th>\n",
       "      <td>56.0</td>\n",
       "      <td>Female</td>\n",
       "      <td>42.0</td>\n",
       "      <td>156.0</td>\n",
       "      <td>128.0</td>\n",
       "      <td>1</td>\n",
       "      <td>0.0</td>\n",
       "    </tr>\n",
       "    <tr>\n",
       "      <th>4</th>\n",
       "      <td>50.0</td>\n",
       "      <td>Male</td>\n",
       "      <td>47.0</td>\n",
       "      <td>244.0</td>\n",
       "      <td>117.0</td>\n",
       "      <td>2</td>\n",
       "      <td>0.0</td>\n",
       "    </tr>\n",
       "  </tbody>\n",
       "</table>\n",
       "</div>"
      ],
      "text/plain": [
       "    age     sex   hdl  lbxtc   asbp  HAR1  treated_hpt\n",
       "0  48.0  Female  66.0  236.0  131.0     1          0.0\n",
       "1  48.0    Male  51.0  260.0  120.0     1          0.0\n",
       "2  67.0  Female   NaN    NaN    NaN     2          0.0\n",
       "3  56.0  Female  42.0  156.0  128.0     1          0.0\n",
       "4  50.0    Male  47.0  244.0  117.0     2          0.0"
      ]
     },
     "execution_count": 159,
     "metadata": {},
     "output_type": "execute_result"
    }
   ],
   "source": [
    "nhanesIIIP1 = pd.read_stata(\"/Users/bryankim/Documents/NBER/Case Deaton/Data/FRS/Old Framingham/NHANESIII/all_nhanesnhanesIIIP1_for_frs.dta\")\n",
    "nhanesIIIP1[[\"age\",\"sex\",\"hdl\",\"lbxtc\",\"asbp\",\"HAR1\",\"treated_hpt\"]].head()"
   ]
  },
  {
   "cell_type": "code",
   "execution_count": 160,
   "metadata": {},
   "outputs": [
    {
     "data": {
      "text/plain": [
       "2988"
      ]
     },
     "execution_count": 160,
     "metadata": {},
     "output_type": "execute_result"
    }
   ],
   "source": [
    "nhanesIIIP1=nhanesIIIP1.dropna(subset=[\"age\",\"sex\",\"hdl\",\"lbxtc\",\"asbp\",\"HAR1\",\"treated_hpt\"])\n",
    "# count number of rows\n",
    "nhanesIIIP1.sex.count()"
   ]
  },
  {
   "cell_type": "code",
   "execution_count": 161,
   "metadata": {
    "scrolled": false
   },
   "outputs": [
    {
     "name": "stdout",
     "output_type": "stream",
     "text": [
      "sex            Female\n",
      "age                45\n",
      "hdl                13\n",
      "lbxtc             103\n",
      "treated_hpt         0\n",
      "asbp               80\n",
      "curr_smq            0\n",
      "dtype: object\n",
      "sex            Male\n",
      "age              74\n",
      "hdl             191\n",
      "lbxtc           464\n",
      "treated_hpt       1\n",
      "asbp            230\n",
      "curr_smq          1\n",
      "dtype: object\n"
     ]
    },
    {
     "data": {
      "text/plain": [
       "False"
      ]
     },
     "execution_count": 161,
     "metadata": {},
     "output_type": "execute_result"
    }
   ],
   "source": [
    "print(nhanesIIIP1[[\"sex\",\"age\",\"hdl\",\"lbxtc\",\"treated_hpt\",\"asbp\",\"curr_smq\"]].min())\n",
    "print(nhanesIIIP1[[\"sex\",\"age\",\"hdl\",\"lbxtc\",\"treated_hpt\",\"asbp\",\"curr_smq\"]].max())\n",
    "nhanesIIIP1.curr_smq.value_counts()\n",
    "nhanesIIIP1[\"curr_smq\"][1]==1"
   ]
  },
  {
   "cell_type": "code",
   "execution_count": 162,
   "metadata": {
    "scrolled": true
   },
   "outputs": [
    {
     "data": {
      "text/plain": [
       "sex        category\n",
       "treated     float32\n",
       "wgt         float32\n",
       "dtype: object"
      ]
     },
     "execution_count": 162,
     "metadata": {},
     "output_type": "execute_result"
    }
   ],
   "source": [
    "nhanesIIIP1[[\"sex\",\"treated\",\"wgt\"]].head().dtypes"
   ]
  },
  {
   "cell_type": "code",
   "execution_count": 163,
   "metadata": {},
   "outputs": [
    {
     "data": {
      "text/plain": [
       "0    Female\n",
       "1      Male\n",
       "3    Female\n",
       "4      Male\n",
       "5      Male\n",
       "Name: sex, dtype: category\n",
       "Categories (2, object): [Male < Female]"
      ]
     },
     "execution_count": 163,
     "metadata": {},
     "output_type": "execute_result"
    }
   ],
   "source": [
    "nhanesIIIP1[\"sex\"].head()"
   ]
  },
  {
   "cell_type": "code",
   "execution_count": 164,
   "metadata": {},
   "outputs": [],
   "source": [
    "nhanesIIIP1[\"sex\"].replace(\"Male\", 1,inplace=True)"
   ]
  },
  {
   "cell_type": "code",
   "execution_count": 165,
   "metadata": {},
   "outputs": [],
   "source": [
    "nhanesIIIP1[\"sex\"].replace(\"Female\", 2,inplace=True)"
   ]
  },
  {
   "cell_type": "code",
   "execution_count": 166,
   "metadata": {},
   "outputs": [],
   "source": [
    "nhanesIIIP1['sex'] = pd.factorize(nhanesIIIP1['sex'])[0] + 1"
   ]
  },
  {
   "cell_type": "code",
   "execution_count": 167,
   "metadata": {},
   "outputs": [
    {
     "data": {
      "text/plain": [
       "sex              int64\n",
       "age            float32\n",
       "lbxtc          float64\n",
       "asbp           float32\n",
       "curr_smq       float32\n",
       "treated_hpt    float32\n",
       "wgt            float32\n",
       "hdl            float32\n",
       "dtype: object"
      ]
     },
     "execution_count": 167,
     "metadata": {},
     "output_type": "execute_result"
    }
   ],
   "source": [
    "nhanesIIIP1[[\"sex\",\"age\",\"lbxtc\",\"asbp\",\"curr_smq\",\"treated_hpt\",\"wgt\",\"hdl\"]].head().dtypes"
   ]
  },
  {
   "cell_type": "code",
   "execution_count": 168,
   "metadata": {},
   "outputs": [
    {
     "data": {
      "text/plain": [
       "array([ 66.,  51.,  42.,  47.,  30.,  53.,  46.,  36.,  62.,  44.,  35.,\n",
       "        78.,  54.,  45.,  33.,  37.,  60.,  58.,  41.,  52.,  65.,  83.,\n",
       "        38.,  34.,  49.,  48.,  43.,  81.,  56.,  61.,  87.,  69.,  50.,\n",
       "        68.,  40.,  26.,  91.,  55.,  98.,  72.,  64.,  71.,  22.,  99.,\n",
       "       104.,  25.,  79.,  14.,  39.,  28.,  63.,  76.,  32.,  73.,  59.,\n",
       "        77.,  29.,  92., 106.,  24.,  31.,  70.,  57.,  80.,  84.,  75.,\n",
       "        74.,  67.,  86., 100.,  23.,  93., 110.,  85., 103.,  88.,  19.,\n",
       "       101.,  13.,  27.,  82.,  21., 112.,  97.,  95., 105., 120.,  20.,\n",
       "       117., 123.,  94., 113.,  96.,  89.,  90., 121., 136., 118., 122.,\n",
       "       107., 191., 109., 124.], dtype=float32)"
      ]
     },
     "execution_count": 168,
     "metadata": {},
     "output_type": "execute_result"
    }
   ],
   "source": [
    "nhanesIIIP1.hdl.unique()"
   ]
  },
  {
   "cell_type": "code",
   "execution_count": 169,
   "metadata": {},
   "outputs": [],
   "source": [
    "nhanesIIIP1[\"frs_atp3\"]=list(map(get_frs_atp3,nhanesIIIP1[\"sex\"],nhanesIIIP1[\"age\"],nhanesIIIP1[\"hdl\"],nhanesIIIP1[\"lbxtc\"],nhanesIIIP1[\"asbp\"],nhanesIIIP1[\"curr_smq\"],nhanesIIIP1[\"treated_hpt\"])) "
   ]
  },
  {
   "cell_type": "code",
   "execution_count": 170,
   "metadata": {},
   "outputs": [
    {
     "data": {
      "text/plain": [
       "0     8\n",
       "1    12\n",
       "3     9\n",
       "4    12\n",
       "5    21\n",
       "Name: frs_atp3, dtype: int64"
      ]
     },
     "execution_count": 170,
     "metadata": {},
     "output_type": "execute_result"
    }
   ],
   "source": [
    "nhanesIIIP1[\"frs_atp3\"].head()"
   ]
  },
  {
   "cell_type": "markdown",
   "metadata": {},
   "source": [
    "save"
   ]
  },
  {
   "cell_type": "code",
   "execution_count": 171,
   "metadata": {},
   "outputs": [],
   "source": [
    "nhanesIIIP1.to_stata(\"/Users/bryankim/Documents/NBER/Case Deaton/Data/FRS/ATP3/nhanesIII_P1x_frs_atp3.dta\")"
   ]
  },
  {
   "cell_type": "markdown",
   "metadata": {},
   "source": [
    "## Phase 2"
   ]
  },
  {
   "cell_type": "code",
   "execution_count": 172,
   "metadata": {
    "scrolled": false
   },
   "outputs": [
    {
     "data": {
      "text/html": [
       "<div>\n",
       "<style scoped>\n",
       "    .dataframe tbody tr th:only-of-type {\n",
       "        vertical-align: middle;\n",
       "    }\n",
       "\n",
       "    .dataframe tbody tr th {\n",
       "        vertical-align: top;\n",
       "    }\n",
       "\n",
       "    .dataframe thead th {\n",
       "        text-align: right;\n",
       "    }\n",
       "</style>\n",
       "<table border=\"1\" class=\"dataframe\">\n",
       "  <thead>\n",
       "    <tr style=\"text-align: right;\">\n",
       "      <th></th>\n",
       "      <th>age</th>\n",
       "      <th>sex</th>\n",
       "      <th>hdl</th>\n",
       "      <th>lbxtc</th>\n",
       "      <th>asbp</th>\n",
       "      <th>HAR1</th>\n",
       "      <th>treated_hpt</th>\n",
       "    </tr>\n",
       "  </thead>\n",
       "  <tbody>\n",
       "    <tr>\n",
       "      <th>0</th>\n",
       "      <td>60.0</td>\n",
       "      <td>Female</td>\n",
       "      <td>49.0</td>\n",
       "      <td>207.0</td>\n",
       "      <td>131.0</td>\n",
       "      <td>1</td>\n",
       "      <td>1.0</td>\n",
       "    </tr>\n",
       "    <tr>\n",
       "      <th>1</th>\n",
       "      <td>47.0</td>\n",
       "      <td>Female</td>\n",
       "      <td>56.0</td>\n",
       "      <td>261.0</td>\n",
       "      <td>157.0</td>\n",
       "      <td>2</td>\n",
       "      <td>1.0</td>\n",
       "    </tr>\n",
       "    <tr>\n",
       "      <th>2</th>\n",
       "      <td>58.0</td>\n",
       "      <td>Male</td>\n",
       "      <td>32.0</td>\n",
       "      <td>278.0</td>\n",
       "      <td>125.0</td>\n",
       "      <td>1</td>\n",
       "      <td>0.0</td>\n",
       "    </tr>\n",
       "    <tr>\n",
       "      <th>3</th>\n",
       "      <td>46.0</td>\n",
       "      <td>Female</td>\n",
       "      <td>57.0</td>\n",
       "      <td>166.0</td>\n",
       "      <td>121.0</td>\n",
       "      <td>2</td>\n",
       "      <td>0.0</td>\n",
       "    </tr>\n",
       "    <tr>\n",
       "      <th>4</th>\n",
       "      <td>73.0</td>\n",
       "      <td>Female</td>\n",
       "      <td>40.0</td>\n",
       "      <td>272.0</td>\n",
       "      <td>162.0</td>\n",
       "      <td>2</td>\n",
       "      <td>0.0</td>\n",
       "    </tr>\n",
       "  </tbody>\n",
       "</table>\n",
       "</div>"
      ],
      "text/plain": [
       "    age     sex   hdl  lbxtc   asbp  HAR1  treated_hpt\n",
       "0  60.0  Female  49.0  207.0  131.0     1          1.0\n",
       "1  47.0  Female  56.0  261.0  157.0     2          1.0\n",
       "2  58.0    Male  32.0  278.0  125.0     1          0.0\n",
       "3  46.0  Female  57.0  166.0  121.0     2          0.0\n",
       "4  73.0  Female  40.0  272.0  162.0     2          0.0"
      ]
     },
     "execution_count": 172,
     "metadata": {},
     "output_type": "execute_result"
    }
   ],
   "source": [
    "nhanesIIIP2 = pd.read_stata(\"/Users/bryankim/Documents/NBER/Case Deaton/Data/FRS/Old Framingham/NHANESIII/all_nhanesnhanesIIIP2_for_frs.dta\")\n",
    "nhanesIIIP2[[\"age\",\"sex\",\"hdl\",\"lbxtc\",\"asbp\",\"HAR1\",\"treated_hpt\"]].head()"
   ]
  },
  {
   "cell_type": "code",
   "execution_count": 173,
   "metadata": {},
   "outputs": [
    {
     "data": {
      "text/plain": [
       "2966"
      ]
     },
     "execution_count": 173,
     "metadata": {},
     "output_type": "execute_result"
    }
   ],
   "source": [
    "nhanesIIIP2=nhanesIIIP2.dropna(subset=[\"age\",\"sex\",\"hdl\",\"lbxtc\",\"asbp\",\"HAR1\",\"treated_hpt\"])\n",
    "# count number of rows\n",
    "nhanesIIIP2.sex.count()"
   ]
  },
  {
   "cell_type": "code",
   "execution_count": 174,
   "metadata": {
    "scrolled": true
   },
   "outputs": [
    {
     "data": {
      "text/plain": [
       "sex              int64\n",
       "age            float32\n",
       "lbxtc          float64\n",
       "asbp           float32\n",
       "curr_smq       float32\n",
       "treated_hpt    float32\n",
       "wgt            float32\n",
       "hdl            float32\n",
       "dtype: object"
      ]
     },
     "execution_count": 174,
     "metadata": {},
     "output_type": "execute_result"
    }
   ],
   "source": [
    "nhanesIIIP2[\"sex\"].replace(\"Male\", 1,inplace=True)\n",
    "nhanesIIIP2[\"sex\"].replace(\"Female\", 2,inplace=True)\n",
    "nhanesIIIP2['sex'] = pd.factorize(nhanesIIIP2['sex'])[0] + 1\n",
    "nhanesIIIP2[[\"sex\",\"age\",\"lbxtc\",\"asbp\",\"curr_smq\",\"treated_hpt\",\"wgt\",\"hdl\"]].head().dtypes"
   ]
  },
  {
   "cell_type": "code",
   "execution_count": 175,
   "metadata": {},
   "outputs": [],
   "source": [
    "nhanesIIIP2[\"frs_atp3\"]=list(map(get_frs_atp3,nhanesIIIP2[\"sex\"],nhanesIIIP2[\"age\"],nhanesIIIP2[\"hdl\"],nhanesIIIP2[\"lbxtc\"],nhanesIIIP2[\"asbp\"],nhanesIIIP2[\"curr_smq\"],nhanesIIIP2[\"treated_hpt\"])) "
   ]
  },
  {
   "cell_type": "code",
   "execution_count": 176,
   "metadata": {},
   "outputs": [
    {
     "data": {
      "text/plain": [
       "0    14\n",
       "1    11\n",
       "2    16\n",
       "3     6\n",
       "4    16\n",
       "Name: frs_atp3, dtype: int64"
      ]
     },
     "execution_count": 176,
     "metadata": {},
     "output_type": "execute_result"
    }
   ],
   "source": [
    "nhanesIIIP2[\"frs_atp3\"].head()"
   ]
  },
  {
   "cell_type": "markdown",
   "metadata": {},
   "source": [
    "save"
   ]
  },
  {
   "cell_type": "code",
   "execution_count": 158,
   "metadata": {},
   "outputs": [],
   "source": [
    "nhanesIIIP2.to_stata(\"/Users/bryankim/Documents/NBER/Case Deaton/Data/FRS/ATP3/nhanesIII_P2x_frs_atp3.dta\")"
   ]
  },
  {
   "cell_type": "markdown",
   "metadata": {},
   "source": [
    "# NHANES Continuous"
   ]
  },
  {
   "cell_type": "markdown",
   "metadata": {},
   "source": [
    "## Process"
   ]
  },
  {
   "cell_type": "code",
   "execution_count": 202,
   "metadata": {
    "scrolled": true
   },
   "outputs": [],
   "source": [
    "nhanes1999_2000 = pd.read_stata(\"/Users/bryankim/Documents/NBER/Case Deaton/Data/FRS/ATP3/all_nhanes1999_2000_for_frs_atp3.dta\")\n",
    "#nhanes1999_2000=nhanes1999_2000.dropna(subset=[\"sex\",\"age\",\"hdl\",\"lbxtc\",\"asbp\",\"smq020\",\"treated_hpt\"])"
   ]
  },
  {
   "cell_type": "code",
   "execution_count": 203,
   "metadata": {},
   "outputs": [
    {
     "data": {
      "text/html": [
       "<div>\n",
       "<style scoped>\n",
       "    .dataframe tbody tr th:only-of-type {\n",
       "        vertical-align: middle;\n",
       "    }\n",
       "\n",
       "    .dataframe tbody tr th {\n",
       "        vertical-align: top;\n",
       "    }\n",
       "\n",
       "    .dataframe thead th {\n",
       "        text-align: right;\n",
       "    }\n",
       "</style>\n",
       "<table border=\"1\" class=\"dataframe\">\n",
       "  <thead>\n",
       "    <tr style=\"text-align: right;\">\n",
       "      <th></th>\n",
       "      <th>riagendr</th>\n",
       "      <th>age</th>\n",
       "      <th>hdl</th>\n",
       "      <th>lbxtc</th>\n",
       "      <th>asbp</th>\n",
       "      <th>smq020</th>\n",
       "      <th>treated_hpt</th>\n",
       "      <th>treated_hchol</th>\n",
       "      <th>treated_diabetes</th>\n",
       "    </tr>\n",
       "  </thead>\n",
       "  <tbody>\n",
       "    <tr>\n",
       "      <th>0</th>\n",
       "      <td>1.0</td>\n",
       "      <td>49.0</td>\n",
       "      <td>42.0</td>\n",
       "      <td>279.0</td>\n",
       "      <td>122.0</td>\n",
       "      <td>1.0</td>\n",
       "      <td>1.0</td>\n",
       "      <td>0.0</td>\n",
       "      <td>0.0</td>\n",
       "    </tr>\n",
       "    <tr>\n",
       "      <th>1</th>\n",
       "      <td>2.0</td>\n",
       "      <td>59.0</td>\n",
       "      <td>105.0</td>\n",
       "      <td>245.0</td>\n",
       "      <td>123.0</td>\n",
       "      <td>1.0</td>\n",
       "      <td>0.0</td>\n",
       "      <td>0.0</td>\n",
       "      <td>0.0</td>\n",
       "    </tr>\n",
       "    <tr>\n",
       "      <th>2</th>\n",
       "      <td>1.0</td>\n",
       "      <td>70.0</td>\n",
       "      <td>49.0</td>\n",
       "      <td>314.0</td>\n",
       "      <td>130.0</td>\n",
       "      <td>1.0</td>\n",
       "      <td>1.0</td>\n",
       "      <td>0.0</td>\n",
       "      <td>1.0</td>\n",
       "    </tr>\n",
       "    <tr>\n",
       "      <th>3</th>\n",
       "      <td>2.0</td>\n",
       "      <td>53.0</td>\n",
       "      <td>105.0</td>\n",
       "      <td>219.0</td>\n",
       "      <td>114.0</td>\n",
       "      <td>1.0</td>\n",
       "      <td>0.0</td>\n",
       "      <td>0.0</td>\n",
       "      <td>0.0</td>\n",
       "    </tr>\n",
       "    <tr>\n",
       "      <th>4</th>\n",
       "      <td>1.0</td>\n",
       "      <td>62.0</td>\n",
       "      <td>49.0</td>\n",
       "      <td>216.0</td>\n",
       "      <td>124.0</td>\n",
       "      <td>1.0</td>\n",
       "      <td>1.0</td>\n",
       "      <td>0.0</td>\n",
       "      <td>1.0</td>\n",
       "    </tr>\n",
       "  </tbody>\n",
       "</table>\n",
       "</div>"
      ],
      "text/plain": [
       "   riagendr   age    hdl  lbxtc   asbp  smq020  treated_hpt  treated_hchol  \\\n",
       "0       1.0  49.0   42.0  279.0  122.0     1.0          1.0            0.0   \n",
       "1       2.0  59.0  105.0  245.0  123.0     1.0          0.0            0.0   \n",
       "2       1.0  70.0   49.0  314.0  130.0     1.0          1.0            0.0   \n",
       "3       2.0  53.0  105.0  219.0  114.0     1.0          0.0            0.0   \n",
       "4       1.0  62.0   49.0  216.0  124.0     1.0          1.0            0.0   \n",
       "\n",
       "   treated_diabetes  \n",
       "0               0.0  \n",
       "1               0.0  \n",
       "2               1.0  \n",
       "3               0.0  \n",
       "4               1.0  "
      ]
     },
     "execution_count": 203,
     "metadata": {},
     "output_type": "execute_result"
    }
   ],
   "source": [
    "nhanes1999_2000[[\"riagendr\",\"age\",\"hdl\",\"lbxtc\",\"asbp\",\"smq020\",\"treated_hpt\",\"treated_hchol\",\"treated_diabetes\"]].head()\n",
    "#list(nhanes1999_2000.columns) "
   ]
  },
  {
   "cell_type": "code",
   "execution_count": 199,
   "metadata": {
    "scrolled": true
   },
   "outputs": [
    {
     "data": {
      "text/plain": [
       "0    49.0\n",
       "1    59.0\n",
       "2    70.0\n",
       "3    53.0\n",
       "4    62.0\n",
       "Name: age, dtype: float32"
      ]
     },
     "execution_count": 199,
     "metadata": {},
     "output_type": "execute_result"
    }
   ],
   "source": [
    "nhanes1999_2000.age.head()"
   ]
  },
  {
   "cell_type": "code",
   "execution_count": null,
   "metadata": {},
   "outputs": [],
   "source": [
    "/Users/bryankim/Documents/NBER/Case Deaton/Data/FRS/ATP3/nhanes_\n",
    "/Users/bryankim/Documents/NBER/Case Deaton/Data/FRS/ATP3/all_nhanes"
   ]
  },
  {
   "cell_type": "code",
   "execution_count": 200,
   "metadata": {},
   "outputs": [
    {
     "data": {
      "text/plain": [
       "2091"
      ]
     },
     "execution_count": 200,
     "metadata": {},
     "output_type": "execute_result"
    }
   ],
   "source": [
    "nhanes1999_2000 = pd.read_stata(\"/Users/bryankim/Documents/NBER/Case Deaton/Data/FRS/ATP3/all_nhanes1999_2000_for_frs_atp3.dta\")\n",
    "nhanes2001_2002 = pd.read_stata(\"/Users/bryankim/Documents/NBER/Case Deaton/Data/FRS/ATP3/all_nhanes1999_2000_for_frs_atp3.dta\")\n",
    "nhanes2003_2004 = pd.read_stata(\"/Users/bryankim/Documents/NBER/Case Deaton/Data/FRS/ATP3/all_nhanes2003_2004_for_frs_atp3.dta\")\n",
    "\n",
    "nhanes2005_2006 = pd.read_stata(\"/Users/bryankim/Documents/NBER/Case Deaton/Data/FRS/ATP3/all_nhanes2005_2006_for_frs_atp3.dta\")\n",
    "\n",
    "nhanes2007_2008 = pd.read_stata(\"/Users/bryankim/Documents/NBER/Case Deaton/Data/FRS/ATP3/all_nhanes2007_2008_for_frs_atp3.dta\")\n",
    "\n",
    "nhanes2009_2010 = pd.read_stata(\"/Users/bryankim/Documents/NBER/Case Deaton/Data/FRS/ATP3/all_nhanes2009_2010_for_frs_atp3.dta\")\n",
    "\n",
    "nhanes2011_2012 = pd.read_stata(\"/Users/bryankim/Documents/NBER/Case Deaton/Data/FRS/ATP3/all_nhanes2011_2012_for_frs_atp3.dta\")\n",
    "\n",
    "nhanes2013_2014 = pd.read_stata(\"/Users/bryankim/Documents/NBER/Case Deaton/Data/FRS/ATP3/all_nhanes2013_2014_for_frs_atp3.dta\")\n",
    "\n",
    "nhanes2015_2016 = pd.read_stata(\"/Users/bryankim/Documents/NBER/Case Deaton/Data/FRS/ATP3/all_nhanes2015_2016_for_frs_atp3.dta\")\n",
    "\n",
    "nhanes2017_2018 = pd.read_stata(\"/Users/bryankim/Documents/NBER/Case Deaton/Data/FRS/ATP3/all_nhanes2017_2018_for_frs_atp3.dta\")\n",
    "\n",
    "nhanes1999_2000.sex.count()"
   ]
  },
  {
   "cell_type": "code",
   "execution_count": 204,
   "metadata": {},
   "outputs": [
    {
     "data": {
      "text/plain": [
       "1754"
      ]
     },
     "execution_count": 204,
     "metadata": {},
     "output_type": "execute_result"
    }
   ],
   "source": [
    "nhanes1999_2000=nhanes1999_2000.dropna(subset=[\"riagendr\",\"age\",\"hdl\",\"lbxtc\",\"asbp\",\"smq020\",\"treated_hpt\"])\n",
    "nhanes2001_2002=nhanes2001_2002.dropna(subset=[\"riagendr\",\"age\",\"hdl\",\"lbxtc\",\"asbp\",\"smq020\",\"treated_hpt\"])\n",
    "nhanes2003_2004=nhanes2003_2004.dropna(subset=[\"riagendr\",\"age\",\"hdl\",\"lbxtc\",\"asbp\",\"smq020\",\"treated_hpt\"])\n",
    "nhanes2005_2006=nhanes2005_2006.dropna(subset=[\"riagendr\",\"age\",\"hdl\",\"lbxtc\",\"asbp\",\"smq020\",\"treated_hpt\"])\n",
    "nhanes2007_2008=nhanes2007_2008.dropna(subset=[\"riagendr\",\"age\",\"hdl\",\"lbxtc\",\"asbp\",\"smq020\",\"treated_hpt\"])\n",
    "nhanes2009_2010=nhanes2009_2010.dropna(subset=[\"riagendr\",\"age\",\"hdl\",\"lbxtc\",\"asbp\",\"smq020\",\"treated_hpt\"])\n",
    "nhanes2011_2012=nhanes2011_2012.dropna(subset=[\"riagendr\",\"age\",\"hdl\",\"lbxtc\",\"asbp\",\"smq020\",\"treated_hpt\"])\n",
    "nhanes2013_2014=nhanes2013_2014.dropna(subset=[\"riagendr\",\"age\",\"hdl\",\"lbxtc\",\"asbp\",\"smq020\",\"treated_hpt\"])\n",
    "nhanes2015_2016=nhanes2015_2016.dropna(subset=[\"riagendr\",\"age\",\"hdl\",\"lbxtc\",\"asbp\",\"smq020\",\"treated_hpt\"])\n",
    "nhanes2017_2018=nhanes2017_2018.dropna(subset=[\"riagendr\",\"age\",\"hdl\",\"lbxtc\",\"asbp\",\"smq020\",\"treated_hpt\"])\n",
    "\n",
    "# count number of rows\n",
    "nhanes1999_2000.riagendr.count()\n"
   ]
  },
  {
   "cell_type": "code",
   "execution_count": 205,
   "metadata": {},
   "outputs": [],
   "source": [
    "def get_frs_atp3_cont(x):\n",
    "    risk_score = 0\n",
    "    if x[\"riagendr\"] == 1:\n",
    "        risk_score += mage_pts(x[\"age\"])\n",
    "        risk_score += mhdl_pts(x[\"hdl\"])\n",
    "        risk_score += mtchol_pts(x[\"lbxtc\"],x[\"age\"])\n",
    "        risk_score += msbp_pts(x[\"asbp\"],x[\"treated_hpt\"])\n",
    "        risk_score += msmoke_pts(x[\"curr_smq\"],x[\"age\"])\n",
    "    if x[\"riagendr\"] == 2:\n",
    "        risk_score += fage_pts(x[\"age\"])\n",
    "        risk_score += fhdl_pts(x[\"hdl\"])\n",
    "        risk_score += ftchol_pts(x[\"lbxtc\"],x[\"age\"])\n",
    "        risk_score += fsbp_pts(x[\"asbp\"],x[\"treated_hpt\"])\n",
    "        risk_score += fsmoke_pts(x[\"curr_smq\"],x[\"age\"])\n",
    "    return(risk_score)\n"
   ]
  },
  {
   "cell_type": "code",
   "execution_count": 206,
   "metadata": {},
   "outputs": [],
   "source": [
    "nhanes1999_2000[\"frs_atp3\"]=nhanes1999_2000.apply(get_frs_atp3_cont, axis=1)\n",
    "nhanes2001_2002[\"frs_atp3\"]=nhanes2001_2002.apply(get_frs_atp3_cont, axis=1)\n",
    "nhanes2003_2004[\"frs_atp3\"]=nhanes2003_2004.apply(get_frs_atp3_cont, axis=1)\n",
    "nhanes2005_2006[\"frs_atp3\"]=nhanes2005_2006.apply(get_frs_atp3_cont, axis=1)\n",
    "nhanes2007_2008[\"frs_atp3\"]=nhanes2007_2008.apply(get_frs_atp3_cont, axis=1)\n",
    "nhanes2009_2010[\"frs_atp3\"]=nhanes2009_2010.apply(get_frs_atp3_cont, axis=1)\n",
    "nhanes2011_2012[\"frs_atp3\"]=nhanes2011_2012.apply(get_frs_atp3_cont, axis=1)\n",
    "nhanes2013_2014[\"frs_atp3\"]=nhanes2013_2014.apply(get_frs_atp3_cont, axis=1)\n",
    "nhanes2015_2016[\"frs_atp3\"]=nhanes2015_2016.apply(get_frs_atp3_cont, axis=1)\n",
    "nhanes2017_2018[\"frs_atp3\"]=nhanes2017_2018.apply(get_frs_atp3_cont, axis=1)"
   ]
  },
  {
   "cell_type": "code",
   "execution_count": 207,
   "metadata": {},
   "outputs": [
    {
     "data": {
      "text/plain": [
       "0    11\n",
       "1    13\n",
       "2    16\n",
       "3    13\n",
       "4    13\n",
       "Name: frs_atp3, dtype: int64"
      ]
     },
     "execution_count": 207,
     "metadata": {},
     "output_type": "execute_result"
    }
   ],
   "source": [
    "nhanes1999_2000[\"frs_atp3\"].head()"
   ]
  },
  {
   "cell_type": "code",
   "execution_count": null,
   "metadata": {},
   "outputs": [],
   "source": [
    "nhanes1999_2000.to_stata(\"/Users/bryankim/Documents/NBER/Case Deaton/Data/FRS/ATP3/for FRS/nhanes_1999_2000_frs_atp3.dta\")\n",
    "nhanes2001_2002.to_stata(\"/Users/bryankim/Documents/NBER/Case Deaton/Data/FRS/ATP3/for FRS/nhanes_2001_2002_frs_atp3.dta\")\n",
    "nhanes2003_2004.to_stata(\"/Users/bryankim/Documents/NBER/Case Deaton/Data/FRS/ATP3/for FRS/nhanes_2003_2004_frs_atp3.dta\")\n",
    "nhanes2005_2006.to_stata(\"/Users/bryankim/Documents/NBER/Case Deaton/Data/FRS/ATP3/for FRS/nhanes_2005_2006_frs_atp3.dta\")\n",
    "nhanes2007_2008.to_stata(\"/Users/bryankim/Documents/NBER/Case Deaton/Data/FRS/ATP3/for FRS/nhanes_2007_2008_frs_atp3.dta\")\n",
    "nhanes2009_2010.to_stata(\"/Users/bryankim/Documents/NBER/Case Deaton/Data/FRS/ATP3/for FRS/nhanes_2009_2010_frs_atp3.dta\")\n",
    "nhanes2011_2012.to_stata(\"/Users/bryankim/Documents/NBER/Case Deaton/Data/FRS/ATP3/for FRS/nhanes_2011_2012_frs_atp3.dta\")\n",
    "nhanes2013_2014.to_stata(\"/Users/bryankim/Documents/NBER/Case Deaton/Data/FRS/ATP3/for FRS/nhanes_2013_2014_frs_atp3.dta\")\n",
    "nhanes2015_2016.to_stata(\"/Users/bryankim/Documents/NBER/Case Deaton/Data/FRS/ATP3/for FRS/nhanes_2015_2016_frs_atp3.dta\")\n",
    "nhanes2017_2018.to_stata(\"/Users/bryankim/Documents/NBER/Case Deaton/Data/FRS/ATP3/for FRS/nhanes_2017_2018_frs_atp3.dta\")"
   ]
  },
  {
   "cell_type": "code",
   "execution_count": null,
   "metadata": {},
   "outputs": [],
   "source": []
  }
 ],
 "metadata": {
  "kernelspec": {
   "display_name": "Python 3",
   "language": "python",
   "name": "python3"
  },
  "language_info": {
   "codemirror_mode": {
    "name": "ipython",
    "version": 3
   },
   "file_extension": ".py",
   "mimetype": "text/x-python",
   "name": "python",
   "nbconvert_exporter": "python",
   "pygments_lexer": "ipython3",
   "version": "3.8.4"
  }
 },
 "nbformat": 4,
 "nbformat_minor": 4
}
