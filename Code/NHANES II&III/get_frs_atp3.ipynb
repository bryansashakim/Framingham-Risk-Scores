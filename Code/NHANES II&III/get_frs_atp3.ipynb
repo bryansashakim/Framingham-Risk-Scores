{
 "cells": [
  {
   "cell_type": "code",
   "execution_count": 24,
   "metadata": {},
   "outputs": [],
   "source": [
    "import pandas as pd\n",
    "import numpy as np"
   ]
  },
  {
   "cell_type": "markdown",
   "metadata": {},
   "source": [
    "Load Data"
   ]
  },
  {
   "cell_type": "markdown",
   "metadata": {},
   "source": [
    "# NHANES II"
   ]
  },
  {
   "cell_type": "code",
   "execution_count": 38,
   "metadata": {
    "scrolled": false
   },
   "outputs": [],
   "source": [
    "nhanesII = pd.read_stata(\"/Users/bryankim/Documents/NBER/Case Deaton/Data/FRS/ATP3/nhanesII_frs_atp3.dta\")\n",
    "nhanesII.head()\n",
    "test=nhanesII.head()"
   ]
  },
  {
   "cell_type": "markdown",
   "metadata": {},
   "source": [
    "See Ranges"
   ]
  },
  {
   "cell_type": "code",
   "execution_count": 39,
   "metadata": {},
   "outputs": [
    {
     "name": "stdout",
     "output_type": "stream",
     "text": [
      "AGEYR_AT_INT    45.0\n",
      "SEX              1.0\n",
      "lbdhdd          15.0\n",
      "lbxtc           80.0\n",
      "treated          0.0\n",
      "asbp            70.0\n",
      "curr_smq         0.0\n",
      "dtype: float64\n",
      "AGEYR_AT_INT     74.0\n",
      "SEX               2.0\n",
      "lbdhdd          187.0\n",
      "lbxtc           644.0\n",
      "treated           1.0\n",
      "asbp            300.0\n",
      "curr_smq          1.0\n",
      "dtype: float64\n"
     ]
    },
    {
     "data": {
      "text/plain": [
       "False"
      ]
     },
     "execution_count": 39,
     "metadata": {},
     "output_type": "execute_result"
    }
   ],
   "source": [
    "print(nhanesII[[\"AGEYR_AT_INT\",\"SEX\",\"lbdhdd\",\"lbxtc\",\"treated\",\"asbp\",\"curr_smq\"]].min())\n",
    "print(nhanesII[[\"AGEYR_AT_INT\",\"SEX\",\"lbdhdd\",\"lbxtc\",\"treated\",\"asbp\",\"curr_smq\"]].max())\n",
    "nhanesII.curr_smq.value_counts()\n",
    "nhanesII[\"curr_smq\"][1]==1"
   ]
  },
  {
   "cell_type": "markdown",
   "metadata": {},
   "source": [
    "Create `treated` variable"
   ]
  },
  {
   "cell_type": "markdown",
   "metadata": {},
   "source": [
    "Define `check` functions for females"
   ]
  },
  {
   "cell_type": "code",
   "execution_count": 5,
   "metadata": {},
   "outputs": [],
   "source": [
    "def ftchol_pts(totchol,age):\n",
    "    if totchol < 160:\n",
    "        return(0)\n",
    "    if totchol in range(160,199+1):\n",
    "        if age in range(20,39+1): return(4)\n",
    "        if age in range(40,49+1): return(3) \n",
    "        if age in range(50,59+1): return(2) \n",
    "        if age in range(60,69+1): return(1) \n",
    "        if age >= 70: return(1) \n",
    "    if totchol in range(200,239+1):\n",
    "        if age in range(20,39+1): return(8) \n",
    "        if age in range(40,49+1): return(6) \n",
    "        if age in range(50,59+1): return(4) \n",
    "        if age in range(60,69+1): return(2) \n",
    "        if age >= 70: return(1) \n",
    "    if totchol in range(240,279+1):\n",
    "        if age in range(20,39+1): return(11) \n",
    "        if age in range(40,49+1): return(8) \n",
    "        if age in range(50,59+1): return(5) \n",
    "        if age in range(60,69+1): return(3) \n",
    "        if age >= 70: return(2) \n",
    "    if totchol >= 280:\n",
    "        if age in range(20,39+1): return(13) \n",
    "        if age in range(40,49+1): return(10)\n",
    "        if age in range(50,59+1): return(7)\n",
    "        if age in range(60,69+1): return(4) \n",
    "        if age >= 70: return(2) \n",
    "    \n",
    "def fsmoke_pts(curr_smq,age):\n",
    "    if curr_smq == 0:\n",
    "        return(0)\n",
    "    if curr_smq == 1:\n",
    "        if age in range(20,39+1): return(9) \n",
    "        if age in range(40,49+1): return(7) \n",
    "        if age in range(50,59+1): return(4) \n",
    "        if age in range(60,69+1): return(2)\n",
    "        if age >= 70: return(1) \n",
    "\n",
    "    \n",
    "def fsbp_pts(sbp,treated):\n",
    "    if sbp < 120:\n",
    "        return(0)\n",
    "    if sbp in range(120,129+1):\n",
    "        return(3) if treated == 1 else 1\n",
    "    if sbp in range(130,139+1):\n",
    "        return(4) if treated == 1 else 2\n",
    "    if sbp in range(140,159+1):\n",
    "        return(5) if treated == 1 else 3\n",
    "    if sbp >= 160:\n",
    "        return(6) if treated == 1 else 4\n",
    "    \n",
    "def fage_pts(age):\n",
    "    if age in range(45,49+1):\n",
    "        return(3)\n",
    "    if age in range(50,54+1):\n",
    "        return(6)\n",
    "    if age in range(55,59+1):\n",
    "        return(8)\n",
    "    if age in range(60,64+1):\n",
    "        return(10)\n",
    "    if age in range(65,69+1):\n",
    "        return(12)\n",
    "    if age in range(70,74+1):\n",
    "        return(14)\n",
    "    if age >= 75:\n",
    "        return(16)\n",
    "\n",
    "def fhdl_pts(hdl):\n",
    "    if hdl >= 60:\n",
    "        return(-1)\n",
    "    if hdl in range(50,59+1):\n",
    "        return(0)\n",
    "    if hdl in range(40,49+1):\n",
    "        return(1)\n",
    "    if hdl < 40:\n",
    "        return(2)"
   ]
  },
  {
   "cell_type": "markdown",
   "metadata": {},
   "source": [
    "Define `check` functions for males"
   ]
  },
  {
   "cell_type": "code",
   "execution_count": 6,
   "metadata": {},
   "outputs": [],
   "source": [
    "def mtchol_pts(totchol,age):\n",
    "    if totchol < 160:\n",
    "        return(0)\n",
    "    if totchol in range(160,199+1):\n",
    "        if age in range(20,39+1): return(4)\n",
    "        if age in range(40,49+1): return(3) \n",
    "        if age in range(50,59+1): return(2) \n",
    "        if age in range(60,69+1): return(1) \n",
    "        if age >= 70: return(0) \n",
    "    if totchol in range(200,239+1):\n",
    "        if age in range(20,39+1): return(7) \n",
    "        if age in range(40,49+1): return(5) \n",
    "        if age in range(50,59+1): return(3) \n",
    "        if age in range(60,69+1): return(1) \n",
    "        if age >= 70: return(0) \n",
    "    if totchol in range(240,279+1):\n",
    "        if age in range(20,39+1): return(9) \n",
    "        if age in range(40,49+1): return(6) \n",
    "        if age in range(50,59+1): return(4) \n",
    "        if age in range(60,69+1): return(2) \n",
    "        if age >= 70: return(1) \n",
    "    if totchol >= 280:\n",
    "        if age in range(20,39+1): return(11) \n",
    "        if age in range(40,49+1): return(8)\n",
    "        if age in range(50,59+1): return(5)\n",
    "        if age in range(60,69+1): return(3) \n",
    "        if age >= 70:return(1) \n",
    "\n",
    "\n",
    "#\n",
    " \n",
    "def msmoke_pts(curr_smq,age):\n",
    "    if curr_smq == 0:\n",
    "        return(0)\n",
    "    if curr_smq == 1:\n",
    "        if age in range(20,39+1): return(8) \n",
    "        if age in range(40,49+1): return(5) \n",
    "        if age in range(50,59+1): return(3) \n",
    "        if age in range(60,69+1): return(1)\n",
    "        if age >= 70: return(1)\n",
    "    \n",
    "def msbp_pts(sbp,treated):\n",
    "    if sbp < 120:\n",
    "        return(0)\n",
    "    if sbp in range(120,129+1):\n",
    "        return(1) if treated == 1 else 0\n",
    "    if sbp in range(130,159+1):\n",
    "        return(2) if treated == 1 else 1\n",
    "    if sbp >= 160:\n",
    "        return(3) if treated == 1 else 2\n",
    "    \n",
    "def mage_pts(age):\n",
    "    if age in range(45,49+1):\n",
    "        return(3)\n",
    "    if age in range(50,54+1):\n",
    "        return(6)\n",
    "    if age in range(55,59+1):\n",
    "        return(8)\n",
    "    if age in range(60,64+1):\n",
    "        return(10)\n",
    "    if age in range(65,69+1):\n",
    "        return(11)\n",
    "    if age in range(70,74+1):\n",
    "        return(12)\n",
    "    if age >= 75:\n",
    "        return(13)\n",
    "\n",
    "def mhdl_pts(hdl):\n",
    "    if hdl >= 60:\n",
    "        return(-1)\n",
    "    if hdl in range(50,59+1):\n",
    "        return(0)\n",
    "    if hdl in range(40,49+1):\n",
    "        return(1)\n",
    "    if hdl < 40:\n",
    "        return(2)"
   ]
  },
  {
   "cell_type": "code",
   "execution_count": 17,
   "metadata": {},
   "outputs": [],
   "source": [
    "def get_frs_atp3(sex,age,hdl,totchol,sbp,curr_smq,treated):\n",
    "    risk_score = 0\n",
    "    if sex == 1:\n",
    "        risk_score += mage_pts(age)\n",
    "        risk_score += mhdl_pts(hdl)\n",
    "        risk_score += mtchol_pts(totchol,age)\n",
    "        risk_score += msbp_pts(sbp,treated)\n",
    "        risk_score += msmoke_pts(curr_smq,age)\n",
    "    if sex == 2:\n",
    "        risk_score += fage_pts(age)\n",
    "        risk_score += fhdl_pts(hdl)\n",
    "        risk_score += ftchol_pts(totchol,age)\n",
    "        risk_score += fsbp_pts(sbp,treated)\n",
    "        risk_score += fsmoke_pts(curr_smq,age)\n",
    "    return(risk_score)\n",
    "\n",
    "def get_frs_atp3_nhanesII(x):\n",
    "    risk_score = 0\n",
    "    if x[\"SEX\"] == 1:\n",
    "        risk_score += mage_pts(x[\"AGEYR_AT_INT\"])\n",
    "        risk_score += mhdl_pts(x[\"lbdhdd\"])\n",
    "        risk_score += mtchol_pts(x[\"lbxtc\"],x[\"AGEYR_AT_INT\"])\n",
    "        risk_score += msbp_pts(x[\"asbp\"],x[\"treated\"])\n",
    "        risk_score += msmoke_pts(x[\"curr_smq\"],x[\"AGEYR_AT_INT\"])\n",
    "    if x[\"SEX\"] == 2:\n",
    "        risk_score += fage_pts(x[\"AGEYR_AT_INT\"])\n",
    "        risk_score += fhdl_pts(x[\"lbdhdd\"])\n",
    "        risk_score += ftchol_pts(x[\"lbxtc\"],x[\"AGEYR_AT_INT\"])\n",
    "        risk_score += fsbp_pts(x[\"asbp\"],x[\"treated\"])\n",
    "        risk_score += fsmoke_pts(x[\"curr_smq\"],x[\"AGEYR_AT_INT\"])\n",
    "    return(risk_score)\n"
   ]
  },
  {
   "cell_type": "markdown",
   "metadata": {},
   "source": [
    "    Need to complete cases of all variable (fields) before running `get_frs` function"
   ]
  },
  {
   "cell_type": "code",
   "execution_count": 35,
   "metadata": {},
   "outputs": [
    {
     "data": {
      "text/html": [
       "<div>\n",
       "<style scoped>\n",
       "    .dataframe tbody tr th:only-of-type {\n",
       "        vertical-align: middle;\n",
       "    }\n",
       "\n",
       "    .dataframe tbody tr th {\n",
       "        vertical-align: top;\n",
       "    }\n",
       "\n",
       "    .dataframe thead th {\n",
       "        text-align: right;\n",
       "    }\n",
       "</style>\n",
       "<table border=\"1\" class=\"dataframe\">\n",
       "  <thead>\n",
       "    <tr style=\"text-align: right;\">\n",
       "      <th></th>\n",
       "      <th>sepal length (cm)</th>\n",
       "      <th>sepal width (cm)</th>\n",
       "      <th>petal length (cm)</th>\n",
       "      <th>petal width (cm)</th>\n",
       "    </tr>\n",
       "  </thead>\n",
       "  <tbody>\n",
       "    <tr>\n",
       "      <th>0</th>\n",
       "      <td>5.1</td>\n",
       "      <td>3.5</td>\n",
       "      <td>1.4</td>\n",
       "      <td>0.2</td>\n",
       "    </tr>\n",
       "    <tr>\n",
       "      <th>1</th>\n",
       "      <td>4.9</td>\n",
       "      <td>3.0</td>\n",
       "      <td>1.4</td>\n",
       "      <td>0.2</td>\n",
       "    </tr>\n",
       "    <tr>\n",
       "      <th>2</th>\n",
       "      <td>4.7</td>\n",
       "      <td>3.2</td>\n",
       "      <td>1.3</td>\n",
       "      <td>0.2</td>\n",
       "    </tr>\n",
       "    <tr>\n",
       "      <th>3</th>\n",
       "      <td>4.6</td>\n",
       "      <td>3.1</td>\n",
       "      <td>1.5</td>\n",
       "      <td>0.2</td>\n",
       "    </tr>\n",
       "    <tr>\n",
       "      <th>4</th>\n",
       "      <td>5.0</td>\n",
       "      <td>3.6</td>\n",
       "      <td>1.4</td>\n",
       "      <td>0.2</td>\n",
       "    </tr>\n",
       "  </tbody>\n",
       "</table>\n",
       "</div>"
      ],
      "text/plain": [
       "   sepal length (cm)  sepal width (cm)  petal length (cm)  petal width (cm)\n",
       "0                5.1               3.5                1.4               0.2\n",
       "1                4.9               3.0                1.4               0.2\n",
       "2                4.7               3.2                1.3               0.2\n",
       "3                4.6               3.1                1.5               0.2\n",
       "4                5.0               3.6                1.4               0.2"
      ]
     },
     "execution_count": 35,
     "metadata": {},
     "output_type": "execute_result"
    }
   ],
   "source": [
    "from sklearn.datasets import load_iris\n",
    "data = load_iris()\n",
    "features = pd.DataFrame(data = data['data'], columns= data ['feature_names'])\n",
    "features.head()"
   ]
  },
  {
   "cell_type": "code",
   "execution_count": 8,
   "metadata": {
    "collapsed": true
   },
   "outputs": [
    {
     "data": {
      "text/plain": [
       "5218"
      ]
     },
     "execution_count": 8,
     "metadata": {},
     "output_type": "execute_result"
    }
   ],
   "source": [
    "nhanesII=nhanesII.dropna(subset=[\"SEX\",\"AGEYR_AT_INT\",\"lbdhdd\",\"lbxtc\",\"asbp\",\"curr_smq\",\"treated\"])\n",
    "# count number of rows\n",
    "nhanesII.SEX.count()"
   ]
  },
  {
   "cell_type": "code",
   "execution_count": 60,
   "metadata": {
    "scrolled": false
   },
   "outputs": [
    {
     "data": {
      "text/plain": [
       "5218"
      ]
     },
     "execution_count": 60,
     "metadata": {},
     "output_type": "execute_result"
    }
   ],
   "source": [
    "nhanesII[\"frs_atp3\"]=list(map(get_frs_atp3,nhanesII[\"SEX\"],nhanesII[\"AGEYR_AT_INT\"],nhanesII[\"lbdhdd\"],nhanesII[\"lbxtc\"],nhanesII[\"asbp\"],nhanesII[\"curr_smq\"],nhanesII[\"treated\"])) \n",
    "nhanesII[\"frs_atp3\"].head()\n",
    "nhanesII.frs_atp3.count()"
   ]
  },
  {
   "cell_type": "code",
   "execution_count": 142,
   "metadata": {},
   "outputs": [],
   "source": [
    "nhanesII.to_stata(\"/Users/bryankim/Documents/NBER/Case Deaton/Data/FRS/ATP3/nhanesII_frs_atp3.dta\")"
   ]
  },
  {
   "cell_type": "markdown",
   "metadata": {},
   "source": [
    "\n",
    "# NHANES III "
   ]
  },
  {
   "cell_type": "code",
   "execution_count": 116,
   "metadata": {},
   "outputs": [],
   "source": [
    "def get_frs_atp3_nhanesIII(x):\n",
    "    risk_score = 0\n",
    "    if x[\"HSSEX\"] == 1:\n",
    "        risk_score += mage_pts(x[\"HSAGEIR\"])\n",
    "        risk_score += mhdl_pts(x[\"HDP\"])\n",
    "        risk_score += mtchol_pts(x[\"TCP\"],x[\"HSAGEIR\"])\n",
    "        risk_score += msbp_pts(x[\"asbp\"],x[\"treated\"])\n",
    "        risk_score += msmoke_pts(x[\"curr_smq\"],x[\"HSAGEIR\"])\n",
    "    if x[\"HSSEX\"] == 2:\n",
    "        risk_score += fage_pts(x[\"HSAGEIR\"])\n",
    "        risk_score += fhdl_pts(x[\"HDP\"])\n",
    "        risk_score += ftchol_pts(x[\"TCP\"],x[\"HSAGEIR\"])\n",
    "        risk_score += fsbp_pts(x[\"asbp\"],x[\"treated\"])\n",
    "        risk_score += fsmoke_pts(x[\"curr_smq\"],x[\"HSAGEIR\"])\n",
    "    return(risk_score)"
   ]
  },
  {
   "cell_type": "markdown",
   "metadata": {},
   "source": [
    "## Phase 1"
   ]
  },
  {
   "cell_type": "code",
   "execution_count": 129,
   "metadata": {
    "scrolled": false
   },
   "outputs": [
    {
     "data": {
      "text/html": [
       "<div>\n",
       "<style scoped>\n",
       "    .dataframe tbody tr th:only-of-type {\n",
       "        vertical-align: middle;\n",
       "    }\n",
       "\n",
       "    .dataframe tbody tr th {\n",
       "        vertical-align: top;\n",
       "    }\n",
       "\n",
       "    .dataframe thead th {\n",
       "        text-align: right;\n",
       "    }\n",
       "</style>\n",
       "<table border=\"1\" class=\"dataframe\">\n",
       "  <thead>\n",
       "    <tr style=\"text-align: right;\">\n",
       "      <th></th>\n",
       "      <th>SEQN</th>\n",
       "      <th>SDPPHASE</th>\n",
       "      <th>WTPFQX6</th>\n",
       "      <th>WTPFEX6</th>\n",
       "      <th>WTPFHX6</th>\n",
       "      <th>WTPFQX1</th>\n",
       "      <th>WTPFEX1</th>\n",
       "      <th>WTPFHX1</th>\n",
       "      <th>WTPFQX2</th>\n",
       "      <th>WTPFEX2</th>\n",
       "      <th>...</th>\n",
       "      <th>TCP</th>\n",
       "      <th>GHP</th>\n",
       "      <th>fpg</th>\n",
       "      <th>_merge</th>\n",
       "      <th>smoke_sts</th>\n",
       "      <th>heaviest_weight_kg</th>\n",
       "      <th>height_meters_sq</th>\n",
       "      <th>maxbmi</th>\n",
       "      <th>curr_smq</th>\n",
       "      <th>former_smq</th>\n",
       "    </tr>\n",
       "  </thead>\n",
       "  <tbody>\n",
       "    <tr>\n",
       "      <th>0</th>\n",
       "      <td>00009</td>\n",
       "      <td>1</td>\n",
       "      <td>18155.150391</td>\n",
       "      <td>19521.359375</td>\n",
       "      <td>19451.830078</td>\n",
       "      <td>36310.308594</td>\n",
       "      <td>39042.718750</td>\n",
       "      <td>38903.671875</td>\n",
       "      <td>NaN</td>\n",
       "      <td>NaN</td>\n",
       "      <td>...</td>\n",
       "      <td>236.0</td>\n",
       "      <td>5.3</td>\n",
       "      <td>111.300003</td>\n",
       "      <td>matched (3)</td>\n",
       "      <td>1.0</td>\n",
       "      <td>66.678024</td>\n",
       "      <td>2.461761</td>\n",
       "      <td>27.085501</td>\n",
       "      <td>0.0</td>\n",
       "      <td>0.0</td>\n",
       "    </tr>\n",
       "    <tr>\n",
       "      <th>1</th>\n",
       "      <td>00011</td>\n",
       "      <td>1</td>\n",
       "      <td>1166.439941</td>\n",
       "      <td>1248.430054</td>\n",
       "      <td>1245.520020</td>\n",
       "      <td>2332.870117</td>\n",
       "      <td>2496.860107</td>\n",
       "      <td>2491.030029</td>\n",
       "      <td>NaN</td>\n",
       "      <td>NaN</td>\n",
       "      <td>...</td>\n",
       "      <td>260.0</td>\n",
       "      <td>9.1</td>\n",
       "      <td>271.700012</td>\n",
       "      <td>matched (3)</td>\n",
       "      <td>1.0</td>\n",
       "      <td>86.182480</td>\n",
       "      <td>2.829124</td>\n",
       "      <td>30.462605</td>\n",
       "      <td>0.0</td>\n",
       "      <td>0.0</td>\n",
       "    </tr>\n",
       "    <tr>\n",
       "      <th>2</th>\n",
       "      <td>00048</td>\n",
       "      <td>1</td>\n",
       "      <td>22847.910156</td>\n",
       "      <td>27257.880859</td>\n",
       "      <td>26919.289062</td>\n",
       "      <td>45695.828125</td>\n",
       "      <td>54515.769531</td>\n",
       "      <td>53838.570312</td>\n",
       "      <td>NaN</td>\n",
       "      <td>NaN</td>\n",
       "      <td>...</td>\n",
       "      <td>156.0</td>\n",
       "      <td>5.0</td>\n",
       "      <td>84.900002</td>\n",
       "      <td>matched (3)</td>\n",
       "      <td>1.0</td>\n",
       "      <td>117.480331</td>\n",
       "      <td>2.944656</td>\n",
       "      <td>39.896111</td>\n",
       "      <td>0.0</td>\n",
       "      <td>0.0</td>\n",
       "    </tr>\n",
       "    <tr>\n",
       "      <th>3</th>\n",
       "      <td>00049</td>\n",
       "      <td>1</td>\n",
       "      <td>3838.909912</td>\n",
       "      <td>6290.859863</td>\n",
       "      <td>5043.859863</td>\n",
       "      <td>7677.819824</td>\n",
       "      <td>12581.719727</td>\n",
       "      <td>10087.719727</td>\n",
       "      <td>NaN</td>\n",
       "      <td>NaN</td>\n",
       "      <td>...</td>\n",
       "      <td>179.0</td>\n",
       "      <td>5.7</td>\n",
       "      <td>83.300003</td>\n",
       "      <td>matched (3)</td>\n",
       "      <td>2.0</td>\n",
       "      <td>56.699001</td>\n",
       "      <td>2.286144</td>\n",
       "      <td>24.801151</td>\n",
       "      <td>0.0</td>\n",
       "      <td>0.0</td>\n",
       "    </tr>\n",
       "    <tr>\n",
       "      <th>4</th>\n",
       "      <td>00052</td>\n",
       "      <td>1</td>\n",
       "      <td>1292.680054</td>\n",
       "      <td>1401.839966</td>\n",
       "      <td>1398.569946</td>\n",
       "      <td>2585.370117</td>\n",
       "      <td>2803.679932</td>\n",
       "      <td>2797.149902</td>\n",
       "      <td>NaN</td>\n",
       "      <td>NaN</td>\n",
       "      <td>...</td>\n",
       "      <td>244.0</td>\n",
       "      <td>5.9</td>\n",
       "      <td>96.300003</td>\n",
       "      <td>matched (3)</td>\n",
       "      <td>2.0</td>\n",
       "      <td>83.914520</td>\n",
       "      <td>3.175524</td>\n",
       "      <td>26.425409</td>\n",
       "      <td>0.0</td>\n",
       "      <td>0.0</td>\n",
       "    </tr>\n",
       "  </tbody>\n",
       "</table>\n",
       "<p>5 rows × 122 columns</p>\n",
       "</div>"
      ],
      "text/plain": [
       "    SEQN  SDPPHASE       WTPFQX6       WTPFEX6       WTPFHX6       WTPFQX1  \\\n",
       "0  00009         1  18155.150391  19521.359375  19451.830078  36310.308594   \n",
       "1  00011         1   1166.439941   1248.430054   1245.520020   2332.870117   \n",
       "2  00048         1  22847.910156  27257.880859  26919.289062  45695.828125   \n",
       "3  00049         1   3838.909912   6290.859863   5043.859863   7677.819824   \n",
       "4  00052         1   1292.680054   1401.839966   1398.569946   2585.370117   \n",
       "\n",
       "        WTPFEX1       WTPFHX1  WTPFQX2  WTPFEX2  ...    TCP  GHP         fpg  \\\n",
       "0  39042.718750  38903.671875      NaN      NaN  ...  236.0  5.3  111.300003   \n",
       "1   2496.860107   2491.030029      NaN      NaN  ...  260.0  9.1  271.700012   \n",
       "2  54515.769531  53838.570312      NaN      NaN  ...  156.0  5.0   84.900002   \n",
       "3  12581.719727  10087.719727      NaN      NaN  ...  179.0  5.7   83.300003   \n",
       "4   2803.679932   2797.149902      NaN      NaN  ...  244.0  5.9   96.300003   \n",
       "\n",
       "        _merge  smoke_sts  heaviest_weight_kg  height_meters_sq     maxbmi  \\\n",
       "0  matched (3)        1.0           66.678024          2.461761  27.085501   \n",
       "1  matched (3)        1.0           86.182480          2.829124  30.462605   \n",
       "2  matched (3)        1.0          117.480331          2.944656  39.896111   \n",
       "3  matched (3)        2.0           56.699001          2.286144  24.801151   \n",
       "4  matched (3)        2.0           83.914520          3.175524  26.425409   \n",
       "\n",
       "   curr_smq  former_smq  \n",
       "0       0.0         0.0  \n",
       "1       0.0         0.0  \n",
       "2       0.0         0.0  \n",
       "3       0.0         0.0  \n",
       "4       0.0         0.0  \n",
       "\n",
       "[5 rows x 122 columns]"
      ]
     },
     "execution_count": 129,
     "metadata": {},
     "output_type": "execute_result"
    }
   ],
   "source": [
    "nhanesIIIP1 = pd.read_stata(\"/Users/bryankim/Documents/NBER/Case Deaton/Data/FRS/ATP3/nhanesIII_P1x_frs_atp3.dta\")\n",
    "nhanesIIIP1.head()"
   ]
  },
  {
   "cell_type": "code",
   "execution_count": 130,
   "metadata": {
    "scrolled": false
   },
   "outputs": [
    {
     "name": "stdout",
     "output_type": "stream",
     "text": [
      "HSSEX        1.0\n",
      "HSAGEIR     45.0\n",
      "HDP         13.0\n",
      "TCP         98.0\n",
      "treated      0.0\n",
      "asbp        80.0\n",
      "curr_smq     0.0\n",
      "dtype: float32\n",
      "HSSEX         2.0\n",
      "HSAGEIR      90.0\n",
      "HDP         191.0\n",
      "TCP         464.0\n",
      "treated       1.0\n",
      "asbp        230.0\n",
      "curr_smq      1.0\n",
      "dtype: float32\n"
     ]
    },
    {
     "data": {
      "text/plain": [
       "False"
      ]
     },
     "execution_count": 130,
     "metadata": {},
     "output_type": "execute_result"
    }
   ],
   "source": [
    "print(nhanesIIIP1[[\"HSSEX\",\"HSAGEIR\",\"HDP\",\"TCP\",\"treated\",\"asbp\",\"curr_smq\"]].min())\n",
    "print(nhanesIIIP1[[\"HSSEX\",\"HSAGEIR\",\"HDP\",\"TCP\",\"treated\",\"asbp\",\"curr_smq\"]].max())\n",
    "nhanesIIIP1.curr_smq.value_counts()\n",
    "nhanesIIIP1[\"curr_smq\"][1]==1"
   ]
  },
  {
   "cell_type": "code",
   "execution_count": 131,
   "metadata": {},
   "outputs": [
    {
     "data": {
      "text/plain": [
       "3827"
      ]
     },
     "execution_count": 131,
     "metadata": {},
     "output_type": "execute_result"
    }
   ],
   "source": [
    "nhanesIIIP1=nhanesIIIP1.dropna(subset=[\"HSSEX\",\"HSAGEIR\",\"HDP\",\"TCP\",\"treated\",\"asbp\",\"curr_smq\"])\n",
    "# count number of rows\n",
    "nhanesIIIP1.HSSEX.count()"
   ]
  },
  {
   "cell_type": "code",
   "execution_count": 132,
   "metadata": {},
   "outputs": [
    {
     "data": {
      "text/plain": [
       "3827"
      ]
     },
     "execution_count": 132,
     "metadata": {},
     "output_type": "execute_result"
    }
   ],
   "source": [
    "nhanesIIIP1[\"frs_atp3\"]=nhanesIIIP1.apply(get_frs_atp3_nhanesIII, axis=1)\n",
    "nhanesIIIP1[\"frs_atp3\"].head()\n",
    "nhanesIIIP1.frs_atp3.count()"
   ]
  },
  {
   "cell_type": "markdown",
   "metadata": {},
   "source": [
    "save"
   ]
  },
  {
   "cell_type": "code",
   "execution_count": 133,
   "metadata": {},
   "outputs": [],
   "source": [
    "nhanesIIIP1.to_stata(\"/Users/bryankim/Documents/NBER/Case Deaton/Data/FRS/ATP3/nhanesIII_P1x_frs_atp3.dta\")"
   ]
  },
  {
   "cell_type": "markdown",
   "metadata": {},
   "source": [
    "## Phase 2"
   ]
  },
  {
   "cell_type": "code",
   "execution_count": 134,
   "metadata": {
    "scrolled": true
   },
   "outputs": [
    {
     "data": {
      "text/html": [
       "<div>\n",
       "<style scoped>\n",
       "    .dataframe tbody tr th:only-of-type {\n",
       "        vertical-align: middle;\n",
       "    }\n",
       "\n",
       "    .dataframe tbody tr th {\n",
       "        vertical-align: top;\n",
       "    }\n",
       "\n",
       "    .dataframe thead th {\n",
       "        text-align: right;\n",
       "    }\n",
       "</style>\n",
       "<table border=\"1\" class=\"dataframe\">\n",
       "  <thead>\n",
       "    <tr style=\"text-align: right;\">\n",
       "      <th></th>\n",
       "      <th>SEQN</th>\n",
       "      <th>SDPPHASE</th>\n",
       "      <th>WTPFQX6</th>\n",
       "      <th>WTPFEX6</th>\n",
       "      <th>WTPFHX6</th>\n",
       "      <th>WTPFQX1</th>\n",
       "      <th>WTPFEX1</th>\n",
       "      <th>WTPFHX1</th>\n",
       "      <th>WTPFQX2</th>\n",
       "      <th>WTPFEX2</th>\n",
       "      <th>...</th>\n",
       "      <th>TCP</th>\n",
       "      <th>GHP</th>\n",
       "      <th>fpg</th>\n",
       "      <th>_merge</th>\n",
       "      <th>smoke_sts</th>\n",
       "      <th>heaviest_weight_kg</th>\n",
       "      <th>height_meters_sq</th>\n",
       "      <th>maxbmi</th>\n",
       "      <th>curr_smq</th>\n",
       "      <th>former_smq</th>\n",
       "    </tr>\n",
       "  </thead>\n",
       "  <tbody>\n",
       "    <tr>\n",
       "      <th>0</th>\n",
       "      <td>32234</td>\n",
       "      <td>2</td>\n",
       "      <td>3901.040039</td>\n",
       "      <td>4921.580078</td>\n",
       "      <td>4653.689941</td>\n",
       "      <td>NaN</td>\n",
       "      <td>NaN</td>\n",
       "      <td>NaN</td>\n",
       "      <td>7802.080078</td>\n",
       "      <td>9843.160156</td>\n",
       "      <td>...</td>\n",
       "      <td>218.0</td>\n",
       "      <td>5.6</td>\n",
       "      <td>93.199997</td>\n",
       "      <td>matched (3)</td>\n",
       "      <td>2.0</td>\n",
       "      <td>84.368111</td>\n",
       "      <td>2.128681</td>\n",
       "      <td>39.633987</td>\n",
       "      <td>0.0</td>\n",
       "      <td>0.0</td>\n",
       "    </tr>\n",
       "    <tr>\n",
       "      <th>1</th>\n",
       "      <td>32237</td>\n",
       "      <td>2</td>\n",
       "      <td>17064.070312</td>\n",
       "      <td>22764.519531</td>\n",
       "      <td>19967.550781</td>\n",
       "      <td>NaN</td>\n",
       "      <td>NaN</td>\n",
       "      <td>NaN</td>\n",
       "      <td>34128.128906</td>\n",
       "      <td>45529.031250</td>\n",
       "      <td>...</td>\n",
       "      <td>207.0</td>\n",
       "      <td>4.7</td>\n",
       "      <td>108.699997</td>\n",
       "      <td>matched (3)</td>\n",
       "      <td>1.0</td>\n",
       "      <td>78.471413</td>\n",
       "      <td>2.712609</td>\n",
       "      <td>28.928392</td>\n",
       "      <td>0.0</td>\n",
       "      <td>0.0</td>\n",
       "    </tr>\n",
       "    <tr>\n",
       "      <th>2</th>\n",
       "      <td>32239</td>\n",
       "      <td>2</td>\n",
       "      <td>20516.560547</td>\n",
       "      <td>21877.720703</td>\n",
       "      <td>21963.820312</td>\n",
       "      <td>NaN</td>\n",
       "      <td>NaN</td>\n",
       "      <td>NaN</td>\n",
       "      <td>41033.121094</td>\n",
       "      <td>43755.441406</td>\n",
       "      <td>...</td>\n",
       "      <td>261.0</td>\n",
       "      <td>5.7</td>\n",
       "      <td>85.699997</td>\n",
       "      <td>matched (3)</td>\n",
       "      <td>2.0</td>\n",
       "      <td>97.522278</td>\n",
       "      <td>2.544025</td>\n",
       "      <td>38.333851</td>\n",
       "      <td>0.0</td>\n",
       "      <td>0.0</td>\n",
       "    </tr>\n",
       "    <tr>\n",
       "      <th>3</th>\n",
       "      <td>32245</td>\n",
       "      <td>2</td>\n",
       "      <td>1987.650024</td>\n",
       "      <td>2112.399902</td>\n",
       "      <td>2110.250000</td>\n",
       "      <td>NaN</td>\n",
       "      <td>NaN</td>\n",
       "      <td>NaN</td>\n",
       "      <td>3975.310059</td>\n",
       "      <td>4224.790039</td>\n",
       "      <td>...</td>\n",
       "      <td>278.0</td>\n",
       "      <td>6.3</td>\n",
       "      <td>101.199997</td>\n",
       "      <td>matched (3)</td>\n",
       "      <td>1.0</td>\n",
       "      <td>88.450439</td>\n",
       "      <td>2.979076</td>\n",
       "      <td>29.690559</td>\n",
       "      <td>0.0</td>\n",
       "      <td>0.0</td>\n",
       "    </tr>\n",
       "    <tr>\n",
       "      <th>4</th>\n",
       "      <td>32247</td>\n",
       "      <td>2</td>\n",
       "      <td>1024.560059</td>\n",
       "      <td>1071.859985</td>\n",
       "      <td>1070.800049</td>\n",
       "      <td>NaN</td>\n",
       "      <td>NaN</td>\n",
       "      <td>NaN</td>\n",
       "      <td>2049.120117</td>\n",
       "      <td>2143.709961</td>\n",
       "      <td>...</td>\n",
       "      <td>166.0</td>\n",
       "      <td>4.8</td>\n",
       "      <td>135.199997</td>\n",
       "      <td>matched (3)</td>\n",
       "      <td>2.0</td>\n",
       "      <td>68.038803</td>\n",
       "      <td>2.383936</td>\n",
       "      <td>28.540535</td>\n",
       "      <td>0.0</td>\n",
       "      <td>0.0</td>\n",
       "    </tr>\n",
       "  </tbody>\n",
       "</table>\n",
       "<p>5 rows × 122 columns</p>\n",
       "</div>"
      ],
      "text/plain": [
       "    SEQN  SDPPHASE       WTPFQX6       WTPFEX6       WTPFHX6  WTPFQX1  \\\n",
       "0  32234         2   3901.040039   4921.580078   4653.689941      NaN   \n",
       "1  32237         2  17064.070312  22764.519531  19967.550781      NaN   \n",
       "2  32239         2  20516.560547  21877.720703  21963.820312      NaN   \n",
       "3  32245         2   1987.650024   2112.399902   2110.250000      NaN   \n",
       "4  32247         2   1024.560059   1071.859985   1070.800049      NaN   \n",
       "\n",
       "   WTPFEX1  WTPFHX1       WTPFQX2       WTPFEX2  ...    TCP  GHP         fpg  \\\n",
       "0      NaN      NaN   7802.080078   9843.160156  ...  218.0  5.6   93.199997   \n",
       "1      NaN      NaN  34128.128906  45529.031250  ...  207.0  4.7  108.699997   \n",
       "2      NaN      NaN  41033.121094  43755.441406  ...  261.0  5.7   85.699997   \n",
       "3      NaN      NaN   3975.310059   4224.790039  ...  278.0  6.3  101.199997   \n",
       "4      NaN      NaN   2049.120117   2143.709961  ...  166.0  4.8  135.199997   \n",
       "\n",
       "        _merge  smoke_sts  heaviest_weight_kg  height_meters_sq     maxbmi  \\\n",
       "0  matched (3)        2.0           84.368111          2.128681  39.633987   \n",
       "1  matched (3)        1.0           78.471413          2.712609  28.928392   \n",
       "2  matched (3)        2.0           97.522278          2.544025  38.333851   \n",
       "3  matched (3)        1.0           88.450439          2.979076  29.690559   \n",
       "4  matched (3)        2.0           68.038803          2.383936  28.540535   \n",
       "\n",
       "   curr_smq  former_smq  \n",
       "0       0.0         0.0  \n",
       "1       0.0         0.0  \n",
       "2       0.0         0.0  \n",
       "3       0.0         0.0  \n",
       "4       0.0         0.0  \n",
       "\n",
       "[5 rows x 122 columns]"
      ]
     },
     "execution_count": 134,
     "metadata": {},
     "output_type": "execute_result"
    }
   ],
   "source": [
    "nhanesIIIP2 = pd.read_stata(\"/Users/bryankim/Documents/NBER/Case Deaton/Data/FRS/ATP3/nhanesIII_P2x_frs_atp3.dta\")\n",
    "nhanesIIIP2.head()"
   ]
  },
  {
   "cell_type": "code",
   "execution_count": 135,
   "metadata": {
    "scrolled": false
   },
   "outputs": [
    {
     "name": "stdout",
     "output_type": "stream",
     "text": [
      "HSSEX        1.0\n",
      "HSAGEIR     45.0\n",
      "HDP         12.0\n",
      "TCP         59.0\n",
      "treated      0.0\n",
      "asbp        81.0\n",
      "curr_smq     0.0\n",
      "dtype: float32\n",
      "HSSEX         2.0\n",
      "HSAGEIR      90.0\n",
      "HDP         179.0\n",
      "TCP         501.0\n",
      "treated       1.0\n",
      "asbp        244.0\n",
      "curr_smq      1.0\n",
      "dtype: float32\n"
     ]
    },
    {
     "data": {
      "text/plain": [
       "False"
      ]
     },
     "execution_count": 135,
     "metadata": {},
     "output_type": "execute_result"
    }
   ],
   "source": [
    "print(nhanesIIIP2[[\"HSSEX\",\"HSAGEIR\",\"HDP\",\"TCP\",\"treated\",\"asbp\",\"curr_smq\"]].min())\n",
    "print(nhanesIIIP2[[\"HSSEX\",\"HSAGEIR\",\"HDP\",\"TCP\",\"treated\",\"asbp\",\"curr_smq\"]].max())\n",
    "nhanesIIIP2.curr_smq.value_counts()\n",
    "nhanesIIIP2[\"curr_smq\"][1]==1"
   ]
  },
  {
   "cell_type": "code",
   "execution_count": 136,
   "metadata": {
    "scrolled": true
   },
   "outputs": [
    {
     "data": {
      "text/plain": [
       "3798"
      ]
     },
     "execution_count": 136,
     "metadata": {},
     "output_type": "execute_result"
    }
   ],
   "source": [
    "nhanesIIIP2=nhanesIIIP2.dropna(subset=[\"HSSEX\",\"HSAGEIR\",\"HDP\",\"TCP\",\"treated\",\"asbp\",\"curr_smq\"])\n",
    "# count number of rows\n",
    "nhanesIIIP2.HSSEX.count()"
   ]
  },
  {
   "cell_type": "code",
   "execution_count": 137,
   "metadata": {},
   "outputs": [
    {
     "data": {
      "text/plain": [
       "3798"
      ]
     },
     "execution_count": 137,
     "metadata": {},
     "output_type": "execute_result"
    }
   ],
   "source": [
    "nhanesIIIP2[\"frs_atp3\"]=nhanesIIIP2.apply(get_frs_atp3_nhanesIII, axis=1)\n",
    "nhanesIIIP2[\"frs_atp3\"].head()\n",
    "nhanesIIIP2.frs_atp3.count()"
   ]
  },
  {
   "cell_type": "markdown",
   "metadata": {},
   "source": [
    "save"
   ]
  },
  {
   "cell_type": "code",
   "execution_count": 138,
   "metadata": {},
   "outputs": [],
   "source": [
    "nhanesIIIP2.to_stata(\"/Users/bryankim/Documents/NBER/Case Deaton/Data/FRS/ATP3/nhanesIII_P2x_frs_atp3.dta\")"
   ]
  },
  {
   "cell_type": "markdown",
   "metadata": {},
   "source": [
    "# NHANES Continuous"
   ]
  },
  {
   "cell_type": "markdown",
   "metadata": {},
   "source": [
    "## Process"
   ]
  },
  {
   "cell_type": "code",
   "execution_count": 97,
   "metadata": {},
   "outputs": [
    {
     "data": {
      "text/plain": [
       "2218"
      ]
     },
     "execution_count": 97,
     "metadata": {},
     "output_type": "execute_result"
    }
   ],
   "source": [
    "nhanes1999_2000 = pd.read_stata(\"/Users/bryankim/Documents/NBER/Case Deaton/Data/FRS/ATP3/nhanes_1999_2000_frs_atp3.dta\")\n",
    "nhanes2001_2002 = pd.read_stata(\"/Users/bryankim/Documents/NBER/Case Deaton/Data/FRS/ATP3/nhanes_2001_2002_frs_atp3.dta\")\n",
    "nhanes2003_2004 = pd.read_stata(\"/Users/bryankim/Documents/NBER/Case Deaton/Data/FRS/ATP3/nhanes_2003_2004_frs_atp3.dta\")\n",
    "\n",
    "nhanes2005_2006 = pd.read_stata(\"/Users/bryankim/Documents/NBER/Case Deaton/Data/FRS/ATP3/nhanes_2005_2006_frs_atp3.dta\")\n",
    "\n",
    "nhanes2007_2008 = pd.read_stata(\"/Users/bryankim/Documents/NBER/Case Deaton/Data/FRS/ATP3/nhanes_2007_2008_frs_atp3.dta\")\n",
    "\n",
    "nhanes2009_2010 = pd.read_stata(\"/Users/bryankim/Documents/NBER/Case Deaton/Data/FRS/ATP3/nhanes_2009_2010_frs_atp3.dta\")\n",
    "\n",
    "nhanes2011_2012 = pd.read_stata(\"/Users/bryankim/Documents/NBER/Case Deaton/Data/FRS/ATP3/nhanes_2011_2012_frs_atp3.dta\")\n",
    "\n",
    "nhanes2013_2014 = pd.read_stata(\"/Users/bryankim/Documents/NBER/Case Deaton/Data/FRS/ATP3/nhanes_2013_2014_frs_atp3.dta\")\n",
    "\n",
    "nhanes2015_2016 = pd.read_stata(\"/Users/bryankim/Documents/NBER/Case Deaton/Data/FRS/ATP3/nhanes_2015_2016_frs_atp3.dta\")\n",
    "\n",
    "nhanes2017_2018 = pd.read_stata(\"/Users/bryankim/Documents/NBER/Case Deaton/Data/FRS/ATP3/nhanes_2017_2018_frs_atp3.dta\")\n",
    "\n",
    "nhanes1999_2000.riagendr.count()"
   ]
  },
  {
   "cell_type": "code",
   "execution_count": 98,
   "metadata": {},
   "outputs": [
    {
     "name": "stdout",
     "output_type": "stream",
     "text": [
      "treated    0.0\n",
      "dtype: float64\n"
     ]
    }
   ],
   "source": [
    "nhanes1999_2000=nhanes1999_2000.dropna(subset=[\"riagendr\",\"ridageyr\",\"hdl\",\"lbxtc\",\"asbp\",\"curr_smq\",\"treated\"])\n",
    "nhanes2001_2002=nhanes2001_2002.dropna(subset=[\"riagendr\",\"ridageyr\",\"hdl\",\"lbxtc\",\"asbp\",\"curr_smq\",\"treated\"])\n",
    "\n",
    "nhanes2003_2004=nhanes2003_2004.dropna(subset=[\"riagendr\",\"ridageyr\",\"hdl\",\"lbxtc\",\"asbp\",\"curr_smq\",\"treated\"])\n",
    "\n",
    "nhanes2005_2006=nhanes2005_2006.dropna(subset=[\"riagendr\",\"ridageyr\",\"hdl\",\"lbxtc\",\"asbp\",\"curr_smq\",\"treated\"])\n",
    "\n",
    "nhanes2007_2008=nhanes2007_2008.dropna(subset=[\"riagendr\",\"ridageyr\",\"hdl\",\"lbxtc\",\"asbp\",\"curr_smq\",\"treated\"])\n",
    "nhanes2009_2010=nhanes2009_2010.dropna(subset=[\"riagendr\",\"ridageyr\",\"hdl\",\"lbxtc\",\"asbp\",\"curr_smq\",\"treated\"])\n",
    "\n",
    "\n",
    "nhanes2011_2012=nhanes2011_2012.dropna(subset=[\"riagendr\",\"ridageyr\",\"hdl\",\"lbxtc\",\"asbp\",\"curr_smq\",\"treated\"])\n",
    "\n",
    "nhanes2013_2014=nhanes2013_2014.dropna(subset=[\"riagendr\",\"ridageyr\",\"hdl\",\"lbxtc\",\"asbp\",\"curr_smq\",\"treated\"])\n",
    "nhanes2015_2016=nhanes2015_2016.dropna(subset=[\"riagendr\",\"ridageyr\",\"hdl\",\"lbxtc\",\"asbp\",\"curr_smq\",\"treated\"])\n",
    "nhanes2017_2018=nhanes2017_2018.dropna(subset=[\"riagendr\",\"ridageyr\",\"hdl\",\"lbxtc\",\"asbp\",\"curr_smq\",\"treated\"])\n",
    "\n",
    "\n",
    "\n",
    "\n",
    "# count number of rows\n",
    "nhanes1999_2000.riagendr.count()\n",
    "nhanes1999_2000.treated.head()\n",
    "print(nhanes1999_2000[[\"treated\"]].min())"
   ]
  },
  {
   "cell_type": "code",
   "execution_count": 99,
   "metadata": {},
   "outputs": [],
   "source": [
    "def get_frs_atp3_cont(x):\n",
    "    risk_score = 0\n",
    "    if x[\"riagendr\"] == 1:\n",
    "        risk_score += mage_pts(x[\"ridageyr\"])\n",
    "        risk_score += mhdl_pts(x[\"hdl\"])\n",
    "        risk_score += mtchol_pts(x[\"lbxtc\"],x[\"ridageyr\"])\n",
    "        risk_score += msbp_pts(x[\"asbp\"],x[\"treated\"])\n",
    "        risk_score += msmoke_pts(x[\"curr_smq\"],x[\"ridageyr\"])\n",
    "    if x[\"riagendr\"] == 2:\n",
    "        risk_score += fage_pts(x[\"ridageyr\"])\n",
    "        risk_score += fhdl_pts(x[\"hdl\"])\n",
    "        risk_score += ftchol_pts(x[\"lbxtc\"],x[\"ridageyr\"])\n",
    "        risk_score += fsbp_pts(x[\"asbp\"],x[\"treated\"])\n",
    "        risk_score += fsmoke_pts(x[\"curr_smq\"],x[\"ridageyr\"])\n",
    "    return(risk_score)\n"
   ]
  },
  {
   "cell_type": "code",
   "execution_count": 100,
   "metadata": {},
   "outputs": [
    {
     "data": {
      "text/plain": [
       "2218"
      ]
     },
     "execution_count": 100,
     "metadata": {},
     "output_type": "execute_result"
    }
   ],
   "source": [
    "nhanes1999_2000[\"frs_atp3\"]=nhanes1999_2000.apply(get_frs_atp3_cont, axis=1)\n",
    "nhanes2001_2002[\"frs_atp3\"]=nhanes2001_2002.apply(get_frs_atp3_cont, axis=1)\n",
    "nhanes2003_2004[\"frs_atp3\"]=nhanes2003_2004.apply(get_frs_atp3_cont, axis=1)\n",
    "nhanes2005_2006[\"frs_atp3\"]=nhanes2005_2006.apply(get_frs_atp3_cont, axis=1)\n",
    "nhanes2007_2008[\"frs_atp3\"]=nhanes2007_2008.apply(get_frs_atp3_cont, axis=1)\n",
    "nhanes2009_2010[\"frs_atp3\"]=nhanes2009_2010.apply(get_frs_atp3_cont, axis=1)\n",
    "nhanes2011_2012[\"frs_atp3\"]=nhanes2011_2012.apply(get_frs_atp3_cont, axis=1)\n",
    "nhanes2013_2014[\"frs_atp3\"]=nhanes2013_2014.apply(get_frs_atp3_cont, axis=1)\n",
    "nhanes2015_2016[\"frs_atp3\"]=nhanes2015_2016.apply(get_frs_atp3_cont, axis=1)\n",
    "nhanes2017_2018[\"frs_atp3\"]=nhanes2017_2018.apply(get_frs_atp3_cont, axis=1)\n",
    "\n",
    "\n",
    "\n",
    "\n",
    "\n",
    "nhanes1999_2000[\"frs_atp3\"].head()\n",
    "nhanes1999_2000.frs_atp3.count()"
   ]
  },
  {
   "cell_type": "code",
   "execution_count": 102,
   "metadata": {},
   "outputs": [],
   "source": [
    "nhanes1999_2000.to_stata(\"/Users/bryankim/Documents/NBER/Case Deaton/Data/FRS/ATP3/nhanes_1999_2000_frs_atp3.dta\")\n",
    "nhanes2001_2002.to_stata(\"/Users/bryankim/Documents/NBER/Case Deaton/Data/FRS/ATP3/nhanes_2001_2002_frs_atp3.dta\")\n",
    "nhanes2003_2004.to_stata(\"/Users/bryankim/Documents/NBER/Case Deaton/Data/FRS/ATP3/nhanes_2003_2004_frs_atp3.dta\")\n",
    "nhanes2005_2006.to_stata(\"/Users/bryankim/Documents/NBER/Case Deaton/Data/FRS/ATP3/nhanes_2005_2006_frs_atp3.dta\")\n",
    "nhanes2007_2008.to_stata(\"/Users/bryankim/Documents/NBER/Case Deaton/Data/FRS/ATP3/nhanes_2007_2008_frs_atp3.dta\")\n",
    "nhanes2009_2010.to_stata(\"/Users/bryankim/Documents/NBER/Case Deaton/Data/FRS/ATP3/nhanes_2009_2010_frs_atp3.dta\")\n",
    "nhanes2011_2012.to_stata(\"/Users/bryankim/Documents/NBER/Case Deaton/Data/FRS/ATP3/nhanes_2011_2012_frs_atp3.dta\")\n",
    "nhanes2013_2014.to_stata(\"/Users/bryankim/Documents/NBER/Case Deaton/Data/FRS/ATP3/nhanes_2013_2014_frs_atp3.dta\")\n",
    "nhanes2015_2016.to_stata(\"/Users/bryankim/Documents/NBER/Case Deaton/Data/FRS/ATP3/nhanes_2015_2016_frs_atp3.dta\")\n",
    "nhanes2017_2018.to_stata(\"/Users/bryankim/Documents/NBER/Case Deaton/Data/FRS/ATP3/nhanes_2017_2018_frs_atp3.dta\")"
   ]
  },
  {
   "cell_type": "code",
   "execution_count": null,
   "metadata": {},
   "outputs": [],
   "source": []
  }
 ],
 "metadata": {
  "kernelspec": {
   "display_name": "Python 3",
   "language": "python",
   "name": "python3"
  },
  "language_info": {
   "codemirror_mode": {
    "name": "ipython",
    "version": 3
   },
   "file_extension": ".py",
   "mimetype": "text/x-python",
   "name": "python",
   "nbconvert_exporter": "python",
   "pygments_lexer": "ipython3",
   "version": "3.8.4"
  }
 },
 "nbformat": 4,
 "nbformat_minor": 4
}
